{
  "nbformat": 4,
  "nbformat_minor": 0,
  "metadata": {
    "colab": {
      "name": "Untitled10.ipynb",
      "provenance": [],
      "collapsed_sections": [],
      "authorship_tag": "ABX9TyO+w+tmBvhzZGOxgq2ouQHd",
      "include_colab_link": true
    },
    "kernelspec": {
      "name": "python3",
      "display_name": "Python 3"
    },
    "language_info": {
      "name": "python"
    }
  },
  "cells": [
    {
      "cell_type": "markdown",
      "metadata": {
        "id": "view-in-github",
        "colab_type": "text"
      },
      "source": [
        "<a href=\"https://colab.research.google.com/github/wangxioanke/deep-learning-notebook/blob/main/dgl.ipynb\" target=\"_parent\"><img src=\"https://colab.research.google.com/assets/colab-badge.svg\" alt=\"Open In Colab\"/></a>"
      ]
    },
    {
      "cell_type": "code",
      "metadata": {
        "colab": {
          "base_uri": "https://localhost:8080/"
        },
        "id": "jSXMVRM1U30K",
        "outputId": "f062f299-13ca-4182-93db-aaab308707fe"
      },
      "source": [
        "!wget -c https://mirrors.tuna.tsinghua.edu.cn/anaconda/archive/Anaconda3-5.3.1-Linux-x86_64.sh"
      ],
      "execution_count": 2,
      "outputs": [
        {
          "output_type": "stream",
          "name": "stdout",
          "text": [
            "--2021-11-11 04:51:18--  https://mirrors.tuna.tsinghua.edu.cn/anaconda/archive/Anaconda3-5.3.1-Linux-x86_64.sh\n",
            "Resolving mirrors.tuna.tsinghua.edu.cn (mirrors.tuna.tsinghua.edu.cn)... 101.6.15.130, 2402:f000:1:400::2\n",
            "Connecting to mirrors.tuna.tsinghua.edu.cn (mirrors.tuna.tsinghua.edu.cn)|101.6.15.130|:443... connected.\n",
            "HTTP request sent, awaiting response... 200 OK\n",
            "Length: 667976437 (637M) [application/octet-stream]\n",
            "Saving to: ‘Anaconda3-5.3.1-Linux-x86_64.sh’\n",
            "\n",
            "Anaconda3-5.3.1-Lin 100%[===================>] 637.03M  2.65MB/s    in 4m 11s  \n",
            "\n",
            "2021-11-11 04:55:31 (2.54 MB/s) - ‘Anaconda3-5.3.1-Linux-x86_64.sh’ saved [667976437/667976437]\n",
            "\n"
          ]
        }
      ]
    },
    {
      "cell_type": "code",
      "metadata": {
        "id": "pRcEQ2CwVSRT"
      },
      "source": [
        "\n",
        "!chmod +x Anaconda3-5.3.1-Linux-x86_64.sh"
      ],
      "execution_count": 3,
      "outputs": []
    },
    {
      "cell_type": "code",
      "metadata": {
        "colab": {
          "base_uri": "https://localhost:8080/"
        },
        "id": "eKxd9T1gVjJO",
        "outputId": "959ab556-6af0-4ea9-a5ac-ebd0c8905697"
      },
      "source": [
        "!bash ./Anaconda3-5.3.1-Linux-x86_64.sh -b -f -p /usr/local\n"
      ],
      "execution_count": 4,
      "outputs": [
        {
          "output_type": "stream",
          "name": "stdout",
          "text": [
            "PREFIX=/usr/local\n",
            "reinstalling: python-3.7.0-hc3d631a_0 ...\n",
            "Python 3.7.0\n",
            "reinstalling: blas-1.0-mkl ...\n",
            "reinstalling: ca-certificates-2018.03.07-0 ...\n",
            "reinstalling: conda-env-2.6.0-1 ...\n",
            "reinstalling: intel-openmp-2019.0-118 ...\n",
            "reinstalling: libgcc-ng-8.2.0-hdf63c60_1 ...\n",
            "reinstalling: libgfortran-ng-7.3.0-hdf63c60_0 ...\n",
            "reinstalling: libstdcxx-ng-8.2.0-hdf63c60_1 ...\n",
            "reinstalling: bzip2-1.0.6-h14c3975_5 ...\n",
            "reinstalling: expat-2.2.6-he6710b0_0 ...\n",
            "reinstalling: fribidi-1.0.5-h7b6447c_0 ...\n",
            "reinstalling: gmp-6.1.2-h6c8ec71_1 ...\n",
            "reinstalling: graphite2-1.3.12-h23475e2_2 ...\n",
            "reinstalling: icu-58.2-h9c2bf20_1 ...\n",
            "reinstalling: jbig-2.1-hdba287a_0 ...\n",
            "reinstalling: jpeg-9b-h024ee3a_2 ...\n",
            "reinstalling: libffi-3.2.1-hd88cf55_4 ...\n",
            "reinstalling: libsodium-1.0.16-h1bed415_0 ...\n",
            "reinstalling: libtool-2.4.6-h544aabb_3 ...\n",
            "reinstalling: libuuid-1.0.3-h1bed415_2 ...\n",
            "reinstalling: libxcb-1.13-h1bed415_1 ...\n",
            "reinstalling: lzo-2.10-h49e0be7_2 ...\n",
            "reinstalling: mkl-2019.0-118 ...\n",
            "reinstalling: ncurses-6.1-hf484d3e_0 ...\n",
            "reinstalling: openssl-1.0.2p-h14c3975_0 ...\n",
            "reinstalling: patchelf-0.9-hf484d3e_2 ...\n",
            "reinstalling: pcre-8.42-h439df22_0 ...\n",
            "reinstalling: pixman-0.34.0-hceecf20_3 ...\n",
            "reinstalling: snappy-1.1.7-hbae5bb6_3 ...\n",
            "reinstalling: xz-5.2.4-h14c3975_4 ...\n",
            "reinstalling: yaml-0.1.7-had09818_2 ...\n",
            "reinstalling: zlib-1.2.11-ha838bed_2 ...\n",
            "reinstalling: blosc-1.14.4-hdbcaa40_0 ...\n",
            "reinstalling: glib-2.56.2-hd408876_0 ...\n",
            "reinstalling: hdf5-1.10.2-hba1933b_1 ...\n",
            "reinstalling: libedit-3.1.20170329-h6b74fdf_2 ...\n",
            "reinstalling: libpng-1.6.34-hb9fc6fc_0 ...\n",
            "reinstalling: libssh2-1.8.0-h9cfc8f7_4 ...\n",
            "reinstalling: libtiff-4.0.9-he85c1e1_2 ...\n",
            "reinstalling: libxml2-2.9.8-h26e45fe_1 ...\n",
            "reinstalling: mpfr-4.0.1-hdf1c602_3 ...\n",
            "reinstalling: pandoc-1.19.2.1-hea2e7c5_1 ...\n",
            "reinstalling: readline-7.0-h7b6447c_5 ...\n",
            "reinstalling: tk-8.6.8-hbc83047_0 ...\n",
            "reinstalling: zeromq-4.2.5-hf484d3e_1 ...\n",
            "reinstalling: dbus-1.13.2-h714fa37_1 ...\n",
            "reinstalling: freetype-2.9.1-h8a8886c_1 ...\n",
            "reinstalling: gstreamer-1.14.0-hb453b48_1 ...\n",
            "reinstalling: libcurl-7.61.0-h1ad7b7a_0 ...\n",
            "reinstalling: libxslt-1.1.32-h1312cb7_0 ...\n",
            "reinstalling: mpc-1.1.0-h10f8cd9_1 ...\n",
            "reinstalling: sqlite-3.24.0-h84994c4_0 ...\n",
            "reinstalling: unixodbc-2.3.7-h14c3975_0 ...\n",
            "reinstalling: curl-7.61.0-h84994c4_0 ...\n",
            "reinstalling: fontconfig-2.13.0-h9420a91_0 ...\n",
            "reinstalling: gst-plugins-base-1.14.0-hbbd80ab_1 ...\n",
            "reinstalling: alabaster-0.7.11-py37_0 ...\n",
            "reinstalling: appdirs-1.4.3-py37h28b3542_0 ...\n",
            "reinstalling: asn1crypto-0.24.0-py37_0 ...\n",
            "reinstalling: atomicwrites-1.2.1-py37_0 ...\n",
            "reinstalling: attrs-18.2.0-py37h28b3542_0 ...\n",
            "reinstalling: backcall-0.1.0-py37_0 ...\n",
            "reinstalling: backports-1.0-py37_1 ...\n",
            "reinstalling: beautifulsoup4-4.6.3-py37_0 ...\n",
            "reinstalling: bitarray-0.8.3-py37h14c3975_0 ...\n",
            "reinstalling: boto-2.49.0-py37_0 ...\n",
            "reinstalling: cairo-1.14.12-h8948797_3 ...\n",
            "reinstalling: certifi-2018.8.24-py37_1 ...\n",
            "reinstalling: chardet-3.0.4-py37_1 ...\n",
            "reinstalling: click-6.7-py37_0 ...\n",
            "reinstalling: cloudpickle-0.5.5-py37_0 ...\n",
            "reinstalling: colorama-0.3.9-py37_0 ...\n",
            "reinstalling: constantly-15.1.0-py37h28b3542_0 ...\n",
            "reinstalling: contextlib2-0.5.5-py37_0 ...\n",
            "reinstalling: dask-core-0.19.1-py37_0 ...\n",
            "reinstalling: decorator-4.3.0-py37_0 ...\n",
            "reinstalling: defusedxml-0.5.0-py37_1 ...\n",
            "reinstalling: docutils-0.14-py37_0 ...\n",
            "reinstalling: entrypoints-0.2.3-py37_2 ...\n",
            "reinstalling: et_xmlfile-1.0.1-py37_0 ...\n",
            "reinstalling: fastcache-1.0.2-py37h14c3975_2 ...\n",
            "reinstalling: filelock-3.0.8-py37_0 ...\n",
            "reinstalling: glob2-0.6-py37_0 ...\n",
            "reinstalling: gmpy2-2.0.8-py37h10f8cd9_2 ...\n",
            "reinstalling: greenlet-0.4.15-py37h7b6447c_0 ...\n",
            "reinstalling: heapdict-1.0.0-py37_2 ...\n",
            "reinstalling: idna-2.7-py37_0 ...\n",
            "reinstalling: imagesize-1.1.0-py37_0 ...\n",
            "reinstalling: incremental-17.5.0-py37_0 ...\n",
            "reinstalling: ipython_genutils-0.2.0-py37_0 ...\n",
            "reinstalling: itsdangerous-0.24-py37_1 ...\n",
            "reinstalling: jdcal-1.4-py37_0 ...\n",
            "reinstalling: jeepney-0.3.1-py37_0 ...\n",
            "reinstalling: kiwisolver-1.0.1-py37hf484d3e_0 ...\n",
            "reinstalling: lazy-object-proxy-1.3.1-py37h14c3975_2 ...\n",
            "reinstalling: llvmlite-0.24.0-py37hdbcaa40_0 ...\n",
            "reinstalling: locket-0.2.0-py37_1 ...\n",
            "reinstalling: lxml-4.2.5-py37hefd8a0e_0 ...\n",
            "reinstalling: markupsafe-1.0-py37h14c3975_1 ...\n",
            "reinstalling: mccabe-0.6.1-py37_1 ...\n",
            "reinstalling: mistune-0.8.3-py37h14c3975_1 ...\n",
            "reinstalling: mkl-service-1.1.2-py37h90e4bf4_5 ...\n",
            "reinstalling: mpmath-1.0.0-py37_2 ...\n",
            "reinstalling: msgpack-python-0.5.6-py37h6bb024c_1 ...\n",
            "reinstalling: numpy-base-1.15.1-py37h81de0dd_0 ...\n",
            "reinstalling: olefile-0.46-py37_0 ...\n",
            "reinstalling: pandocfilters-1.4.2-py37_1 ...\n",
            "reinstalling: parso-0.3.1-py37_0 ...\n",
            "reinstalling: path.py-11.1.0-py37_0 ...\n",
            "reinstalling: pep8-1.7.1-py37_0 ...\n",
            "reinstalling: pickleshare-0.7.4-py37_0 ...\n",
            "reinstalling: pkginfo-1.4.2-py37_1 ...\n",
            "reinstalling: pluggy-0.7.1-py37h28b3542_0 ...\n",
            "reinstalling: ply-3.11-py37_0 ...\n",
            "reinstalling: psutil-5.4.7-py37h14c3975_0 ...\n",
            "reinstalling: ptyprocess-0.6.0-py37_0 ...\n",
            "reinstalling: py-1.6.0-py37_0 ...\n",
            "reinstalling: pyasn1-0.4.4-py37h28b3542_0 ...\n",
            "reinstalling: pycodestyle-2.4.0-py37_0 ...\n",
            "reinstalling: pycosat-0.6.3-py37h14c3975_0 ...\n",
            "reinstalling: pycparser-2.18-py37_1 ...\n",
            "reinstalling: pycrypto-2.6.1-py37h14c3975_9 ...\n",
            "reinstalling: pycurl-7.43.0.2-py37hb7f436b_0 ...\n",
            "reinstalling: pyflakes-2.0.0-py37_0 ...\n",
            "reinstalling: pyodbc-4.0.24-py37he6710b0_0 ...\n",
            "reinstalling: pyparsing-2.2.0-py37_1 ...\n",
            "reinstalling: pysocks-1.6.8-py37_0 ...\n",
            "reinstalling: pytz-2018.5-py37_0 ...\n",
            "reinstalling: pyyaml-3.13-py37h14c3975_0 ...\n",
            "reinstalling: pyzmq-17.1.2-py37h14c3975_0 ...\n",
            "reinstalling: qt-5.9.6-h8703b6f_2 ...\n",
            "reinstalling: qtpy-1.5.0-py37_0 ...\n",
            "reinstalling: rope-0.11.0-py37_0 ...\n",
            "reinstalling: ruamel_yaml-0.15.46-py37h14c3975_0 ...\n",
            "reinstalling: send2trash-1.5.0-py37_0 ...\n",
            "reinstalling: simplegeneric-0.8.1-py37_2 ...\n",
            "reinstalling: sip-4.19.8-py37hf484d3e_0 ...\n",
            "reinstalling: six-1.11.0-py37_1 ...\n",
            "reinstalling: snowballstemmer-1.2.1-py37_0 ...\n",
            "reinstalling: sortedcontainers-2.0.5-py37_0 ...\n",
            "reinstalling: sphinxcontrib-1.0-py37_1 ...\n",
            "reinstalling: sqlalchemy-1.2.11-py37h7b6447c_0 ...\n",
            "reinstalling: tblib-1.3.2-py37_0 ...\n",
            "reinstalling: testpath-0.3.1-py37_0 ...\n",
            "reinstalling: toolz-0.9.0-py37_0 ...\n",
            "reinstalling: tornado-5.1-py37h14c3975_0 ...\n",
            "reinstalling: tqdm-4.26.0-py37h28b3542_0 ...\n",
            "reinstalling: unicodecsv-0.14.1-py37_0 ...\n",
            "reinstalling: wcwidth-0.1.7-py37_0 ...\n",
            "reinstalling: webencodings-0.5.1-py37_1 ...\n",
            "reinstalling: werkzeug-0.14.1-py37_0 ...\n",
            "reinstalling: wrapt-1.10.11-py37h14c3975_2 ...\n",
            "reinstalling: xlrd-1.1.0-py37_1 ...\n",
            "reinstalling: xlsxwriter-1.1.0-py37_0 ...\n",
            "reinstalling: xlwt-1.3.0-py37_0 ...\n",
            "reinstalling: zope-1.0-py37_1 ...\n",
            "reinstalling: astroid-2.0.4-py37_0 ...\n",
            "reinstalling: automat-0.7.0-py37_0 ...\n",
            "reinstalling: babel-2.6.0-py37_0 ...\n",
            "reinstalling: backports.shutil_get_terminal_size-1.0.0-py37_2 ...\n",
            "reinstalling: cffi-1.11.5-py37he75722e_1 ...\n",
            "reinstalling: cycler-0.10.0-py37_0 ...\n",
            "reinstalling: cytoolz-0.9.0.1-py37h14c3975_1 ...\n",
            "reinstalling: harfbuzz-1.8.8-hffaf4a1_0 ...\n",
            "reinstalling: html5lib-1.0.1-py37_0 ...\n",
            "reinstalling: hyperlink-18.0.0-py37_0 ...\n",
            "reinstalling: jedi-0.12.1-py37_0 ...\n",
            "reinstalling: more-itertools-4.3.0-py37_0 ...\n",
            "reinstalling: multipledispatch-0.6.0-py37_0 ...\n",
            "reinstalling: networkx-2.1-py37_0 ...\n",
            "reinstalling: nltk-3.3.0-py37_0 ...\n",
            "reinstalling: openpyxl-2.5.6-py37_0 ...\n",
            "reinstalling: packaging-17.1-py37_0 ...\n",
            "reinstalling: partd-0.3.8-py37_0 ...\n",
            "reinstalling: pathlib2-2.3.2-py37_0 ...\n",
            "reinstalling: pexpect-4.6.0-py37_0 ...\n",
            "reinstalling: pillow-5.2.0-py37heded4f4_0 ...\n",
            "reinstalling: pyasn1-modules-0.2.2-py37_0 ...\n",
            "reinstalling: pyqt-5.9.2-py37h05f1152_2 ...\n",
            "reinstalling: python-dateutil-2.7.3-py37_0 ...\n",
            "reinstalling: qtawesome-0.4.4-py37_0 ...\n",
            "reinstalling: setuptools-40.2.0-py37_0 ...\n",
            "reinstalling: singledispatch-3.4.0.3-py37_0 ...\n",
            "reinstalling: sortedcollections-1.0.1-py37_0 ...\n",
            "reinstalling: sphinxcontrib-websupport-1.1.0-py37_1 ...\n",
            "reinstalling: sympy-1.2-py37_0 ...\n",
            "reinstalling: terminado-0.8.1-py37_1 ...\n",
            "reinstalling: traitlets-4.3.2-py37_0 ...\n",
            "reinstalling: zict-0.1.3-py37_0 ...\n",
            "reinstalling: zope.interface-4.5.0-py37h14c3975_0 ...\n",
            "reinstalling: bleach-2.1.4-py37_0 ...\n",
            "reinstalling: clyent-1.2.2-py37_1 ...\n",
            "reinstalling: cryptography-2.3.1-py37hc365091_0 ...\n",
            "reinstalling: cython-0.28.5-py37hf484d3e_0 ...\n",
            "reinstalling: distributed-1.23.1-py37_0 ...\n",
            "reinstalling: get_terminal_size-1.0.0-haa9412d_0 ...\n",
            "reinstalling: gevent-1.3.6-py37h7b6447c_0 ...\n",
            "reinstalling: isort-4.3.4-py37_0 ...\n",
            "reinstalling: jinja2-2.10-py37_0 ...\n",
            "reinstalling: jsonschema-2.6.0-py37_0 ...\n",
            "reinstalling: jupyter_core-4.4.0-py37_0 ...\n",
            "reinstalling: navigator-updater-0.2.1-py37_0 ...\n",
            "reinstalling: nose-1.3.7-py37_2 ...\n",
            "reinstalling: pango-1.42.4-h049681c_0 ...\n",
            "reinstalling: pygments-2.2.0-py37_0 ...\n",
            "reinstalling: pytest-3.8.0-py37_0 ...\n",
            "reinstalling: wheel-0.31.1-py37_0 ...\n",
            "reinstalling: flask-1.0.2-py37_1 ...\n",
            "reinstalling: jupyter_client-5.2.3-py37_0 ...\n",
            "reinstalling: nbformat-4.4.0-py37_0 ...\n",
            "reinstalling: pip-10.0.1-py37_0 ...\n",
            "reinstalling: prompt_toolkit-1.0.15-py37_0 ...\n",
            "reinstalling: pylint-2.1.1-py37_0 ...\n",
            "reinstalling: pyopenssl-18.0.0-py37_0 ...\n",
            "reinstalling: pytest-openfiles-0.3.0-py37_0 ...\n",
            "reinstalling: pytest-remotedata-0.3.0-py37_0 ...\n",
            "reinstalling: secretstorage-3.1.0-py37_0 ...\n",
            "reinstalling: flask-cors-3.0.6-py37_0 ...\n",
            "reinstalling: ipython-6.5.0-py37_0 ...\n",
            "reinstalling: keyring-13.2.1-py37_0 ...\n",
            "reinstalling: nbconvert-5.4.0-py37_1 ...\n",
            "reinstalling: service_identity-17.0.0-py37h28b3542_0 ...\n",
            "reinstalling: urllib3-1.23-py37_0 ...\n",
            "reinstalling: ipykernel-4.9.0-py37_1 ...\n",
            "reinstalling: requests-2.19.1-py37_0 ...\n",
            "reinstalling: twisted-18.7.0-py37h14c3975_1 ...\n",
            "reinstalling: anaconda-client-1.7.2-py37_0 ...\n",
            "reinstalling: jupyter_console-5.2.0-py37_1 ...\n",
            "reinstalling: prometheus_client-0.3.1-py37h28b3542_0 ...\n",
            "reinstalling: qtconsole-4.4.1-py37_0 ...\n",
            "reinstalling: sphinx-1.7.9-py37_0 ...\n",
            "reinstalling: spyder-kernels-0.2.6-py37_0 ...\n",
            "reinstalling: anaconda-navigator-1.9.2-py37_0 ...\n",
            "reinstalling: anaconda-project-0.8.2-py37_0 ...\n",
            "reinstalling: notebook-5.6.0-py37_0 ...\n",
            "reinstalling: numpydoc-0.8.0-py37_0 ...\n",
            "reinstalling: jupyterlab_launcher-0.13.1-py37_0 ...\n",
            "reinstalling: spyder-3.3.1-py37_1 ...\n",
            "reinstalling: widgetsnbextension-3.4.1-py37_0 ...\n",
            "reinstalling: ipywidgets-7.4.1-py37_0 ...\n",
            "reinstalling: jupyterlab-0.34.9-py37_0 ...\n",
            "reinstalling: _ipyw_jlab_nb_ext_conf-0.1.0-py37_0 ...\n",
            "reinstalling: jupyter-1.0.0-py37_7 ...\n",
            "reinstalling: bokeh-0.13.0-py37_0 ...\n",
            "reinstalling: bottleneck-1.2.1-py37h035aef0_1 ...\n",
            "reinstalling: conda-4.5.11-py37_0 ...\n",
            "reinstalling: conda-build-3.15.1-py37_0 ...\n",
            "reinstalling: datashape-0.5.4-py37_1 ...\n",
            "reinstalling: h5py-2.8.0-py37h989c5e5_3 ...\n",
            "reinstalling: imageio-2.4.1-py37_0 ...\n",
            "reinstalling: matplotlib-2.2.3-py37hb69df0a_0 ...\n",
            "reinstalling: mkl_fft-1.0.4-py37h4414c95_1 ...\n",
            "reinstalling: mkl_random-1.0.1-py37h4414c95_1 ...\n",
            "reinstalling: numpy-1.15.1-py37h1d66e8a_0 ...\n",
            "reinstalling: numba-0.39.0-py37h04863e7_0 ...\n",
            "reinstalling: numexpr-2.6.8-py37hd89afb7_0 ...\n",
            "reinstalling: pandas-0.23.4-py37h04863e7_0 ...\n",
            "reinstalling: pytest-arraydiff-0.2-py37h39e3cac_0 ...\n",
            "reinstalling: pytest-doctestplus-0.1.3-py37_0 ...\n",
            "reinstalling: pywavelets-1.0.0-py37hdd07704_0 ...\n",
            "reinstalling: scipy-1.1.0-py37hfa4b5c9_1 ...\n",
            "reinstalling: bkcharts-0.2-py37_0 ...\n",
            "reinstalling: dask-0.19.1-py37_0 ...\n",
            "reinstalling: patsy-0.5.0-py37_0 ...\n",
            "reinstalling: pytables-3.4.4-py37ha205bf6_0 ...\n",
            "reinstalling: pytest-astropy-0.4.0-py37_0 ...\n",
            "reinstalling: scikit-image-0.14.0-py37hf484d3e_1 ...\n",
            "reinstalling: scikit-learn-0.19.2-py37h4989274_0 ...\n",
            "reinstalling: astropy-3.0.4-py37h14c3975_0 ...\n",
            "reinstalling: odo-0.5.1-py37_0 ...\n",
            "reinstalling: statsmodels-0.9.0-py37h035aef0_0 ...\n",
            "reinstalling: blaze-0.11.3-py37_0 ...\n",
            "reinstalling: seaborn-0.9.0-py37_0 ...\n",
            "reinstalling: anaconda-5.3.1-py37_0 ...\n",
            "installation finished.\n",
            "WARNING:\n",
            "    You currently have a PYTHONPATH environment variable set. This may cause\n",
            "    unexpected behavior when running the Python interpreter in Anaconda3.\n",
            "    For best results, please verify that your PYTHONPATH only points to\n",
            "    directories of packages that are compatible with the Python interpreter\n",
            "    in Anaconda3: /usr/local\n"
          ]
        }
      ]
    },
    {
      "cell_type": "code",
      "metadata": {
        "colab": {
          "base_uri": "https://localhost:8080/"
        },
        "id": "_NDHfhBOaV4r",
        "outputId": "85592d23-7504-4de4-9233-743fb54bdc5c"
      },
      "source": [
        "!y\n",
        "conda create -n Hilander"
      ],
      "execution_count": 5,
      "outputs": [
        {
          "output_type": "stream",
          "name": "stdout",
          "text": [
            "Solving environment: - \b\bdone\n",
            "\n",
            "\n",
            "==> WARNING: A newer version of conda exists. <==\n",
            "  current version: 4.5.11\n",
            "  latest version: 4.10.3\n",
            "\n",
            "Please update conda by running\n",
            "\n",
            "    $ conda update -n base -c defaults conda\n",
            "\n",
            "\n",
            "\n",
            "## Package Plan ##\n",
            "\n",
            "  environment location: /usr/local/envs/Hilander\n",
            "\n",
            "\n",
            "Proceed ([y]/n)? y\n",
            "\n",
            "Preparing transaction: | \b\bdone\n",
            "Verifying transaction: - \b\bdone\n",
            "Executing transaction: | \b\bdone\n",
            "#\n",
            "# To activate this environment, use:\n",
            "# > source activate Hilander\n",
            "#\n",
            "# To deactivate an active environment, use:\n",
            "# > source deactivate\n",
            "#\n",
            "\n"
          ]
        }
      ]
    },
    {
      "cell_type": "code",
      "metadata": {
        "colab": {
          "base_uri": "https://localhost:8080/"
        },
        "id": "D1yFdWIBccCy",
        "outputId": "0a3c2055-e8bd-4d27-98de-e69f881a39c5"
      },
      "source": [
        "!conda update conda -y -q"
      ],
      "execution_count": 10,
      "outputs": [
        {
          "output_type": "stream",
          "name": "stdout",
          "text": [
            "Solving environment: ...working... done\n",
            "\n",
            "## Package Plan ##\n",
            "\n",
            "  environment location: /usr/local\n",
            "\n",
            "  added / updated specs: \n",
            "    - conda\n",
            "\n",
            "\n",
            "The following packages will be downloaded:\n",
            "\n",
            "    package                    |            build\n",
            "    ---------------------------|-----------------\n",
            "    conda-package-handling-1.7.3|   py39h27cfd23_1         967 KB\n",
            "    setuptools-58.0.4          |   py39h06a4308_0         965 KB\n",
            "    cffi-1.14.6                |   py39h400218f_0         227 KB\n",
            "    cryptography-35.0.0        |   py39hd23ed53_0         1.5 MB\n",
            "    brotlipy-0.7.0             |py39h27cfd23_1003         349 KB\n",
            "    tzdata-2021e               |       hda174b7_0         123 KB\n",
            "    conda-4.10.3               |   py39h06a4308_0         3.1 MB\n",
            "    pycosat-0.6.3              |   py39h27cfd23_0         108 KB\n",
            "    charset-normalizer-2.0.4   |     pyhd3eb1b0_0          33 KB\n",
            "    yaml-0.2.5                 |       h7b6447c_0          87 KB\n",
            "    pysocks-1.7.1              |   py39h06a4308_0          31 KB\n",
            "    urllib3-1.26.7             |     pyhd3eb1b0_0         104 KB\n",
            "    pip-21.2.4                 |   py39h06a4308_0         2.1 MB\n",
            "    tqdm-4.62.3                |     pyhd3eb1b0_1          79 KB\n",
            "    certifi-2021.10.8          |   py39h06a4308_0         155 KB\n",
            "    ruamel_yaml-0.15.100       |   py39h27cfd23_0         268 KB\n",
            "    idna-3.2                   |     pyhd3eb1b0_0          54 KB\n",
            "    pycparser-2.20             |             py_2          94 KB\n",
            "    pyopenssl-21.0.0           |     pyhd3eb1b0_1          48 KB\n",
            "    requests-2.26.0            |     pyhd3eb1b0_0          59 KB\n",
            "    python-3.9.7               |       h12debd9_1        22.8 MB\n",
            "    ------------------------------------------------------------\n",
            "                                           Total:        33.1 MB\n",
            "\n",
            "The following NEW packages will be INSTALLED:\n",
            "\n",
            "    _libgcc_mutex:          0.1-main               \n",
            "    brotlipy:               0.7.0-py39h27cfd23_1003\n",
            "    charset-normalizer:     2.0.4-pyhd3eb1b0_0     \n",
            "    conda-package-handling: 1.7.3-py39h27cfd23_1   \n",
            "    ld_impl_linux-64:       2.35.1-h7274673_9      \n",
            "    tzdata:                 2021e-hda174b7_0       \n",
            "\n",
            "The following packages will be UPDATED:\n",
            "\n",
            "    ca-certificates:        2018.03.07-0            --> 2021.10.26-h06a4308_2   \n",
            "    certifi:                2018.8.24-py37_1        --> 2021.10.8-py39h06a4308_0\n",
            "    cffi:                   1.11.5-py37he75722e_1   --> 1.14.6-py39h400218f_0   \n",
            "    conda:                  4.5.11-py37_0           --> 4.10.3-py39h06a4308_0   \n",
            "    cryptography:           2.3.1-py37hc365091_0    --> 35.0.0-py39hd23ed53_0   \n",
            "    idna:                   2.7-py37_0              --> 3.2-pyhd3eb1b0_0        \n",
            "    libffi:                 3.2.1-hd88cf55_4        --> 3.3-he6710b0_2          \n",
            "    libgcc-ng:              8.2.0-hdf63c60_1        --> 9.1.0-hdf63c60_0        \n",
            "    ncurses:                6.1-hf484d3e_0          --> 6.3-h7f8727e_2          \n",
            "    openssl:                1.0.2p-h14c3975_0       --> 1.1.1l-h7f8727e_0       \n",
            "    pip:                    10.0.1-py37_0           --> 21.2.4-py39h06a4308_0   \n",
            "    pycosat:                0.6.3-py37h14c3975_0    --> 0.6.3-py39h27cfd23_0    \n",
            "    pycparser:              2.18-py37_1             --> 2.20-py_2               \n",
            "    pyopenssl:              18.0.0-py37_0           --> 21.0.0-pyhd3eb1b0_1     \n",
            "    pysocks:                1.6.8-py37_0            --> 1.7.1-py39h06a4308_0    \n",
            "    python:                 3.7.0-hc3d631a_0        --> 3.9.7-h12debd9_1        \n",
            "    readline:               7.0-h7b6447c_5          --> 8.1-h27cfd23_0          \n",
            "    requests:               2.19.1-py37_0           --> 2.26.0-pyhd3eb1b0_0     \n",
            "    ruamel_yaml:            0.15.46-py37h14c3975_0  --> 0.15.100-py39h27cfd23_0 \n",
            "    setuptools:             40.2.0-py37_0           --> 58.0.4-py39h06a4308_0   \n",
            "    six:                    1.11.0-py37_1           --> 1.16.0-pyhd3eb1b0_0     \n",
            "    sqlite:                 3.24.0-h84994c4_0       --> 3.36.0-hc218d9a_0       \n",
            "    tk:                     8.6.8-hbc83047_0        --> 8.6.11-h1ccaba5_0       \n",
            "    tqdm:                   4.26.0-py37h28b3542_0   --> 4.62.3-pyhd3eb1b0_1     \n",
            "    urllib3:                1.23-py37_0             --> 1.26.7-pyhd3eb1b0_0     \n",
            "    wheel:                  0.31.1-py37_0           --> 0.37.0-pyhd3eb1b0_1     \n",
            "    xz:                     5.2.4-h14c3975_4        --> 5.2.5-h7b6447c_0        \n",
            "    yaml:                   0.1.7-had09818_2        --> 0.2.5-h7b6447c_0        \n",
            "    zlib:                   1.2.11-ha838bed_2       --> 1.2.11-h7b6447c_3       \n",
            "\n",
            "Preparing transaction: ...working... done\n",
            "Verifying transaction: ...working... done\n",
            "Executing transaction: ...working... done\n"
          ]
        }
      ]
    },
    {
      "cell_type": "code",
      "metadata": {
        "colab": {
          "base_uri": "https://localhost:8080/"
        },
        "id": "gdEtbGrkcdpC",
        "outputId": "9f5b1010-23a6-4598-9e52-3d97fd947465"
      },
      "source": [
        "!conda install -n root _license -y -q"
      ],
      "execution_count": 11,
      "outputs": [
        {
          "output_type": "stream",
          "name": "stdout",
          "text": [
            "Collecting package metadata (current_repodata.json): ...working... done\n",
            "Solving environment: ...working... failed with initial frozen solve. Retrying with flexible solve.\n",
            "Collecting package metadata (repodata.json): ...working... done\n",
            "Solving environment: ...working... failed with initial frozen solve. Retrying with flexible solve.\n",
            "\n",
            "PackagesNotFoundError: The following packages are not available from current channels:\n",
            "\n",
            "  - _license\n",
            "\n",
            "Current channels:\n",
            "\n",
            "  - https://repo.anaconda.com/pkgs/main/linux-64\n",
            "  - https://repo.anaconda.com/pkgs/main/noarch\n",
            "  - https://repo.anaconda.com/pkgs/r/linux-64\n",
            "  - https://repo.anaconda.com/pkgs/r/noarch\n",
            "\n",
            "To search for alternate channels that may provide the conda package you're\n",
            "looking for, navigate to\n",
            "\n",
            "    https://anaconda.org\n",
            "\n",
            "and use the search bar at the top of the page.\n",
            "\n",
            "\n"
          ]
        }
      ]
    },
    {
      "cell_type": "code",
      "metadata": {
        "id": "0sjbleo3cgyB"
      },
      "source": [
        ""
      ],
      "execution_count": null,
      "outputs": []
    },
    {
      "cell_type": "code",
      "metadata": {
        "colab": {
          "base_uri": "https://localhost:8080/"
        },
        "id": "VYUDGtpearlx",
        "outputId": "ae3380c2-13be-4d07-888f-2e50c57d2e81"
      },
      "source": [
        "%%bash\n",
        "source activate Hilander && conda install pytorch==1.7.1 torchvision==0.8.2 torchaudio==0.7.2 cudatoolkit=10.1 -c pytorch"
      ],
      "execution_count": 12,
      "outputs": [
        {
          "output_type": "stream",
          "name": "stdout",
          "text": [
            "Collecting package metadata (current_repodata.json): ...working... done\n",
            "Solving environment: ...working... done\n",
            "\n",
            "## Package Plan ##\n",
            "\n",
            "  environment location: /usr/local/envs/Hilander\n",
            "\n",
            "  added / updated specs:\n",
            "    - cudatoolkit=10.1\n",
            "    - pytorch==1.7.1\n",
            "    - torchaudio==0.7.2\n",
            "    - torchvision==0.8.2\n",
            "\n",
            "\n",
            "The following packages will be downloaded:\n",
            "\n",
            "    package                    |            build\n",
            "    ---------------------------|-----------------\n",
            "    _libgcc_mutex-0.1          |             main           3 KB\n",
            "    _openmp_mutex-4.5          |            1_gnu          22 KB\n",
            "    blas-1.0                   |              mkl           6 KB\n",
            "    ca-certificates-2021.10.26 |       h06a4308_2         115 KB\n",
            "    certifi-2021.10.8          |   py38h06a4308_0         151 KB\n",
            "    cudatoolkit-10.1.243       |       h6bb024c_0       347.4 MB\n",
            "    freetype-2.11.0            |       h70c0345_0         618 KB\n",
            "    giflib-5.2.1               |       h7b6447c_0          78 KB\n",
            "    intel-openmp-2021.4.0      |    h06a4308_3561         4.2 MB\n",
            "    jpeg-9b                    |       h024ee3a_2         214 KB\n",
            "    lcms2-2.12                 |       h3be6417_0         312 KB\n",
            "    ld_impl_linux-64-2.35.1    |       h7274673_9         586 KB\n",
            "    libffi-3.3                 |       he6710b0_2          50 KB\n",
            "    libgcc-ng-9.3.0            |      h5101ec6_17         4.8 MB\n",
            "    libgomp-9.3.0              |      h5101ec6_17         311 KB\n",
            "    libpng-1.6.37              |       hbc83047_0         278 KB\n",
            "    libstdcxx-ng-9.3.0         |      hd4cf53a_17         3.1 MB\n",
            "    libtiff-4.2.0              |       h85742a9_0         502 KB\n",
            "    libuv-1.40.0               |       h7b6447c_0         736 KB\n",
            "    libwebp-1.2.0              |       h89dd481_0         493 KB\n",
            "    libwebp-base-1.2.0         |       h27cfd23_0         437 KB\n",
            "    lz4-c-1.9.3                |       h295c915_1         185 KB\n",
            "    mkl-service-2.4.0          |   py38h7f8727e_0          59 KB\n",
            "    mkl_fft-1.3.1              |   py38hd3c417c_0         180 KB\n",
            "    mkl_random-1.2.2           |   py38h51133e4_0         308 KB\n",
            "    ncurses-6.3                |       h7f8727e_2         782 KB\n",
            "    ninja-1.10.2               |       hff7bd54_1         1.4 MB\n",
            "    numpy-1.21.2               |   py38h20f2e39_0          23 KB\n",
            "    numpy-base-1.21.2          |   py38h79a1101_0         4.8 MB\n",
            "    olefile-0.46               |     pyhd3eb1b0_0          34 KB\n",
            "    openssl-1.1.1l             |       h7f8727e_0         2.5 MB\n",
            "    pillow-8.4.0               |   py38h5aabda8_0         645 KB\n",
            "    pip-21.2.4                 |   py38h06a4308_0         1.8 MB\n",
            "    python-3.8.12              |       h12debd9_0        18.3 MB\n",
            "    pytorch-1.7.1              |py3.8_cuda10.1.243_cudnn7.6.3_0       553.1 MB  pytorch\n",
            "    readline-8.1               |       h27cfd23_0         362 KB\n",
            "    setuptools-58.0.4          |   py38h06a4308_0         790 KB\n",
            "    six-1.16.0                 |     pyhd3eb1b0_0          18 KB\n",
            "    sqlite-3.36.0              |       hc218d9a_0         990 KB\n",
            "    tk-8.6.11                  |       h1ccaba5_0         3.0 MB\n",
            "    typing_extensions-3.10.0.2 |     pyh06a4308_0          31 KB\n",
            "    wheel-0.37.0               |     pyhd3eb1b0_1          33 KB\n",
            "    xz-5.2.5                   |       h7b6447c_0         341 KB\n",
            "    zlib-1.2.11                |       h7b6447c_3         103 KB\n",
            "    zstd-1.4.9                 |       haebb681_0         480 KB\n",
            "    ------------------------------------------------------------\n",
            "                                           Total:       954.5 MB\n",
            "\n",
            "The following NEW packages will be INSTALLED:\n",
            "\n",
            "  _libgcc_mutex      pkgs/main/linux-64::_libgcc_mutex-0.1-main\n",
            "  _openmp_mutex      pkgs/main/linux-64::_openmp_mutex-4.5-1_gnu\n",
            "  blas               pkgs/main/linux-64::blas-1.0-mkl\n",
            "  ca-certificates    pkgs/main/linux-64::ca-certificates-2021.10.26-h06a4308_2\n",
            "  certifi            pkgs/main/linux-64::certifi-2021.10.8-py38h06a4308_0\n",
            "  cudatoolkit        pkgs/main/linux-64::cudatoolkit-10.1.243-h6bb024c_0\n",
            "  freetype           pkgs/main/linux-64::freetype-2.11.0-h70c0345_0\n",
            "  giflib             pkgs/main/linux-64::giflib-5.2.1-h7b6447c_0\n",
            "  intel-openmp       pkgs/main/linux-64::intel-openmp-2021.4.0-h06a4308_3561\n",
            "  jpeg               pkgs/main/linux-64::jpeg-9b-h024ee3a_2\n",
            "  lcms2              pkgs/main/linux-64::lcms2-2.12-h3be6417_0\n",
            "  ld_impl_linux-64   pkgs/main/linux-64::ld_impl_linux-64-2.35.1-h7274673_9\n",
            "  libffi             pkgs/main/linux-64::libffi-3.3-he6710b0_2\n",
            "  libgcc-ng          pkgs/main/linux-64::libgcc-ng-9.3.0-h5101ec6_17\n",
            "  libgomp            pkgs/main/linux-64::libgomp-9.3.0-h5101ec6_17\n",
            "  libpng             pkgs/main/linux-64::libpng-1.6.37-hbc83047_0\n",
            "  libstdcxx-ng       pkgs/main/linux-64::libstdcxx-ng-9.3.0-hd4cf53a_17\n",
            "  libtiff            pkgs/main/linux-64::libtiff-4.2.0-h85742a9_0\n",
            "  libuv              pkgs/main/linux-64::libuv-1.40.0-h7b6447c_0\n",
            "  libwebp            pkgs/main/linux-64::libwebp-1.2.0-h89dd481_0\n",
            "  libwebp-base       pkgs/main/linux-64::libwebp-base-1.2.0-h27cfd23_0\n",
            "  lz4-c              pkgs/main/linux-64::lz4-c-1.9.3-h295c915_1\n",
            "  mkl                pkgs/main/linux-64::mkl-2021.4.0-h06a4308_640\n",
            "  mkl-service        pkgs/main/linux-64::mkl-service-2.4.0-py38h7f8727e_0\n",
            "  mkl_fft            pkgs/main/linux-64::mkl_fft-1.3.1-py38hd3c417c_0\n",
            "  mkl_random         pkgs/main/linux-64::mkl_random-1.2.2-py38h51133e4_0\n",
            "  ncurses            pkgs/main/linux-64::ncurses-6.3-h7f8727e_2\n",
            "  ninja              pkgs/main/linux-64::ninja-1.10.2-hff7bd54_1\n",
            "  numpy              pkgs/main/linux-64::numpy-1.21.2-py38h20f2e39_0\n",
            "  numpy-base         pkgs/main/linux-64::numpy-base-1.21.2-py38h79a1101_0\n",
            "  olefile            pkgs/main/noarch::olefile-0.46-pyhd3eb1b0_0\n",
            "  openssl            pkgs/main/linux-64::openssl-1.1.1l-h7f8727e_0\n",
            "  pillow             pkgs/main/linux-64::pillow-8.4.0-py38h5aabda8_0\n",
            "  pip                pkgs/main/linux-64::pip-21.2.4-py38h06a4308_0\n",
            "  python             pkgs/main/linux-64::python-3.8.12-h12debd9_0\n",
            "  pytorch            pytorch/linux-64::pytorch-1.7.1-py3.8_cuda10.1.243_cudnn7.6.3_0\n",
            "  readline           pkgs/main/linux-64::readline-8.1-h27cfd23_0\n",
            "  setuptools         pkgs/main/linux-64::setuptools-58.0.4-py38h06a4308_0\n",
            "  six                pkgs/main/noarch::six-1.16.0-pyhd3eb1b0_0\n",
            "  sqlite             pkgs/main/linux-64::sqlite-3.36.0-hc218d9a_0\n",
            "  tk                 pkgs/main/linux-64::tk-8.6.11-h1ccaba5_0\n",
            "  torchaudio         pytorch/linux-64::torchaudio-0.7.2-py38\n",
            "  torchvision        pytorch/linux-64::torchvision-0.8.2-py38_cu101\n",
            "  typing_extensions  pkgs/main/noarch::typing_extensions-3.10.0.2-pyh06a4308_0\n",
            "  wheel              pkgs/main/noarch::wheel-0.37.0-pyhd3eb1b0_1\n",
            "  xz                 pkgs/main/linux-64::xz-5.2.5-h7b6447c_0\n",
            "  zlib               pkgs/main/linux-64::zlib-1.2.11-h7b6447c_3\n",
            "  zstd               pkgs/main/linux-64::zstd-1.4.9-haebb681_0\n",
            "\n",
            "\n",
            "Proceed ([y]/n)? \n",
            "\n",
            "Downloading and Extracting Packages\n",
            "\rlibstdcxx-ng-9.3.0   | 3.1 MB    |            |   0% \rlibstdcxx-ng-9.3.0   | 3.1 MB    | ########## | 100% \rlibstdcxx-ng-9.3.0   | 3.1 MB    | ########## | 100% \n",
            "\rlibpng-1.6.37        | 278 KB    |            |   0% \rlibpng-1.6.37        | 278 KB    | ########## | 100% \n",
            "\rca-certificates-2021 | 115 KB    |            |   0% \rca-certificates-2021 | 115 KB    | ########## | 100% \n",
            "\rblas-1.0             | 6 KB      |            |   0% \rblas-1.0             | 6 KB      | ########## | 100% \n",
            "\rmkl_random-1.2.2     | 308 KB    |            |   0% \rmkl_random-1.2.2     | 308 KB    | ########## | 100% \n",
            "\rnumpy-1.21.2         | 23 KB     |            |   0% \rnumpy-1.21.2         | 23 KB     | ########## | 100% \n",
            "\rlibgomp-9.3.0        | 311 KB    |            |   0% \rlibgomp-9.3.0        | 311 KB    | ########## | 100% \n",
            "\rlcms2-2.12           | 312 KB    |            |   0% \rlcms2-2.12           | 312 KB    | ########## | 100% \n",
            "\rsetuptools-58.0.4    | 790 KB    |            |   0% \rsetuptools-58.0.4    | 790 KB    | ########## | 100% \rsetuptools-58.0.4    | 790 KB    | ########## | 100% \n",
            "\rpip-21.2.4           | 1.8 MB    |            |   0% \rpip-21.2.4           | 1.8 MB    | ########## | 100% \rpip-21.2.4           | 1.8 MB    | ########## | 100% \n",
            "\rninja-1.10.2         | 1.4 MB    |            |   0% \rninja-1.10.2         | 1.4 MB    | ########## | 100% \n",
            "\rolefile-0.46         | 34 KB     |            |   0% \rolefile-0.46         | 34 KB     | ########## | 100% \n",
            "\rtyping_extensions-3. | 31 KB     |            |   0% \rtyping_extensions-3. | 31 KB     | ########## | 100% \n",
            "\rzlib-1.2.11          | 103 KB    |            |   0% \rzlib-1.2.11          | 103 KB    | ########## | 100% \n",
            "\rld_impl_linux-64-2.3 | 586 KB    |            |   0% \rld_impl_linux-64-2.3 | 586 KB    | ########## | 100% \n",
            "\r_openmp_mutex-4.5    | 22 KB     |            |   0% \r_openmp_mutex-4.5    | 22 KB     | ########## | 100% \n",
            "\rmkl_fft-1.3.1        | 180 KB    |            |   0% \rmkl_fft-1.3.1        | 180 KB    | ########## | 100% \n",
            "\rsix-1.16.0           | 18 KB     |            |   0% \rsix-1.16.0           | 18 KB     | ########## | 100% \n",
            "\rsqlite-3.36.0        | 990 KB    |            |   0% \rsqlite-3.36.0        | 990 KB    | ########## | 100% \n",
            "\rwheel-0.37.0         | 33 KB     |            |   0% \rwheel-0.37.0         | 33 KB     | ########## | 100% \n",
            "\rpython-3.8.12        | 18.3 MB   |            |   0% \rpython-3.8.12        | 18.3 MB   | ####9      |  50% \rpython-3.8.12        | 18.3 MB   | ########## | 100% \rpython-3.8.12        | 18.3 MB   | ########## | 100% \n",
            "\rpytorch-1.7.1        | 553.1 MB  |            |   0% \rpytorch-1.7.1        | 553.1 MB  |            |   0% \rpytorch-1.7.1        | 553.1 MB  |            |   0% \rpytorch-1.7.1        | 553.1 MB  |            |   0% \rpytorch-1.7.1        | 553.1 MB  |            |   0% \rpytorch-1.7.1        | 553.1 MB  |            |   1% \rpytorch-1.7.1        | 553.1 MB  | 1          |   1% \rpytorch-1.7.1        | 553.1 MB  | 1          |   2% \rpytorch-1.7.1        | 553.1 MB  | 2          |   3% \rpytorch-1.7.1        | 553.1 MB  | 3          |   3% \rpytorch-1.7.1        | 553.1 MB  | 3          |   4% \rpytorch-1.7.1        | 553.1 MB  | 4          |   4% \rpytorch-1.7.1        | 553.1 MB  | 5          |   5% \rpytorch-1.7.1        | 553.1 MB  | 5          |   6% \rpytorch-1.7.1        | 553.1 MB  | 6          |   6% \rpytorch-1.7.1        | 553.1 MB  | 7          |   7% \rpytorch-1.7.1        | 553.1 MB  | 7          |   8% \rpytorch-1.7.1        | 553.1 MB  | 8          |   8% \rpytorch-1.7.1        | 553.1 MB  | 9          |   9% \rpytorch-1.7.1        | 553.1 MB  | 9          |  10% \rpytorch-1.7.1        | 553.1 MB  | #          |  10% \rpytorch-1.7.1        | 553.1 MB  | #1         |  11% \rpytorch-1.7.1        | 553.1 MB  | #1         |  12% \rpytorch-1.7.1        | 553.1 MB  | #2         |  12% \rpytorch-1.7.1        | 553.1 MB  | #3         |  13% \rpytorch-1.7.1        | 553.1 MB  | #3         |  14% \rpytorch-1.7.1        | 553.1 MB  | #4         |  14% \rpytorch-1.7.1        | 553.1 MB  | #5         |  15% \rpytorch-1.7.1        | 553.1 MB  | #6         |  16% \rpytorch-1.7.1        | 553.1 MB  | #6         |  17% \rpytorch-1.7.1        | 553.1 MB  | #7         |  17% \rpytorch-1.7.1        | 553.1 MB  | #8         |  18% \rpytorch-1.7.1        | 553.1 MB  | #8         |  19% \rpytorch-1.7.1        | 553.1 MB  | #9         |  19% \rpytorch-1.7.1        | 553.1 MB  | ##         |  20% \rpytorch-1.7.1        | 553.1 MB  | ##         |  21% \rpytorch-1.7.1        | 553.1 MB  | ##1        |  21% \rpytorch-1.7.1        | 553.1 MB  | ##1        |  22% \rpytorch-1.7.1        | 553.1 MB  | ##2        |  23% \rpytorch-1.7.1        | 553.1 MB  | ##3        |  23% \rpytorch-1.7.1        | 553.1 MB  | ##4        |  24% \rpytorch-1.7.1        | 553.1 MB  | ##4        |  25% \rpytorch-1.7.1        | 553.1 MB  | ##5        |  26% \rpytorch-1.7.1        | 553.1 MB  | ##6        |  26% \rpytorch-1.7.1        | 553.1 MB  | ##6        |  27% \rpytorch-1.7.1        | 553.1 MB  | ##7        |  28% \rpytorch-1.7.1        | 553.1 MB  | ##8        |  28% \rpytorch-1.7.1        | 553.1 MB  | ##9        |  29% \rpytorch-1.7.1        | 553.1 MB  | ##9        |  30% \rpytorch-1.7.1        | 553.1 MB  | ###        |  31% \rpytorch-1.7.1        | 553.1 MB  | ###1       |  31% \rpytorch-1.7.1        | 553.1 MB  | ###2       |  32% \rpytorch-1.7.1        | 553.1 MB  | ###2       |  33% \rpytorch-1.7.1        | 553.1 MB  | ###3       |  34% \rpytorch-1.7.1        | 553.1 MB  | ###4       |  34% \rpytorch-1.7.1        | 553.1 MB  | ###4       |  35% \rpytorch-1.7.1        | 553.1 MB  | ###5       |  36% \rpytorch-1.7.1        | 553.1 MB  | ###6       |  36% \rpytorch-1.7.1        | 553.1 MB  | ###6       |  37% \rpytorch-1.7.1        | 553.1 MB  | ###7       |  38% \rpytorch-1.7.1        | 553.1 MB  | ###8       |  38% \rpytorch-1.7.1        | 553.1 MB  | ###9       |  39% \rpytorch-1.7.1        | 553.1 MB  | ###9       |  40% \rpytorch-1.7.1        | 553.1 MB  | ####       |  40% \rpytorch-1.7.1        | 553.1 MB  | ####1      |  41% \rpytorch-1.7.1        | 553.1 MB  | ####1      |  42% \rpytorch-1.7.1        | 553.1 MB  | ####2      |  42% \rpytorch-1.7.1        | 553.1 MB  | ####3      |  43% \rpytorch-1.7.1        | 553.1 MB  | ####3      |  44% \rpytorch-1.7.1        | 553.1 MB  | ####4      |  45% \rpytorch-1.7.1        | 553.1 MB  | ####5      |  45% \rpytorch-1.7.1        | 553.1 MB  | ####6      |  46% \rpytorch-1.7.1        | 553.1 MB  | ####6      |  47% \rpytorch-1.7.1        | 553.1 MB  | ####7      |  47% \rpytorch-1.7.1        | 553.1 MB  | ####8      |  48% \rpytorch-1.7.1        | 553.1 MB  | ####8      |  49% \rpytorch-1.7.1        | 553.1 MB  | ####9      |  50% \rpytorch-1.7.1        | 553.1 MB  | #####      |  50% \rpytorch-1.7.1        | 553.1 MB  | #####      |  51% \rpytorch-1.7.1        | 553.1 MB  | #####1     |  52% \rpytorch-1.7.1        | 553.1 MB  | #####2     |  52% \rpytorch-1.7.1        | 553.1 MB  | #####3     |  53% \rpytorch-1.7.1        | 553.1 MB  | #####3     |  54% \rpytorch-1.7.1        | 553.1 MB  | #####4     |  54% \rpytorch-1.7.1        | 553.1 MB  | #####5     |  55% \rpytorch-1.7.1        | 553.1 MB  | #####5     |  56% \rpytorch-1.7.1        | 553.1 MB  | #####6     |  57% \rpytorch-1.7.1        | 553.1 MB  | #####7     |  57% \rpytorch-1.7.1        | 553.1 MB  | #####7     |  58% \rpytorch-1.7.1        | 553.1 MB  | #####8     |  59% \rpytorch-1.7.1        | 553.1 MB  | #####9     |  59% \rpytorch-1.7.1        | 553.1 MB  | ######     |  60% \rpytorch-1.7.1        | 553.1 MB  | ######     |  61% \rpytorch-1.7.1        | 553.1 MB  | ######1    |  61% \rpytorch-1.7.1        | 553.1 MB  | ######2    |  62% \rpytorch-1.7.1        | 553.1 MB  | ######2    |  63% \rpytorch-1.7.1        | 553.1 MB  | ######3    |  63% \rpytorch-1.7.1        | 553.1 MB  | ######4    |  64% \rpytorch-1.7.1        | 553.1 MB  | ######4    |  65% \rpytorch-1.7.1        | 553.1 MB  | ######5    |  65% \rpytorch-1.7.1        | 553.1 MB  | ######6    |  66% \rpytorch-1.7.1        | 553.1 MB  | ######6    |  67% \rpytorch-1.7.1        | 553.1 MB  | ######7    |  67% \rpytorch-1.7.1        | 553.1 MB  | ######7    |  68% \rpytorch-1.7.1        | 553.1 MB  | ######8    |  69% \rpytorch-1.7.1        | 553.1 MB  | ######9    |  69% \rpytorch-1.7.1        | 553.1 MB  | ######9    |  70% \rpytorch-1.7.1        | 553.1 MB  | #######    |  70% \rpytorch-1.7.1        | 553.1 MB  | #######1   |  71% \rpytorch-1.7.1        | 553.1 MB  | #######1   |  72% \rpytorch-1.7.1        | 553.1 MB  | #######2   |  72% \rpytorch-1.7.1        | 553.1 MB  | #######2   |  73% \rpytorch-1.7.1        | 553.1 MB  | #######3   |  74% \rpytorch-1.7.1        | 553.1 MB  | #######4   |  74% \rpytorch-1.7.1        | 553.1 MB  | #######4   |  75% \rpytorch-1.7.1        | 553.1 MB  | #######5   |  75% \rpytorch-1.7.1        | 553.1 MB  | #######5   |  76% \rpytorch-1.7.1        | 553.1 MB  | #######6   |  77% \rpytorch-1.7.1        | 553.1 MB  | #######7   |  77% \rpytorch-1.7.1        | 553.1 MB  | #######7   |  78% \rpytorch-1.7.1        | 553.1 MB  | #######8   |  78% \rpytorch-1.7.1        | 553.1 MB  | #######8   |  79% \rpytorch-1.7.1        | 553.1 MB  | #######9   |  79% \rpytorch-1.7.1        | 553.1 MB  | ########   |  80% \rpytorch-1.7.1        | 553.1 MB  | ########   |  81% \rpytorch-1.7.1        | 553.1 MB  | ########1  |  82% \rpytorch-1.7.1        | 553.1 MB  | ########2  |  82% \rpytorch-1.7.1        | 553.1 MB  | ########2  |  83% \rpytorch-1.7.1        | 553.1 MB  | ########3  |  83% \rpytorch-1.7.1        | 553.1 MB  | ########4  |  84% \rpytorch-1.7.1        | 553.1 MB  | ########4  |  85% \rpytorch-1.7.1        | 553.1 MB  | ########5  |  85% \rpytorch-1.7.1        | 553.1 MB  | ########6  |  86% \rpytorch-1.7.1        | 553.1 MB  | ########6  |  87% \rpytorch-1.7.1        | 553.1 MB  | ########7  |  87% \rpytorch-1.7.1        | 553.1 MB  | ########7  |  88% \rpytorch-1.7.1        | 553.1 MB  | ########8  |  89% \rpytorch-1.7.1        | 553.1 MB  | ########9  |  89% \rpytorch-1.7.1        | 553.1 MB  | ########9  |  90% \rpytorch-1.7.1        | 553.1 MB  | #########  |  90% \rpytorch-1.7.1        | 553.1 MB  | #########  |  91% \rpytorch-1.7.1        | 553.1 MB  | #########1 |  92% \rpytorch-1.7.1        | 553.1 MB  | #########2 |  92% \rpytorch-1.7.1        | 553.1 MB  | #########2 |  93% \rpytorch-1.7.1        | 553.1 MB  | #########3 |  93% \rpytorch-1.7.1        | 553.1 MB  | #########3 |  94% \rpytorch-1.7.1        | 553.1 MB  | #########4 |  95% \rpytorch-1.7.1        | 553.1 MB  | #########5 |  95% \rpytorch-1.7.1        | 553.1 MB  | #########5 |  96% \rpytorch-1.7.1        | 553.1 MB  | #########6 |  96% \rpytorch-1.7.1        | 553.1 MB  | #########7 |  97% \rpytorch-1.7.1        | 553.1 MB  | #########7 |  98% \rpytorch-1.7.1        | 553.1 MB  | #########8 |  98% \rpytorch-1.7.1        | 553.1 MB  | #########9 |  99% \rpytorch-1.7.1        | 553.1 MB  | #########9 | 100% \rpytorch-1.7.1        | 553.1 MB  | ########## | 100% \n",
            "\rgiflib-5.2.1         | 78 KB     |            |   0% \rgiflib-5.2.1         | 78 KB     | ########## | 100% \n",
            "\rcudatoolkit-10.1.243 | 347.4 MB  |            |   0% \rcudatoolkit-10.1.243 | 347.4 MB  | 2          |   2% \rcudatoolkit-10.1.243 | 347.4 MB  | 5          |   6% \rcudatoolkit-10.1.243 | 347.4 MB  | 8          |   9% \rcudatoolkit-10.1.243 | 347.4 MB  | #1         |  12% \rcudatoolkit-10.1.243 | 347.4 MB  | #5         |  15% \rcudatoolkit-10.1.243 | 347.4 MB  | #8         |  18% \rcudatoolkit-10.1.243 | 347.4 MB  | ##1        |  22% \rcudatoolkit-10.1.243 | 347.4 MB  | ##4        |  25% \rcudatoolkit-10.1.243 | 347.4 MB  | ##7        |  28% \rcudatoolkit-10.1.243 | 347.4 MB  | ###        |  31% \rcudatoolkit-10.1.243 | 347.4 MB  | ###3       |  34% \rcudatoolkit-10.1.243 | 347.4 MB  | ###6       |  37% \rcudatoolkit-10.1.243 | 347.4 MB  | ###9       |  40% \rcudatoolkit-10.1.243 | 347.4 MB  | ####2      |  42% \rcudatoolkit-10.1.243 | 347.4 MB  | ####5      |  46% \rcudatoolkit-10.1.243 | 347.4 MB  | ####8      |  49% \rcudatoolkit-10.1.243 | 347.4 MB  | #####2     |  52% \rcudatoolkit-10.1.243 | 347.4 MB  | #####5     |  55% \rcudatoolkit-10.1.243 | 347.4 MB  | #####8     |  59% \rcudatoolkit-10.1.243 | 347.4 MB  | ######1    |  62% \rcudatoolkit-10.1.243 | 347.4 MB  | ######4    |  65% \rcudatoolkit-10.1.243 | 347.4 MB  | ######7    |  68% \rcudatoolkit-10.1.243 | 347.4 MB  | #######    |  71% \rcudatoolkit-10.1.243 | 347.4 MB  | #######3   |  74% \rcudatoolkit-10.1.243 | 347.4 MB  | #######6   |  77% \rcudatoolkit-10.1.243 | 347.4 MB  | ########   |  80% \rcudatoolkit-10.1.243 | 347.4 MB  | ########3  |  83% \rcudatoolkit-10.1.243 | 347.4 MB  | ########6  |  87% \rcudatoolkit-10.1.243 | 347.4 MB  | ########9  |  90% \rcudatoolkit-10.1.243 | 347.4 MB  | #########2 |  93% \rcudatoolkit-10.1.243 | 347.4 MB  | #########5 |  96% \rcudatoolkit-10.1.243 | 347.4 MB  | #########8 |  98% \rcudatoolkit-10.1.243 | 347.4 MB  | ########## | 100% \n",
            "\ropenssl-1.1.1l       | 2.5 MB    |            |   0% \ropenssl-1.1.1l       | 2.5 MB    | ########## | 100% \ropenssl-1.1.1l       | 2.5 MB    | ########## | 100% \n",
            "\rreadline-8.1         | 362 KB    |            |   0% \rreadline-8.1         | 362 KB    | ########## | 100% \rreadline-8.1         | 362 KB    | ########## | 100% \n",
            "\rmkl-service-2.4.0    | 59 KB     |            |   0% \rmkl-service-2.4.0    | 59 KB     | ########## | 100% \n",
            "\rlibwebp-1.2.0        | 493 KB    |            |   0% \rlibwebp-1.2.0        | 493 KB    | ########## | 100% \n",
            "\rlibuv-1.40.0         | 736 KB    |            |   0% \rlibuv-1.40.0         | 736 KB    | ########## | 100% \n",
            "\rzstd-1.4.9           | 480 KB    |            |   0% \rzstd-1.4.9           | 480 KB    | ########## | 100% \n",
            "\rlibtiff-4.2.0        | 502 KB    |            |   0% \rlibtiff-4.2.0        | 502 KB    | ########## | 100% \n",
            "\rlz4-c-1.9.3          | 185 KB    |            |   0% \rlz4-c-1.9.3          | 185 KB    | ########## | 100% \n",
            "\rpillow-8.4.0         | 645 KB    |            |   0% \rpillow-8.4.0         | 645 KB    | ########## | 100% \n",
            "\rxz-5.2.5             | 341 KB    |            |   0% \rxz-5.2.5             | 341 KB    | ########## | 100% \n",
            "\rtk-8.6.11            | 3.0 MB    |            |   0% \rtk-8.6.11            | 3.0 MB    | ########## | 100% \rtk-8.6.11            | 3.0 MB    | ########## | 100% \n",
            "\r_libgcc_mutex-0.1    | 3 KB      |            |   0% \r_libgcc_mutex-0.1    | 3 KB      | ########## | 100% \n",
            "\rintel-openmp-2021.4. | 4.2 MB    |            |   0% \rintel-openmp-2021.4. | 4.2 MB    | ########## | 100% \rintel-openmp-2021.4. | 4.2 MB    | ########## | 100% \n",
            "\rlibgcc-ng-9.3.0      | 4.8 MB    |            |   0% \rlibgcc-ng-9.3.0      | 4.8 MB    | ########## | 100% \rlibgcc-ng-9.3.0      | 4.8 MB    | ########## | 100% \n",
            "\rlibffi-3.3           | 50 KB     |            |   0% \rlibffi-3.3           | 50 KB     | ########## | 100% \n",
            "\rncurses-6.3          | 782 KB    |            |   0% \rncurses-6.3          | 782 KB    | ########## | 100% \rncurses-6.3          | 782 KB    | ########## | 100% \n",
            "\rlibwebp-base-1.2.0   | 437 KB    |            |   0% \rlibwebp-base-1.2.0   | 437 KB    | ########## | 100% \n",
            "\rjpeg-9b              | 214 KB    |            |   0% \rjpeg-9b              | 214 KB    | ########## | 100% \n",
            "\rcertifi-2021.10.8    | 151 KB    |            |   0% \rcertifi-2021.10.8    | 151 KB    | ########## | 100% \n",
            "\rnumpy-base-1.21.2    | 4.8 MB    |            |   0% \rnumpy-base-1.21.2    | 4.8 MB    | ########## | 100% \rnumpy-base-1.21.2    | 4.8 MB    | ########## | 100% \n",
            "\rfreetype-2.11.0      | 618 KB    |            |   0% \rfreetype-2.11.0      | 618 KB    | ########## | 100% \n",
            "Preparing transaction: ...working... done\n",
            "Verifying transaction: ...working... done\n",
            "Executing transaction: ...working... done\n"
          ]
        }
      ]
    },
    {
      "cell_type": "code",
      "metadata": {
        "colab": {
          "base_uri": "https://localhost:8080/"
        },
        "id": "yPbTsEbidwMN",
        "outputId": "68f6284e-f343-48ae-fd69-1445b326515b"
      },
      "source": [
        "%%bash\n",
        "source activate Hilander && conda install -y cudatoolkit=10.2 faiss-gpu=1.6.5 -c pytorch"
      ],
      "execution_count": 13,
      "outputs": [
        {
          "output_type": "stream",
          "name": "stdout",
          "text": [
            "Collecting package metadata (current_repodata.json): ...working... done\n",
            "Solving environment: ...working... failed with initial frozen solve. Retrying with flexible solve.\n",
            "Solving environment: ...working... failed with repodata from current_repodata.json, will retry with next repodata source.\n",
            "Collecting package metadata (repodata.json): ...working... done\n",
            "Solving environment: ...working... done\n",
            "\n",
            "## Package Plan ##\n",
            "\n",
            "  environment location: /usr/local/envs/Hilander\n",
            "\n",
            "  added / updated specs:\n",
            "    - cudatoolkit=10.2\n",
            "    - faiss-gpu=1.6.5\n",
            "\n",
            "\n",
            "The following packages will be downloaded:\n",
            "\n",
            "    package                    |            build\n",
            "    ---------------------------|-----------------\n",
            "    faiss-gpu-1.6.5            |py3.8_hed44701_0_cuda10.2         1.8 MB  pytorch\n",
            "    libfaiss-1.6.5             |h4fe19ad_0_cuda10.2       128.7 MB  pytorch\n",
            "    libgfortran-ng-7.5.0       |      ha8ba4b0_17          22 KB\n",
            "    libgfortran4-7.5.0         |      ha8ba4b0_17         995 KB\n",
            "    mkl-2020.2                 |              256       138.3 MB\n",
            "    mkl-service-2.3.0          |   py38he904b0f_0          62 KB\n",
            "    numpy-1.11.3               |  py38h7e9f1db_12          12 KB\n",
            "    numpy-base-1.11.3          |  py38hde5b4d6_12         2.9 MB\n",
            "    pytorch-1.7.1              |py3.8_cuda10.2.89_cudnn7.6.5_0       575.5 MB  pytorch\n",
            "    torchvision-0.8.2          |       py38_cu102        17.8 MB  pytorch\n",
            "    ------------------------------------------------------------\n",
            "                                           Total:       866.1 MB\n",
            "\n",
            "The following NEW packages will be INSTALLED:\n",
            "\n",
            "  faiss-gpu          pytorch/linux-64::faiss-gpu-1.6.5-py3.8_hed44701_0_cuda10.2\n",
            "  libfaiss           pytorch/linux-64::libfaiss-1.6.5-h4fe19ad_0_cuda10.2\n",
            "  libgfortran-ng     pkgs/main/linux-64::libgfortran-ng-7.5.0-ha8ba4b0_17\n",
            "  libgfortran4       pkgs/main/linux-64::libgfortran4-7.5.0-ha8ba4b0_17\n",
            "\n",
            "The following packages will be REMOVED:\n",
            "\n",
            "  mkl_fft-1.3.1-py38hd3c417c_0\n",
            "  mkl_random-1.2.2-py38h51133e4_0\n",
            "\n",
            "The following packages will be UPDATED:\n",
            "\n",
            "  cudatoolkit                           10.1.243-h6bb024c_0 --> 10.2.89-hfd86e86_1\n",
            "\n",
            "The following packages will be DOWNGRADED:\n",
            "\n",
            "  mkl                                 2021.4.0-h06a4308_640 --> 2020.2-256\n",
            "  mkl-service                          2.4.0-py38h7f8727e_0 --> 2.3.0-py38he904b0f_0\n",
            "  numpy                               1.21.2-py38h20f2e39_0 --> 1.11.3-py38h7e9f1db_12\n",
            "  numpy-base                          1.21.2-py38h79a1101_0 --> 1.11.3-py38hde5b4d6_12\n",
            "  pytorch             1.7.1-py3.8_cuda10.1.243_cudnn7.6.3_0 --> 1.7.1-py3.8_cuda10.2.89_cudnn7.6.5_0\n",
            "  torchvision                              0.8.2-py38_cu101 --> 0.8.2-py38_cu102\n",
            "\n",
            "\n",
            "\n",
            "Downloading and Extracting Packages\n",
            "\rtorchvision-0.8.2    | 17.8 MB   |            |   0% \rtorchvision-0.8.2    | 17.8 MB   |            |   0% \rtorchvision-0.8.2    | 17.8 MB   |            |   0% \rtorchvision-0.8.2    | 17.8 MB   | 2          |   2% \rtorchvision-0.8.2    | 17.8 MB   | 9          |   9% \rtorchvision-0.8.2    | 17.8 MB   | ##8        |  28% \rtorchvision-0.8.2    | 17.8 MB   | ####8      |  49% \rtorchvision-0.8.2    | 17.8 MB   | ######9    |  70% \rtorchvision-0.8.2    | 17.8 MB   | #########  |  91% \rtorchvision-0.8.2    | 17.8 MB   | ########## | 100% \n",
            "\rnumpy-1.11.3         | 12 KB     |            |   0% \rnumpy-1.11.3         | 12 KB     | ########## | 100% \rnumpy-1.11.3         | 12 KB     | ########## | 100% \n",
            "\rlibfaiss-1.6.5       | 128.7 MB  |            |   0% \rlibfaiss-1.6.5       | 128.7 MB  |            |   0% \rlibfaiss-1.6.5       | 128.7 MB  | 2          |   3% \rlibfaiss-1.6.5       | 128.7 MB  | 5          |   5% \rlibfaiss-1.6.5       | 128.7 MB  | 7          |   8% \rlibfaiss-1.6.5       | 128.7 MB  | #          |  11% \rlibfaiss-1.6.5       | 128.7 MB  | #3         |  13% \rlibfaiss-1.6.5       | 128.7 MB  | #6         |  16% \rlibfaiss-1.6.5       | 128.7 MB  | #8         |  19% \rlibfaiss-1.6.5       | 128.7 MB  | ##1        |  22% \rlibfaiss-1.6.5       | 128.7 MB  | ##4        |  24% \rlibfaiss-1.6.5       | 128.7 MB  | ##6        |  27% \rlibfaiss-1.6.5       | 128.7 MB  | ##9        |  29% \rlibfaiss-1.6.5       | 128.7 MB  | ###2       |  32% \rlibfaiss-1.6.5       | 128.7 MB  | ###5       |  35% \rlibfaiss-1.6.5       | 128.7 MB  | ###7       |  38% \rlibfaiss-1.6.5       | 128.7 MB  | ####       |  40% \rlibfaiss-1.6.5       | 128.7 MB  | ####3      |  43% \rlibfaiss-1.6.5       | 128.7 MB  | ####6      |  46% \rlibfaiss-1.6.5       | 128.7 MB  | ####8      |  49% \rlibfaiss-1.6.5       | 128.7 MB  | #####1     |  51% \rlibfaiss-1.6.5       | 128.7 MB  | #####4     |  54% \rlibfaiss-1.6.5       | 128.7 MB  | #####6     |  57% \rlibfaiss-1.6.5       | 128.7 MB  | #####9     |  59% \rlibfaiss-1.6.5       | 128.7 MB  | ######2    |  62% \rlibfaiss-1.6.5       | 128.7 MB  | ######4    |  65% \rlibfaiss-1.6.5       | 128.7 MB  | ######7    |  67% \rlibfaiss-1.6.5       | 128.7 MB  | #######    |  70% \rlibfaiss-1.6.5       | 128.7 MB  | #######3   |  73% \rlibfaiss-1.6.5       | 128.7 MB  | #######5   |  76% \rlibfaiss-1.6.5       | 128.7 MB  | #######8   |  78% \rlibfaiss-1.6.5       | 128.7 MB  | ########1  |  82% \rlibfaiss-1.6.5       | 128.7 MB  | ########4  |  84% \rlibfaiss-1.6.5       | 128.7 MB  | ########7  |  87% \rlibfaiss-1.6.5       | 128.7 MB  | ########9  |  90% \rlibfaiss-1.6.5       | 128.7 MB  | #########2 |  93% \rlibfaiss-1.6.5       | 128.7 MB  | #########5 |  95% \rlibfaiss-1.6.5       | 128.7 MB  | #########8 |  98% \rlibfaiss-1.6.5       | 128.7 MB  | ########## | 100% \n",
            "\rlibgfortran4-7.5.0   | 995 KB    |            |   0% \rlibgfortran4-7.5.0   | 995 KB    | ########## | 100% \rlibgfortran4-7.5.0   | 995 KB    | ########## | 100% \n",
            "\rmkl-service-2.3.0    | 62 KB     |            |   0% \rmkl-service-2.3.0    | 62 KB     | ########## | 100% \n",
            "\rnumpy-base-1.11.3    | 2.9 MB    |            |   0% \rnumpy-base-1.11.3    | 2.9 MB    |            |   1% \rnumpy-base-1.11.3    | 2.9 MB    | ########1  |  81% \rnumpy-base-1.11.3    | 2.9 MB    | ########## | 100% \n",
            "\rmkl-2020.2           | 138.3 MB  |            |   0% \rmkl-2020.2           | 138.3 MB  | 5          |   6% \rmkl-2020.2           | 138.3 MB  | #3         |  14% \rmkl-2020.2           | 138.3 MB  | ##1        |  22% \rmkl-2020.2           | 138.3 MB  | ##9        |  29% \rmkl-2020.2           | 138.3 MB  | ###7       |  38% \rmkl-2020.2           | 138.3 MB  | ####6      |  47% \rmkl-2020.2           | 138.3 MB  | #####5     |  55% \rmkl-2020.2           | 138.3 MB  | ######3    |  63% \rmkl-2020.2           | 138.3 MB  | #######    |  71% \rmkl-2020.2           | 138.3 MB  | #######8   |  79% \rmkl-2020.2           | 138.3 MB  | ########7  |  87% \rmkl-2020.2           | 138.3 MB  | #########5 |  96% \rmkl-2020.2           | 138.3 MB  | ########## | 100% \n",
            "\rpytorch-1.7.1        | 575.5 MB  |            |   0% \rpytorch-1.7.1        | 575.5 MB  |            |   0% \rpytorch-1.7.1        | 575.5 MB  |            |   0% \rpytorch-1.7.1        | 575.5 MB  |            |   0% \rpytorch-1.7.1        | 575.5 MB  |            |   0% \rpytorch-1.7.1        | 575.5 MB  |            |   1% \rpytorch-1.7.1        | 575.5 MB  | 1          |   2% \rpytorch-1.7.1        | 575.5 MB  | 2          |   2% \rpytorch-1.7.1        | 575.5 MB  | 2          |   3% \rpytorch-1.7.1        | 575.5 MB  | 3          |   4% \rpytorch-1.7.1        | 575.5 MB  | 4          |   4% \rpytorch-1.7.1        | 575.5 MB  | 4          |   5% \rpytorch-1.7.1        | 575.5 MB  | 5          |   6% \rpytorch-1.7.1        | 575.5 MB  | 6          |   6% \rpytorch-1.7.1        | 575.5 MB  | 7          |   7% \rpytorch-1.7.1        | 575.5 MB  | 7          |   8% \rpytorch-1.7.1        | 575.5 MB  | 8          |   8% \rpytorch-1.7.1        | 575.5 MB  | 9          |   9% \rpytorch-1.7.1        | 575.5 MB  | 9          |  10% \rpytorch-1.7.1        | 575.5 MB  | #          |  11% \rpytorch-1.7.1        | 575.5 MB  | #1         |  11% \rpytorch-1.7.1        | 575.5 MB  | #2         |  12% \rpytorch-1.7.1        | 575.5 MB  | #2         |  13% \rpytorch-1.7.1        | 575.5 MB  | #3         |  14% \rpytorch-1.7.1        | 575.5 MB  | #4         |  14% \rpytorch-1.7.1        | 575.5 MB  | #5         |  15% \rpytorch-1.7.1        | 575.5 MB  | #5         |  16% \rpytorch-1.7.1        | 575.5 MB  | #6         |  16% \rpytorch-1.7.1        | 575.5 MB  | #6         |  17% \rpytorch-1.7.1        | 575.5 MB  | #7         |  17% \rpytorch-1.7.1        | 575.5 MB  | #8         |  18% \rpytorch-1.7.1        | 575.5 MB  | #8         |  19% \rpytorch-1.7.1        | 575.5 MB  | #9         |  19% \rpytorch-1.7.1        | 575.5 MB  | #9         |  20% \rpytorch-1.7.1        | 575.5 MB  | ##         |  21% \rpytorch-1.7.1        | 575.5 MB  | ##1        |  21% \rpytorch-1.7.1        | 575.5 MB  | ##2        |  22% \rpytorch-1.7.1        | 575.5 MB  | ##2        |  23% \rpytorch-1.7.1        | 575.5 MB  | ##3        |  24% \rpytorch-1.7.1        | 575.5 MB  | ##4        |  24% \rpytorch-1.7.1        | 575.5 MB  | ##4        |  25% \rpytorch-1.7.1        | 575.5 MB  | ##5        |  26% \rpytorch-1.7.1        | 575.5 MB  | ##6        |  26% \rpytorch-1.7.1        | 575.5 MB  | ##7        |  27% \rpytorch-1.7.1        | 575.5 MB  | ##7        |  28% \rpytorch-1.7.1        | 575.5 MB  | ##8        |  28% \rpytorch-1.7.1        | 575.5 MB  | ##9        |  29% \rpytorch-1.7.1        | 575.5 MB  | ##9        |  30% \rpytorch-1.7.1        | 575.5 MB  | ###        |  31% \rpytorch-1.7.1        | 575.5 MB  | ###1       |  31% \rpytorch-1.7.1        | 575.5 MB  | ###1       |  32% \rpytorch-1.7.1        | 575.5 MB  | ###2       |  32% \rpytorch-1.7.1        | 575.5 MB  | ###3       |  33% \rpytorch-1.7.1        | 575.5 MB  | ###3       |  34% \rpytorch-1.7.1        | 575.5 MB  | ###4       |  34% \rpytorch-1.7.1        | 575.5 MB  | ###5       |  35% \rpytorch-1.7.1        | 575.5 MB  | ###5       |  36% \rpytorch-1.7.1        | 575.5 MB  | ###6       |  36% \rpytorch-1.7.1        | 575.5 MB  | ###6       |  37% \rpytorch-1.7.1        | 575.5 MB  | ###7       |  38% \rpytorch-1.7.1        | 575.5 MB  | ###8       |  38% \rpytorch-1.7.1        | 575.5 MB  | ###8       |  39% \rpytorch-1.7.1        | 575.5 MB  | ###9       |  39% \rpytorch-1.7.1        | 575.5 MB  | ###9       |  40% \rpytorch-1.7.1        | 575.5 MB  | ####       |  41% \rpytorch-1.7.1        | 575.5 MB  | ####1      |  41% \rpytorch-1.7.1        | 575.5 MB  | ####1      |  42% \rpytorch-1.7.1        | 575.5 MB  | ####2      |  42% \rpytorch-1.7.1        | 575.5 MB  | ####3      |  43% \rpytorch-1.7.1        | 575.5 MB  | ####3      |  44% \rpytorch-1.7.1        | 575.5 MB  | ####4      |  44% \rpytorch-1.7.1        | 575.5 MB  | ####5      |  45% \rpytorch-1.7.1        | 575.5 MB  | ####5      |  46% \rpytorch-1.7.1        | 575.5 MB  | ####6      |  46% \rpytorch-1.7.1        | 575.5 MB  | ####6      |  47% \rpytorch-1.7.1        | 575.5 MB  | ####7      |  48% \rpytorch-1.7.1        | 575.5 MB  | ####8      |  48% \rpytorch-1.7.1        | 575.5 MB  | ####8      |  49% \rpytorch-1.7.1        | 575.5 MB  | ####9      |  49% \rpytorch-1.7.1        | 575.5 MB  | #####      |  50% \rpytorch-1.7.1        | 575.5 MB  | #####      |  51% \rpytorch-1.7.1        | 575.5 MB  | #####1     |  51% \rpytorch-1.7.1        | 575.5 MB  | #####1     |  52% \rpytorch-1.7.1        | 575.5 MB  | #####2     |  52% \rpytorch-1.7.1        | 575.5 MB  | #####3     |  53% \rpytorch-1.7.1        | 575.5 MB  | #####3     |  54% \rpytorch-1.7.1        | 575.5 MB  | #####4     |  54% \rpytorch-1.7.1        | 575.5 MB  | #####4     |  55% \rpytorch-1.7.1        | 575.5 MB  | #####5     |  55% \rpytorch-1.7.1        | 575.5 MB  | #####6     |  56% \rpytorch-1.7.1        | 575.5 MB  | #####6     |  57% \rpytorch-1.7.1        | 575.5 MB  | #####7     |  57% \rpytorch-1.7.1        | 575.5 MB  | #####7     |  58% \rpytorch-1.7.1        | 575.5 MB  | #####8     |  58% \rpytorch-1.7.1        | 575.5 MB  | #####9     |  59% \rpytorch-1.7.1        | 575.5 MB  | #####9     |  60% \rpytorch-1.7.1        | 575.5 MB  | ######     |  60% \rpytorch-1.7.1        | 575.5 MB  | ######     |  61% \rpytorch-1.7.1        | 575.5 MB  | ######1    |  61% \rpytorch-1.7.1        | 575.5 MB  | ######2    |  62% \rpytorch-1.7.1        | 575.5 MB  | ######2    |  63% \rpytorch-1.7.1        | 575.5 MB  | ######3    |  63% \rpytorch-1.7.1        | 575.5 MB  | ######3    |  64% \rpytorch-1.7.1        | 575.5 MB  | ######4    |  64% \rpytorch-1.7.1        | 575.5 MB  | ######5    |  65% \rpytorch-1.7.1        | 575.5 MB  | ######5    |  66% \rpytorch-1.7.1        | 575.5 MB  | ######6    |  66% \rpytorch-1.7.1        | 575.5 MB  | ######6    |  67% \rpytorch-1.7.1        | 575.5 MB  | ######7    |  67% \rpytorch-1.7.1        | 575.5 MB  | ######8    |  68% \rpytorch-1.7.1        | 575.5 MB  | ######8    |  69% \rpytorch-1.7.1        | 575.5 MB  | ######9    |  69% \rpytorch-1.7.1        | 575.5 MB  | ######9    |  70% \rpytorch-1.7.1        | 575.5 MB  | #######    |  71% \rpytorch-1.7.1        | 575.5 MB  | #######1   |  71% \rpytorch-1.7.1        | 575.5 MB  | #######1   |  72% \rpytorch-1.7.1        | 575.5 MB  | #######2   |  72% \rpytorch-1.7.1        | 575.5 MB  | #######3   |  73% \rpytorch-1.7.1        | 575.5 MB  | #######3   |  74% \rpytorch-1.7.1        | 575.5 MB  | #######4   |  74% \rpytorch-1.7.1        | 575.5 MB  | #######4   |  75% \rpytorch-1.7.1        | 575.5 MB  | #######5   |  75% \rpytorch-1.7.1        | 575.5 MB  | #######6   |  76% \rpytorch-1.7.1        | 575.5 MB  | #######6   |  77% \rpytorch-1.7.1        | 575.5 MB  | #######7   |  77% \rpytorch-1.7.1        | 575.5 MB  | #######7   |  77% \rpytorch-1.7.1        | 575.5 MB  | #######7   |  78% \rpytorch-1.7.1        | 575.5 MB  | #######8   |  78% \rpytorch-1.7.1        | 575.5 MB  | #######8   |  79% \rpytorch-1.7.1        | 575.5 MB  | #######9   |  79% \rpytorch-1.7.1        | 575.5 MB  | #######9   |  80% \rpytorch-1.7.1        | 575.5 MB  | ########   |  80% \rpytorch-1.7.1        | 575.5 MB  | ########   |  81% \rpytorch-1.7.1        | 575.5 MB  | ########1  |  81% \rpytorch-1.7.1        | 575.5 MB  | ########1  |  82% \rpytorch-1.7.1        | 575.5 MB  | ########2  |  82% \rpytorch-1.7.1        | 575.5 MB  | ########2  |  82% \rpytorch-1.7.1        | 575.5 MB  | ########2  |  83% \rpytorch-1.7.1        | 575.5 MB  | ########3  |  83% \rpytorch-1.7.1        | 575.5 MB  | ########3  |  84% \rpytorch-1.7.1        | 575.5 MB  | ########4  |  84% \rpytorch-1.7.1        | 575.5 MB  | ########4  |  85% \rpytorch-1.7.1        | 575.5 MB  | ########5  |  85% \rpytorch-1.7.1        | 575.5 MB  | ########5  |  86% \rpytorch-1.7.1        | 575.5 MB  | ########6  |  86% \rpytorch-1.7.1        | 575.5 MB  | ########6  |  87% \rpytorch-1.7.1        | 575.5 MB  | ########6  |  87% \rpytorch-1.7.1        | 575.5 MB  | ########7  |  87% \rpytorch-1.7.1        | 575.5 MB  | ########7  |  88% \rpytorch-1.7.1        | 575.5 MB  | ########8  |  88% \rpytorch-1.7.1        | 575.5 MB  | ########8  |  89% \rpytorch-1.7.1        | 575.5 MB  | ########9  |  89% \rpytorch-1.7.1        | 575.5 MB  | ########9  |  90% \rpytorch-1.7.1        | 575.5 MB  | #########  |  90% \rpytorch-1.7.1        | 575.5 MB  | #########  |  91% \rpytorch-1.7.1        | 575.5 MB  | #########1 |  91% \rpytorch-1.7.1        | 575.5 MB  | #########1 |  91% \rpytorch-1.7.1        | 575.5 MB  | #########1 |  92% \rpytorch-1.7.1        | 575.5 MB  | #########2 |  92% \rpytorch-1.7.1        | 575.5 MB  | #########2 |  93% \rpytorch-1.7.1        | 575.5 MB  | #########3 |  93% \rpytorch-1.7.1        | 575.5 MB  | #########3 |  94% \rpytorch-1.7.1        | 575.5 MB  | #########4 |  94% \rpytorch-1.7.1        | 575.5 MB  | #########4 |  95% \rpytorch-1.7.1        | 575.5 MB  | #########5 |  95% \rpytorch-1.7.1        | 575.5 MB  | #########5 |  95% \rpytorch-1.7.1        | 575.5 MB  | #########5 |  96% \rpytorch-1.7.1        | 575.5 MB  | #########6 |  96% \rpytorch-1.7.1        | 575.5 MB  | #########6 |  97% \rpytorch-1.7.1        | 575.5 MB  | #########6 |  97% \rpytorch-1.7.1        | 575.5 MB  | #########7 |  97% \rpytorch-1.7.1        | 575.5 MB  | #########7 |  98% \rpytorch-1.7.1        | 575.5 MB  | #########8 |  98% \rpytorch-1.7.1        | 575.5 MB  | #########8 |  99% \rpytorch-1.7.1        | 575.5 MB  | #########8 |  99% \rpytorch-1.7.1        | 575.5 MB  | #########9 |  99% \rpytorch-1.7.1        | 575.5 MB  | #########9 | 100% \rpytorch-1.7.1        | 575.5 MB  | ########## | 100% \n",
            "\rlibgfortran-ng-7.5.0 | 22 KB     |            |   0% \rlibgfortran-ng-7.5.0 | 22 KB     | ########## | 100% \n",
            "\rfaiss-gpu-1.6.5      | 1.8 MB    |            |   0% \rfaiss-gpu-1.6.5      | 1.8 MB    |            |   1% \rfaiss-gpu-1.6.5      | 1.8 MB    | 4          |   4% \rfaiss-gpu-1.6.5      | 1.8 MB    | ##2        |  22% \rfaiss-gpu-1.6.5      | 1.8 MB    | #########1 |  91% \rfaiss-gpu-1.6.5      | 1.8 MB    | ########## | 100% \n",
            "Preparing transaction: ...working... done\n",
            "Verifying transaction: ...working... done\n",
            "Executing transaction: ...working... done\n"
          ]
        }
      ]
    },
    {
      "cell_type": "code",
      "metadata": {
        "colab": {
          "base_uri": "https://localhost:8080/"
        },
        "id": "AwQ5Qllxejsd",
        "outputId": "9f1a9e7f-a52a-42bd-be47-85b0e7f43283"
      },
      "source": [
        "%%bash\n",
        "source activate Hilander && pip install dgl-cu102"
      ],
      "execution_count": 14,
      "outputs": [
        {
          "output_type": "stream",
          "name": "stdout",
          "text": [
            "Collecting dgl-cu102\n",
            "  Downloading dgl_cu102-0.6.1-cp38-cp38-manylinux1_x86_64.whl (36.8 MB)\n",
            "Collecting requests>=2.19.0\n",
            "  Downloading requests-2.26.0-py2.py3-none-any.whl (62 kB)\n",
            "Collecting scipy>=1.1.0\n",
            "  Downloading scipy-1.7.2-cp38-cp38-manylinux_2_17_x86_64.manylinux2014_x86_64.whl (39.3 MB)\n",
            "Collecting numpy>=1.14.0\n",
            "  Downloading numpy-1.21.4-cp38-cp38-manylinux_2_12_x86_64.manylinux2010_x86_64.whl (15.7 MB)\n",
            "Collecting networkx>=2.1\n",
            "  Downloading networkx-2.6.3-py3-none-any.whl (1.9 MB)\n",
            "Collecting urllib3<1.27,>=1.21.1\n",
            "  Downloading urllib3-1.26.7-py2.py3-none-any.whl (138 kB)\n",
            "Collecting idna<4,>=2.5\n",
            "  Downloading idna-3.3-py3-none-any.whl (61 kB)\n",
            "Collecting charset-normalizer~=2.0.0\n",
            "  Downloading charset_normalizer-2.0.7-py3-none-any.whl (38 kB)\n",
            "Requirement already satisfied: certifi>=2017.4.17 in /usr/local/envs/Hilander/lib/python3.8/site-packages (from requests>=2.19.0->dgl-cu102) (2021.10.8)\n",
            "Installing collected packages: urllib3, numpy, idna, charset-normalizer, scipy, requests, networkx, dgl-cu102\n",
            "  Attempting uninstall: numpy\n",
            "    Found existing installation: numpy 1.11.3\n",
            "    Uninstalling numpy-1.11.3:\n",
            "      Successfully uninstalled numpy-1.11.3\n",
            "Successfully installed charset-normalizer-2.0.7 dgl-cu102-0.6.1 idna-3.3 networkx-2.6.3 numpy-1.21.4 requests-2.26.0 scipy-1.7.2 urllib3-1.26.7\n"
          ]
        },
        {
          "output_type": "stream",
          "name": "stderr",
          "text": [
            "WARNING: Running pip as the 'root' user can result in broken permissions and conflicting behaviour with the system package manager. It is recommended to use a virtual environment instead: https://pip.pypa.io/warnings/venv\n"
          ]
        }
      ]
    },
    {
      "cell_type": "code",
      "metadata": {
        "colab": {
          "base_uri": "https://localhost:8080/"
        },
        "id": "YVOmS8ITe0oy",
        "outputId": "4a7716b7-b349-4cb4-fc20-fd84895d7f4b"
      },
      "source": [
        "%%bash\n",
        "source activate Hilander && pip install tqdm "
      ],
      "execution_count": 15,
      "outputs": [
        {
          "output_type": "stream",
          "name": "stdout",
          "text": [
            "Collecting tqdm\n",
            "  Downloading tqdm-4.62.3-py2.py3-none-any.whl (76 kB)\n",
            "Installing collected packages: tqdm\n",
            "Successfully installed tqdm-4.62.3\n"
          ]
        },
        {
          "output_type": "stream",
          "name": "stderr",
          "text": [
            "WARNING: Running pip as the 'root' user can result in broken permissions and conflicting behaviour with the system package manager. It is recommended to use a virtual environment instead: https://pip.pypa.io/warnings/venv\n"
          ]
        }
      ]
    },
    {
      "cell_type": "code",
      "metadata": {
        "colab": {
          "base_uri": "https://localhost:8080/"
        },
        "id": "H3yiOtfee43J",
        "outputId": "39442f22-74c5-4c86-e7b3-260ca35bef5b"
      },
      "source": [
        "!git clone https://github.com/yjxiong/clustering-benchmark.git"
      ],
      "execution_count": 17,
      "outputs": [
        {
          "output_type": "stream",
          "name": "stdout",
          "text": [
            "Cloning into 'clustering-benchmark'...\n",
            "remote: Enumerating objects: 28, done.\u001b[K\n",
            "remote: Counting objects: 100% (28/28), done.\u001b[K\n",
            "remote: Compressing objects: 100% (20/20), done.\u001b[K\n",
            "remote: Total 28 (delta 6), reused 23 (delta 5), pack-reused 0\u001b[K\n",
            "Unpacking objects: 100% (28/28), done.\n"
          ]
        }
      ]
    },
    {
      "cell_type": "code",
      "metadata": {
        "colab": {
          "base_uri": "https://localhost:8080/"
        },
        "id": "LorAtggAfCSw",
        "outputId": "59c10998-5d48-4261-9694-436af6ae8b2d"
      },
      "source": [
        "cd clustering-benchmark"
      ],
      "execution_count": 18,
      "outputs": [
        {
          "output_type": "stream",
          "name": "stdout",
          "text": [
            "/content/clustering-benchmark\n"
          ]
        }
      ]
    },
    {
      "cell_type": "code",
      "metadata": {
        "colab": {
          "base_uri": "https://localhost:8080/"
        },
        "id": "HMlS4iKpfIGz",
        "outputId": "0bb17034-ab28-4658-f2cf-b7dff2a553ac"
      },
      "source": [
        "%%bash\n",
        "source activate Hilander && python setup.py install"
      ],
      "execution_count": 19,
      "outputs": [
        {
          "output_type": "stream",
          "name": "stdout",
          "text": [
            "running install\n",
            "running bdist_egg\n",
            "running egg_info\n",
            "creating clustering_benchmark.egg-info\n",
            "writing clustering_benchmark.egg-info/PKG-INFO\n",
            "writing dependency_links to clustering_benchmark.egg-info/dependency_links.txt\n",
            "writing requirements to clustering_benchmark.egg-info/requires.txt\n",
            "writing top-level names to clustering_benchmark.egg-info/top_level.txt\n",
            "writing manifest file 'clustering_benchmark.egg-info/SOURCES.txt'\n",
            "reading manifest file 'clustering_benchmark.egg-info/SOURCES.txt'\n",
            "adding license file 'LICENSE'\n",
            "writing manifest file 'clustering_benchmark.egg-info/SOURCES.txt'\n",
            "installing library code to build/bdist.linux-x86_64/egg\n",
            "running install_lib\n",
            "running build_py\n",
            "creating build\n",
            "creating build/lib\n",
            "creating build/lib/clustering_benchmark\n",
            "copying clustering_benchmark/io.py -> build/lib/clustering_benchmark\n",
            "copying clustering_benchmark/__init__.py -> build/lib/clustering_benchmark\n",
            "copying clustering_benchmark/benchmark.py -> build/lib/clustering_benchmark\n",
            "creating build/bdist.linux-x86_64\n",
            "creating build/bdist.linux-x86_64/egg\n",
            "creating build/bdist.linux-x86_64/egg/clustering_benchmark\n",
            "copying build/lib/clustering_benchmark/io.py -> build/bdist.linux-x86_64/egg/clustering_benchmark\n",
            "copying build/lib/clustering_benchmark/__init__.py -> build/bdist.linux-x86_64/egg/clustering_benchmark\n",
            "copying build/lib/clustering_benchmark/benchmark.py -> build/bdist.linux-x86_64/egg/clustering_benchmark\n",
            "byte-compiling build/bdist.linux-x86_64/egg/clustering_benchmark/io.py to io.cpython-38.pyc\n",
            "byte-compiling build/bdist.linux-x86_64/egg/clustering_benchmark/__init__.py to __init__.cpython-38.pyc\n",
            "byte-compiling build/bdist.linux-x86_64/egg/clustering_benchmark/benchmark.py to benchmark.cpython-38.pyc\n",
            "creating build/bdist.linux-x86_64/egg/EGG-INFO\n",
            "copying clustering_benchmark.egg-info/PKG-INFO -> build/bdist.linux-x86_64/egg/EGG-INFO\n",
            "copying clustering_benchmark.egg-info/SOURCES.txt -> build/bdist.linux-x86_64/egg/EGG-INFO\n",
            "copying clustering_benchmark.egg-info/dependency_links.txt -> build/bdist.linux-x86_64/egg/EGG-INFO\n",
            "copying clustering_benchmark.egg-info/requires.txt -> build/bdist.linux-x86_64/egg/EGG-INFO\n",
            "copying clustering_benchmark.egg-info/top_level.txt -> build/bdist.linux-x86_64/egg/EGG-INFO\n",
            "creating dist\n",
            "creating 'dist/clustering_benchmark-0.1-py3.8.egg' and adding 'build/bdist.linux-x86_64/egg' to it\n",
            "removing 'build/bdist.linux-x86_64/egg' (and everything under it)\n",
            "Processing clustering_benchmark-0.1-py3.8.egg\n",
            "Copying clustering_benchmark-0.1-py3.8.egg to /usr/local/envs/Hilander/lib/python3.8/site-packages\n",
            "Adding clustering-benchmark 0.1 to easy-install.pth file\n",
            "\n",
            "Installed /usr/local/envs/Hilander/lib/python3.8/site-packages/clustering_benchmark-0.1-py3.8.egg\n",
            "Processing dependencies for clustering-benchmark==0.1\n",
            "Searching for scikit-learn\n",
            "Reading https://pypi.org/simple/scikit-learn/\n",
            "Downloading https://files.pythonhosted.org/packages/ae/bf/e1ce8638e6c5234632c4d87635ba23f4b4b837ba8c85ba8f8262569cdeb1/scikit_learn-1.0.1-cp38-cp38-manylinux_2_12_x86_64.manylinux2010_x86_64.whl#sha256=fc75f81571137b39f9b31766e15a0e525331637e7fe8f8000a3fbfba7da3add9\n",
            "Best match: scikit-learn 1.0.1\n",
            "Processing scikit_learn-1.0.1-cp38-cp38-manylinux_2_12_x86_64.manylinux2010_x86_64.whl\n",
            "Installing scikit_learn-1.0.1-cp38-cp38-manylinux_2_12_x86_64.manylinux2010_x86_64.whl to /usr/local/envs/Hilander/lib/python3.8/site-packages\n",
            "Adding scikit-learn 1.0.1 to easy-install.pth file\n",
            "\n",
            "Installed /usr/local/envs/Hilander/lib/python3.8/site-packages/scikit_learn-1.0.1-py3.8-linux-x86_64.egg\n",
            "Searching for threadpoolctl>=2.0.0\n",
            "Reading https://pypi.org/simple/threadpoolctl/\n",
            "Downloading https://files.pythonhosted.org/packages/ff/fe/8aaca2a0db7fd80f0b2cf8a16a034d3eea8102d58ff9331d2aaf1f06766a/threadpoolctl-3.0.0-py3-none-any.whl#sha256=4fade5b3b48ae4b1c30f200b28f39180371104fccc642e039e0f2435ec8cc211\n",
            "Best match: threadpoolctl 3.0.0\n",
            "Processing threadpoolctl-3.0.0-py3-none-any.whl\n",
            "Installing threadpoolctl-3.0.0-py3-none-any.whl to /usr/local/envs/Hilander/lib/python3.8/site-packages\n",
            "Adding threadpoolctl 3.0.0 to easy-install.pth file\n",
            "\n",
            "Installed /usr/local/envs/Hilander/lib/python3.8/site-packages/threadpoolctl-3.0.0-py3.8.egg\n",
            "Searching for joblib>=0.11\n",
            "Reading https://pypi.org/simple/joblib/\n",
            "Downloading https://files.pythonhosted.org/packages/3e/d5/0163eb0cfa0b673aa4fe1cd3ea9d8a81ea0f32e50807b0c295871e4aab2e/joblib-1.1.0-py2.py3-none-any.whl#sha256=f21f109b3c7ff9d95f8387f752d0d9c34a02aa2f7060c2135f465da0e5160ff6\n",
            "Best match: joblib 1.1.0\n",
            "Processing joblib-1.1.0-py2.py3-none-any.whl\n",
            "Installing joblib-1.1.0-py2.py3-none-any.whl to /usr/local/envs/Hilander/lib/python3.8/site-packages\n",
            "Adding joblib 1.1.0 to easy-install.pth file\n",
            "\n",
            "Installed /usr/local/envs/Hilander/lib/python3.8/site-packages/joblib-1.1.0-py3.8.egg\n",
            "Searching for scipy==1.7.2\n",
            "Best match: scipy 1.7.2\n",
            "Adding scipy 1.7.2 to easy-install.pth file\n",
            "\n",
            "Using /usr/local/envs/Hilander/lib/python3.8/site-packages\n",
            "Searching for numpy==1.21.4\n",
            "Best match: numpy 1.21.4\n",
            "Adding numpy 1.21.4 to easy-install.pth file\n",
            "Installing f2py script to /usr/local/envs/Hilander/bin\n",
            "Installing f2py3 script to /usr/local/envs/Hilander/bin\n",
            "Installing f2py3.8 script to /usr/local/envs/Hilander/bin\n",
            "\n",
            "Using /usr/local/envs/Hilander/lib/python3.8/site-packages\n",
            "Finished processing dependencies for clustering-benchmark==0.1\n"
          ]
        },
        {
          "output_type": "stream",
          "name": "stderr",
          "text": [
            "/usr/local/envs/Hilander/lib/python3.8/site-packages/setuptools/dist.py:717: UserWarning: Usage of dash-separated 'description-file' will not be supported in future versions. Please use the underscore name 'description_file' instead\n",
            "  warnings.warn(\n",
            "zip_safe flag not set; analyzing archive contents...\n"
          ]
        }
      ]
    },
    {
      "cell_type": "code",
      "metadata": {
        "colab": {
          "base_uri": "https://localhost:8080/"
        },
        "id": "SyzjAafmfSXg",
        "outputId": "feb07b50-30dc-456e-9cca-b3559a47f455"
      },
      "source": [
        "cd ../"
      ],
      "execution_count": 20,
      "outputs": [
        {
          "output_type": "stream",
          "name": "stdout",
          "text": [
            "/content\n"
          ]
        }
      ]
    },
    {
      "cell_type": "code",
      "metadata": {
        "colab": {
          "base_uri": "https://localhost:8080/"
        },
        "id": "wwAfYaC6f0WJ",
        "outputId": "8450e59d-0c5d-489b-a172-63ce7a3cae9b"
      },
      "source": [
        "!conda install m2-base"
      ],
      "execution_count": 24,
      "outputs": [
        {
          "output_type": "stream",
          "name": "stdout",
          "text": [
            "Collecting package metadata (current_repodata.json): - \b\b\\ \b\b| \b\b/ \b\b- \b\b\\ \b\b| \b\b/ \b\b- \b\b\\ \b\b| \b\b/ \b\b- \b\bdone\n",
            "Solving environment: | \b\bfailed with initial frozen solve. Retrying with flexible solve.\n",
            "Collecting package metadata (repodata.json): - \b\b\\ \b\b| \b\b/ \b\b- \b\b\\ \b\b| \b\b/ \b\b- \b\b\\ \b\b| \b\b/ \b\b- \b\b\\ \b\b| \b\b/ \b\b- \b\b\\ \b\b| \b\b/ \b\b- \b\b\\ \b\b| \b\b/ \b\b- \b\b\\ \b\b| \b\b/ \b\b- \b\b\\ \b\b| \b\b/ \b\b- \b\b\\ \b\b| \b\b/ \b\bdone\n",
            "Solving environment: \\ \b\bfailed with initial frozen solve. Retrying with flexible solve.\n",
            "\n",
            "PackagesNotFoundError: The following packages are not available from current channels:\n",
            "\n",
            "  - m2-base\n",
            "\n",
            "Current channels:\n",
            "\n",
            "  - https://repo.anaconda.com/pkgs/main/linux-64\n",
            "  - https://repo.anaconda.com/pkgs/main/noarch\n",
            "  - https://repo.anaconda.com/pkgs/r/linux-64\n",
            "  - https://repo.anaconda.com/pkgs/r/noarch\n",
            "\n",
            "To search for alternate channels that may provide the conda package you're\n",
            "looking for, navigate to\n",
            "\n",
            "    https://anaconda.org\n",
            "\n",
            "and use the search bar at the top of the page.\n",
            "\n",
            "\n"
          ]
        }
      ]
    },
    {
      "cell_type": "code",
      "metadata": {
        "colab": {
          "base_uri": "https://localhost:8080/"
        },
        "id": "D5mIZO3rfOc4",
        "outputId": "4b1b74ab-0928-4822-9d55-0f3bf6bdf8c3"
      },
      "source": [
        "%%bash\n",
        "source activate Hilander && conda install m2-base"
      ],
      "execution_count": 26,
      "outputs": [
        {
          "output_type": "stream",
          "name": "stdout",
          "text": [
            "Collecting package metadata (current_repodata.json): ...working... done\n",
            "Solving environment: ...working... failed with initial frozen solve. Retrying with flexible solve.\n",
            "Collecting package metadata (repodata.json): ...working... done\n",
            "Solving environment: ...working... failed with initial frozen solve. Retrying with flexible solve.\n"
          ]
        },
        {
          "output_type": "stream",
          "name": "stderr",
          "text": [
            "\n",
            "PackagesNotFoundError: The following packages are not available from current channels:\n",
            "\n",
            "  - m2-base\n",
            "\n",
            "Current channels:\n",
            "\n",
            "  - https://repo.anaconda.com/pkgs/main/linux-64\n",
            "  - https://repo.anaconda.com/pkgs/main/noarch\n",
            "  - https://repo.anaconda.com/pkgs/r/linux-64\n",
            "  - https://repo.anaconda.com/pkgs/r/noarch\n",
            "\n",
            "To search for alternate channels that may provide the conda package you're\n",
            "looking for, navigate to\n",
            "\n",
            "    https://anaconda.org\n",
            "\n",
            "and use the search bar at the top of the page.\n",
            "\n",
            "\n"
          ]
        }
      ]
    },
    {
      "cell_type": "code",
      "metadata": {
        "colab": {
          "base_uri": "https://localhost:8080/"
        },
        "id": "omp57Rfnf92g",
        "outputId": "0cc438eb-d5a4-4943-f7da-9f56f42daff4"
      },
      "source": [
        "%%bash\n",
        "source activate Hilander && bash scripts/train_deepglint.sh"
      ],
      "execution_count": 27,
      "outputs": [
        {
          "output_type": "stream",
          "name": "stderr",
          "text": [
            "bash: scripts/train_deepglint.sh: No such file or directory\n"
          ]
        }
      ]
    },
    {
      "cell_type": "code",
      "metadata": {
        "colab": {
          "base_uri": "https://localhost:8080/"
        },
        "id": "G5y2bX4fgd2o",
        "outputId": "7b003836-31cc-4d2d-f926-b422d7673a2d"
      },
      "source": [
        "%%bash\n",
        "source activate Hilander && conda list"
      ],
      "execution_count": 29,
      "outputs": [
        {
          "output_type": "stream",
          "name": "stdout",
          "text": [
            "# packages in environment at /usr/local/envs/Hilander:\n",
            "#\n",
            "# Name                    Version                   Build  Channel\n",
            "_libgcc_mutex             0.1                        main  \n",
            "_openmp_mutex             4.5                       1_gnu  \n",
            "blas                      1.0                         mkl  \n",
            "ca-certificates           2021.10.26           h06a4308_2  \n",
            "certifi                   2021.10.8        py38h06a4308_0  \n",
            "charset-normalizer        2.0.7                    pypi_0    pypi\n",
            "cudatoolkit               10.2.89              hfd86e86_1  \n",
            "dgl-cu102                 0.6.1                    pypi_0    pypi\n",
            "faiss-gpu                 1.6.5           py3.8_hed44701_0_cuda10.2    pytorch\n",
            "freetype                  2.11.0               h70c0345_0  \n",
            "giflib                    5.2.1                h7b6447c_0  \n",
            "idna                      3.3                      pypi_0    pypi\n",
            "intel-openmp              2021.4.0          h06a4308_3561  \n",
            "joblib                    1.1.0                    pypi_0    pypi\n",
            "jpeg                      9b                   h024ee3a_2  \n",
            "lcms2                     2.12                 h3be6417_0  \n",
            "ld_impl_linux-64          2.35.1               h7274673_9  \n",
            "libfaiss                  1.6.5           h4fe19ad_0_cuda10.2    pytorch\n",
            "libffi                    3.3                  he6710b0_2  \n",
            "libgcc-ng                 9.3.0               h5101ec6_17  \n",
            "libgfortran-ng            7.5.0               ha8ba4b0_17  \n",
            "libgfortran4              7.5.0               ha8ba4b0_17  \n",
            "libgomp                   9.3.0               h5101ec6_17  \n",
            "libpng                    1.6.37               hbc83047_0  \n",
            "libstdcxx-ng              9.3.0               hd4cf53a_17  \n",
            "libtiff                   4.2.0                h85742a9_0  \n",
            "libuv                     1.40.0               h7b6447c_0  \n",
            "libwebp                   1.2.0                h89dd481_0  \n",
            "libwebp-base              1.2.0                h27cfd23_0  \n",
            "lz4-c                     1.9.3                h295c915_1  \n",
            "mkl                       2020.2                      256  \n",
            "mkl-service               2.3.0            py38he904b0f_0  \n",
            "ncurses                   6.3                  h7f8727e_2  \n",
            "networkx                  2.6.3                    pypi_0    pypi\n",
            "ninja                     1.10.2               hff7bd54_1  \n",
            "numpy                     1.21.4                   pypi_0    pypi\n",
            "olefile                   0.46               pyhd3eb1b0_0  \n",
            "openssl                   1.1.1l               h7f8727e_0  \n",
            "pillow                    8.4.0            py38h5aabda8_0  \n",
            "pip                       21.2.4           py38h06a4308_0  \n",
            "python                    3.8.12               h12debd9_0  \n",
            "pytorch                   1.7.1           py3.8_cuda10.2.89_cudnn7.6.5_0    pytorch\n",
            "readline                  8.1                  h27cfd23_0  \n",
            "requests                  2.26.0                   pypi_0    pypi\n",
            "scikit-learn              1.0.1                    pypi_0    pypi\n",
            "scipy                     1.7.2                    pypi_0    pypi\n",
            "setuptools                58.0.4           py38h06a4308_0  \n",
            "six                       1.16.0             pyhd3eb1b0_0  \n",
            "sqlite                    3.36.0               hc218d9a_0  \n",
            "threadpoolctl             3.0.0                    pypi_0    pypi\n",
            "tk                        8.6.11               h1ccaba5_0  \n",
            "torchaudio                0.7.2                      py38    pytorch\n",
            "torchvision               0.8.2                py38_cu102    pytorch\n",
            "tqdm                      4.62.3                   pypi_0    pypi\n",
            "typing_extensions         3.10.0.2           pyh06a4308_0  \n",
            "urllib3                   1.26.7                   pypi_0    pypi\n",
            "wheel                     0.37.0             pyhd3eb1b0_1  \n",
            "xz                        5.2.5                h7b6447c_0  \n",
            "zlib                      1.2.11               h7b6447c_3  \n",
            "zstd                      1.4.9                haebb681_0  \n"
          ]
        }
      ]
    }
  ]
}