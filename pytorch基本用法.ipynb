{
  "nbformat": 4,
  "nbformat_minor": 0,
  "metadata": {
    "colab": {
      "name": "Untitled1.ipynb",
      "provenance": [],
      "collapsed_sections": [],
      "authorship_tag": "ABX9TyO/EgwujnEs2NxnopkLaGs0",
      "include_colab_link": true
    },
    "kernelspec": {
      "name": "python3",
      "display_name": "Python 3"
    },
    "language_info": {
      "name": "python"
    }
  },
  "cells": [
    {
      "cell_type": "markdown",
      "metadata": {
        "id": "view-in-github",
        "colab_type": "text"
      },
      "source": [
        "<a href=\"https://colab.research.google.com/github/wangxioanke/deep-learning-notebook/blob/main/pytorch%E5%9F%BA%E6%9C%AC%E7%94%A8%E6%B3%95.ipynb\" target=\"_parent\"><img src=\"https://colab.research.google.com/assets/colab-badge.svg\" alt=\"Open In Colab\"/></a>"
      ]
    },
    {
      "cell_type": "markdown",
      "metadata": {
        "id": "vclmrM4gRhJw"
      },
      "source": [
        "## 张量\n",
        "pytorch中tensor的基本用法"
      ]
    },
    {
      "cell_type": "code",
      "metadata": {
        "colab": {
          "base_uri": "https://localhost:8080/"
        },
        "id": "EEoaTPNaRgNV",
        "outputId": "e5717686-2493-4948-8231-f27e4bd61e33"
      },
      "source": [
        "import torch\n",
        "x = torch.tensor([[1,-1],[-1,1]])\n",
        "# x = torch.from_numpy(np.array([[1,-1],[-1,1]]))\n",
        "print(x)"
      ],
      "execution_count": 2,
      "outputs": [
        {
          "output_type": "stream",
          "name": "stdout",
          "text": [
            "tensor([[ 1, -1],\n",
            "        [-1,  1]])\n"
          ]
        }
      ]
    },
    {
      "cell_type": "code",
      "metadata": {
        "id": "CQajTcN-bZuA"
      },
      "source": [
        "# Zero tensor\n",
        "x = torch.zeros([2,2])"
      ],
      "execution_count": null,
      "outputs": []
    },
    {
      "cell_type": "code",
      "metadata": {
        "colab": {
          "base_uri": "https://localhost:8080/"
        },
        "id": "AioHOvCybt7O",
        "outputId": "e0db22c8-f1b8-420d-c6db-e614561bd61b"
      },
      "source": [
        "# Squeeze 拿掉\n",
        "x = torch.zeros([1,2,3])\n",
        "x.shape\n",
        "x = x.squeeze(0)\n",
        "x.shape"
      ],
      "execution_count": 3,
      "outputs": [
        {
          "output_type": "execute_result",
          "data": {
            "text/plain": [
              "torch.Size([2, 3])"
            ]
          },
          "metadata": {},
          "execution_count": 3
        }
      ]
    },
    {
      "cell_type": "code",
      "metadata": {
        "id": "nGfurpzxcITs"
      },
      "source": [
        "# unsqueeze 加入元素\n",
        "x.unsqueeze(1)"
      ],
      "execution_count": null,
      "outputs": []
    },
    {
      "cell_type": "code",
      "metadata": {
        "colab": {
          "base_uri": "https://localhost:8080/"
        },
        "id": "XhK_pRFxcX7n",
        "outputId": "c1a68563-767c-47e5-9e1c-6362c4ef9438"
      },
      "source": [
        "# transpose 转置 参数为指定行列\n",
        "x = x.transpose(0,1)\n",
        "x.shape"
      ],
      "execution_count": 4,
      "outputs": [
        {
          "output_type": "execute_result",
          "data": {
            "text/plain": [
              "torch.Size([3, 2])"
            ]
          },
          "metadata": {},
          "execution_count": 4
        }
      ]
    },
    {
      "cell_type": "code",
      "metadata": {
        "colab": {
          "base_uri": "https://localhost:8080/"
        },
        "id": "1C0esxCec7i-",
        "outputId": "51e504ea-ad3c-4f59-da8a-5f032db559ea"
      },
      "source": [
        "x = torch.zeros([2,1,3])\n",
        "x.shape"
      ],
      "execution_count": 5,
      "outputs": [
        {
          "output_type": "execute_result",
          "data": {
            "text/plain": [
              "torch.Size([2, 1, 3])"
            ]
          },
          "metadata": {},
          "execution_count": 5
        }
      ]
    },
    {
      "cell_type": "code",
      "metadata": {
        "colab": {
          "base_uri": "https://localhost:8080/"
        },
        "id": "9vEeMiFKdfFr",
        "outputId": "9dd64cf7-fe46-4611-e42f-add0f104853a"
      },
      "source": [
        "torch.cuda.is_available()"
      ],
      "execution_count": 6,
      "outputs": [
        {
          "output_type": "execute_result",
          "data": {
            "text/plain": [
              "False"
            ]
          },
          "metadata": {},
          "execution_count": 6
        }
      ]
    }
  ]
}