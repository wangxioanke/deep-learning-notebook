{
  "nbformat": 4,
  "nbformat_minor": 0,
  "metadata": {
    "colab": {
      "name": "Untitled1.ipynb",
      "provenance": [],
      "collapsed_sections": [],
      "authorship_tag": "ABX9TyOcbW6PD/NmuhUzsG80lYMb",
      "include_colab_link": true
    },
    "kernelspec": {
      "name": "python3",
      "display_name": "Python 3"
    },
    "language_info": {
      "name": "python"
    }
  },
  "cells": [
    {
      "cell_type": "markdown",
      "metadata": {
        "id": "view-in-github",
        "colab_type": "text"
      },
      "source": [
        "<a href=\"https://colab.research.google.com/github/wangxioanke/-/blob/main/Untitled1.ipynb\" target=\"_parent\"><img src=\"https://colab.research.google.com/assets/colab-badge.svg\" alt=\"Open In Colab\"/></a>"
      ]
    },
    {
      "cell_type": "markdown",
      "metadata": {
        "id": "vclmrM4gRhJw"
      },
      "source": [
        "# 张量\n",
        "pytorch中tensor的基本用法"
      ]
    },
    {
      "cell_type": "code",
      "metadata": {
        "colab": {
          "base_uri": "https://localhost:8080/"
        },
        "id": "EEoaTPNaRgNV",
        "outputId": "fe083067-7fb7-4b83-d450-412b288f2d50"
      },
      "source": [
        "import torch\n",
        "x = torch.tensor([[1,-1],[-1,1]])\n",
        "# x = torch.from_numpy(np.array([[1,-1],[-1,1]]))\n",
        "print(x)"
      ],
      "execution_count": 1,
      "outputs": [
        {
          "output_type": "stream",
          "name": "stdout",
          "text": [
            "tensor([[ 1, -1],\n",
            "        [-1,  1]])\n"
          ]
        }
      ]
    }
  ]
}