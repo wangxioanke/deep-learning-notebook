{
  "nbformat": 4,
  "nbformat_minor": 0,
  "metadata": {
    "colab": {
      "name": "Untitled4.ipynb",
      "provenance": [],
      "authorship_tag": "ABX9TyM+arHovsIebiBZUtEBgJEY",
      "include_colab_link": true
    },
    "kernelspec": {
      "name": "python3",
      "display_name": "Python 3"
    },
    "language_info": {
      "name": "python"
    },
    "accelerator": "GPU"
  },
  "cells": [
    {
      "cell_type": "markdown",
      "metadata": {
        "id": "view-in-github",
        "colab_type": "text"
      },
      "source": [
        "<a href=\"https://colab.research.google.com/github/wangxioanke/deep-learning-notebook/blob/main/300.ipynb\" target=\"_parent\"><img src=\"https://colab.research.google.com/assets/colab-badge.svg\" alt=\"Open In Colab\"/></a>"
      ]
    },
    {
      "cell_type": "code",
      "metadata": {
        "colab": {
          "base_uri": "https://localhost:8080/"
        },
        "id": "FWG-c9lA6P97",
        "outputId": "d6d9c310-64f1-4ab1-abab-e1f6d7ac7a33"
      },
      "source": [
        "cd /usr/local"
      ],
      "execution_count": 1,
      "outputs": [
        {
          "output_type": "stream",
          "name": "stdout",
          "text": [
            "/usr/local\n"
          ]
        }
      ]
    },
    {
      "cell_type": "code",
      "metadata": {
        "colab": {
          "base_uri": "https://localhost:8080/"
        },
        "id": "ZXi1tx7C6lB8",
        "outputId": "e99b98ac-ce5a-4123-859c-73e53688adb9"
      },
      "source": [
        "ls"
      ],
      "execution_count": 2,
      "outputs": [
        {
          "output_type": "stream",
          "name": "stdout",
          "text": [
            "\u001b[0m\u001b[01;34mbin\u001b[0m/        \u001b[01;36mcuda-11\u001b[0m@    \u001b[01;34mgames\u001b[0m/               LICENSE.txt  setup.cfg\n",
            "\u001b[01;36mcuda\u001b[0m@       \u001b[01;34mcuda-11.0\u001b[0m/  \u001b[01;34m_gcs_config_ops.so\u001b[0m/  \u001b[01;34mlicensing\u001b[0m/   \u001b[01;34mshare\u001b[0m/\n",
            "\u001b[01;34mcuda-10.0\u001b[0m/  \u001b[01;34mcuda-11.1\u001b[0m/  \u001b[01;34minclude\u001b[0m/             \u001b[01;36mman\u001b[0m@         \u001b[01;34msrc\u001b[0m/\n",
            "\u001b[01;34mcuda-10.1\u001b[0m/  \u001b[01;34metc\u001b[0m/        \u001b[01;34mlib\u001b[0m/                 \u001b[01;34msbin\u001b[0m/        \u001b[01;34mxgboost\u001b[0m/\n"
          ]
        }
      ]
    },
    {
      "cell_type": "code",
      "metadata": {
        "colab": {
          "base_uri": "https://localhost:8080/"
        },
        "id": "DbPA25rZ6qdJ",
        "outputId": "ebaf653f-60f4-415c-d86a-5c3fa5688e39"
      },
      "source": [
        "cd cuda"
      ],
      "execution_count": 3,
      "outputs": [
        {
          "output_type": "stream",
          "name": "stdout",
          "text": [
            "/usr/local/cuda-11.1\n"
          ]
        }
      ]
    },
    {
      "cell_type": "code",
      "metadata": {
        "colab": {
          "base_uri": "https://localhost:8080/"
        },
        "id": "MXp7owdI6uXQ",
        "outputId": "25eb5714-052e-4982-c56b-52564624c764"
      },
      "source": [
        "!wget -c https://mirrors.tuna.tsinghua.edu.cn/anaconda/archive/Anaconda3-5.3.1-Linux-x86_64.sh"
      ],
      "execution_count": 4,
      "outputs": [
        {
          "output_type": "stream",
          "name": "stdout",
          "text": [
            "--2021-10-02 07:32:46--  https://mirrors.tuna.tsinghua.edu.cn/anaconda/archive/Anaconda3-5.3.1-Linux-x86_64.sh\n",
            "Resolving mirrors.tuna.tsinghua.edu.cn (mirrors.tuna.tsinghua.edu.cn)... 101.6.15.130, 2402:f000:1:400::2\n",
            "Connecting to mirrors.tuna.tsinghua.edu.cn (mirrors.tuna.tsinghua.edu.cn)|101.6.15.130|:443... connected.\n",
            "HTTP request sent, awaiting response... 200 OK\n",
            "Length: 667976437 (637M) [application/octet-stream]\n",
            "Saving to: ‘Anaconda3-5.3.1-Linux-x86_64.sh’\n",
            "\n",
            "Anaconda3-5.3.1-Lin 100%[===================>] 637.03M  49.6MB/s    in 12s     \n",
            "\n",
            "2021-10-02 07:32:59 (51.2 MB/s) - ‘Anaconda3-5.3.1-Linux-x86_64.sh’ saved [667976437/667976437]\n",
            "\n"
          ]
        }
      ]
    },
    {
      "cell_type": "code",
      "metadata": {
        "id": "F1E8WQ35688Y"
      },
      "source": [
        "!chmod +x Anaconda3-5.3.1-Linux-x86_64.sh"
      ],
      "execution_count": 6,
      "outputs": []
    },
    {
      "cell_type": "code",
      "metadata": {
        "colab": {
          "base_uri": "https://localhost:8080/"
        },
        "id": "zkdUwvGd7EwA",
        "outputId": "e1d1c55b-b31f-45d6-bbc0-3dd7ae0b55bc"
      },
      "source": [
        "!bash ./Anaconda3-5.3.1-Linux-x86_64.sh -b -f -p /usr/local"
      ],
      "execution_count": 8,
      "outputs": [
        {
          "output_type": "stream",
          "name": "stdout",
          "text": [
            "PREFIX=/usr/local\n",
            "reinstalling: python-3.7.0-hc3d631a_0 ...\n",
            "Python 3.7.0\n",
            "reinstalling: blas-1.0-mkl ...\n",
            "reinstalling: ca-certificates-2018.03.07-0 ...\n",
            "reinstalling: conda-env-2.6.0-1 ...\n",
            "reinstalling: intel-openmp-2019.0-118 ...\n",
            "reinstalling: libgcc-ng-8.2.0-hdf63c60_1 ...\n",
            "reinstalling: libgfortran-ng-7.3.0-hdf63c60_0 ...\n",
            "reinstalling: libstdcxx-ng-8.2.0-hdf63c60_1 ...\n",
            "reinstalling: bzip2-1.0.6-h14c3975_5 ...\n",
            "reinstalling: expat-2.2.6-he6710b0_0 ...\n",
            "reinstalling: fribidi-1.0.5-h7b6447c_0 ...\n",
            "reinstalling: gmp-6.1.2-h6c8ec71_1 ...\n",
            "reinstalling: graphite2-1.3.12-h23475e2_2 ...\n",
            "reinstalling: icu-58.2-h9c2bf20_1 ...\n",
            "reinstalling: jbig-2.1-hdba287a_0 ...\n",
            "reinstalling: jpeg-9b-h024ee3a_2 ...\n",
            "reinstalling: libffi-3.2.1-hd88cf55_4 ...\n",
            "reinstalling: libsodium-1.0.16-h1bed415_0 ...\n",
            "reinstalling: libtool-2.4.6-h544aabb_3 ...\n",
            "reinstalling: libuuid-1.0.3-h1bed415_2 ...\n",
            "reinstalling: libxcb-1.13-h1bed415_1 ...\n",
            "reinstalling: lzo-2.10-h49e0be7_2 ...\n",
            "reinstalling: mkl-2019.0-118 ...\n",
            "reinstalling: ncurses-6.1-hf484d3e_0 ...\n",
            "reinstalling: openssl-1.0.2p-h14c3975_0 ...\n",
            "reinstalling: patchelf-0.9-hf484d3e_2 ...\n",
            "reinstalling: pcre-8.42-h439df22_0 ...\n",
            "reinstalling: pixman-0.34.0-hceecf20_3 ...\n",
            "reinstalling: snappy-1.1.7-hbae5bb6_3 ...\n",
            "reinstalling: xz-5.2.4-h14c3975_4 ...\n",
            "reinstalling: yaml-0.1.7-had09818_2 ...\n",
            "reinstalling: zlib-1.2.11-ha838bed_2 ...\n",
            "reinstalling: blosc-1.14.4-hdbcaa40_0 ...\n",
            "reinstalling: glib-2.56.2-hd408876_0 ...\n",
            "reinstalling: hdf5-1.10.2-hba1933b_1 ...\n",
            "reinstalling: libedit-3.1.20170329-h6b74fdf_2 ...\n",
            "reinstalling: libpng-1.6.34-hb9fc6fc_0 ...\n",
            "reinstalling: libssh2-1.8.0-h9cfc8f7_4 ...\n",
            "reinstalling: libtiff-4.0.9-he85c1e1_2 ...\n",
            "reinstalling: libxml2-2.9.8-h26e45fe_1 ...\n",
            "reinstalling: mpfr-4.0.1-hdf1c602_3 ...\n",
            "reinstalling: pandoc-1.19.2.1-hea2e7c5_1 ...\n",
            "reinstalling: readline-7.0-h7b6447c_5 ...\n",
            "reinstalling: tk-8.6.8-hbc83047_0 ...\n",
            "reinstalling: zeromq-4.2.5-hf484d3e_1 ...\n",
            "reinstalling: dbus-1.13.2-h714fa37_1 ...\n",
            "reinstalling: freetype-2.9.1-h8a8886c_1 ...\n",
            "reinstalling: gstreamer-1.14.0-hb453b48_1 ...\n",
            "reinstalling: libcurl-7.61.0-h1ad7b7a_0 ...\n",
            "reinstalling: libxslt-1.1.32-h1312cb7_0 ...\n",
            "reinstalling: mpc-1.1.0-h10f8cd9_1 ...\n",
            "reinstalling: sqlite-3.24.0-h84994c4_0 ...\n",
            "reinstalling: unixodbc-2.3.7-h14c3975_0 ...\n",
            "reinstalling: curl-7.61.0-h84994c4_0 ...\n",
            "reinstalling: fontconfig-2.13.0-h9420a91_0 ...\n",
            "reinstalling: gst-plugins-base-1.14.0-hbbd80ab_1 ...\n",
            "reinstalling: alabaster-0.7.11-py37_0 ...\n",
            "reinstalling: appdirs-1.4.3-py37h28b3542_0 ...\n",
            "reinstalling: asn1crypto-0.24.0-py37_0 ...\n",
            "reinstalling: atomicwrites-1.2.1-py37_0 ...\n",
            "reinstalling: attrs-18.2.0-py37h28b3542_0 ...\n",
            "reinstalling: backcall-0.1.0-py37_0 ...\n",
            "reinstalling: backports-1.0-py37_1 ...\n",
            "reinstalling: beautifulsoup4-4.6.3-py37_0 ...\n",
            "reinstalling: bitarray-0.8.3-py37h14c3975_0 ...\n",
            "reinstalling: boto-2.49.0-py37_0 ...\n",
            "reinstalling: cairo-1.14.12-h8948797_3 ...\n",
            "reinstalling: certifi-2018.8.24-py37_1 ...\n",
            "reinstalling: chardet-3.0.4-py37_1 ...\n",
            "reinstalling: click-6.7-py37_0 ...\n",
            "reinstalling: cloudpickle-0.5.5-py37_0 ...\n",
            "reinstalling: colorama-0.3.9-py37_0 ...\n",
            "reinstalling: constantly-15.1.0-py37h28b3542_0 ...\n",
            "reinstalling: contextlib2-0.5.5-py37_0 ...\n",
            "reinstalling: dask-core-0.19.1-py37_0 ...\n",
            "reinstalling: decorator-4.3.0-py37_0 ...\n",
            "reinstalling: defusedxml-0.5.0-py37_1 ...\n",
            "reinstalling: docutils-0.14-py37_0 ...\n",
            "reinstalling: entrypoints-0.2.3-py37_2 ...\n",
            "reinstalling: et_xmlfile-1.0.1-py37_0 ...\n",
            "reinstalling: fastcache-1.0.2-py37h14c3975_2 ...\n",
            "reinstalling: filelock-3.0.8-py37_0 ...\n",
            "reinstalling: glob2-0.6-py37_0 ...\n",
            "reinstalling: gmpy2-2.0.8-py37h10f8cd9_2 ...\n",
            "reinstalling: greenlet-0.4.15-py37h7b6447c_0 ...\n",
            "reinstalling: heapdict-1.0.0-py37_2 ...\n",
            "reinstalling: idna-2.7-py37_0 ...\n",
            "reinstalling: imagesize-1.1.0-py37_0 ...\n",
            "reinstalling: incremental-17.5.0-py37_0 ...\n",
            "reinstalling: ipython_genutils-0.2.0-py37_0 ...\n",
            "reinstalling: itsdangerous-0.24-py37_1 ...\n",
            "reinstalling: jdcal-1.4-py37_0 ...\n",
            "reinstalling: jeepney-0.3.1-py37_0 ...\n",
            "reinstalling: kiwisolver-1.0.1-py37hf484d3e_0 ...\n",
            "reinstalling: lazy-object-proxy-1.3.1-py37h14c3975_2 ...\n",
            "reinstalling: llvmlite-0.24.0-py37hdbcaa40_0 ...\n",
            "reinstalling: locket-0.2.0-py37_1 ...\n",
            "reinstalling: lxml-4.2.5-py37hefd8a0e_0 ...\n",
            "reinstalling: markupsafe-1.0-py37h14c3975_1 ...\n",
            "reinstalling: mccabe-0.6.1-py37_1 ...\n",
            "reinstalling: mistune-0.8.3-py37h14c3975_1 ...\n",
            "reinstalling: mkl-service-1.1.2-py37h90e4bf4_5 ...\n",
            "reinstalling: mpmath-1.0.0-py37_2 ...\n",
            "reinstalling: msgpack-python-0.5.6-py37h6bb024c_1 ...\n",
            "reinstalling: numpy-base-1.15.1-py37h81de0dd_0 ...\n",
            "reinstalling: olefile-0.46-py37_0 ...\n",
            "reinstalling: pandocfilters-1.4.2-py37_1 ...\n",
            "reinstalling: parso-0.3.1-py37_0 ...\n",
            "reinstalling: path.py-11.1.0-py37_0 ...\n",
            "reinstalling: pep8-1.7.1-py37_0 ...\n",
            "reinstalling: pickleshare-0.7.4-py37_0 ...\n",
            "reinstalling: pkginfo-1.4.2-py37_1 ...\n",
            "reinstalling: pluggy-0.7.1-py37h28b3542_0 ...\n",
            "reinstalling: ply-3.11-py37_0 ...\n",
            "reinstalling: psutil-5.4.7-py37h14c3975_0 ...\n",
            "reinstalling: ptyprocess-0.6.0-py37_0 ...\n",
            "reinstalling: py-1.6.0-py37_0 ...\n",
            "reinstalling: pyasn1-0.4.4-py37h28b3542_0 ...\n",
            "reinstalling: pycodestyle-2.4.0-py37_0 ...\n",
            "reinstalling: pycosat-0.6.3-py37h14c3975_0 ...\n",
            "reinstalling: pycparser-2.18-py37_1 ...\n",
            "reinstalling: pycrypto-2.6.1-py37h14c3975_9 ...\n",
            "reinstalling: pycurl-7.43.0.2-py37hb7f436b_0 ...\n",
            "reinstalling: pyflakes-2.0.0-py37_0 ...\n",
            "reinstalling: pyodbc-4.0.24-py37he6710b0_0 ...\n",
            "reinstalling: pyparsing-2.2.0-py37_1 ...\n",
            "reinstalling: pysocks-1.6.8-py37_0 ...\n",
            "reinstalling: pytz-2018.5-py37_0 ...\n",
            "reinstalling: pyyaml-3.13-py37h14c3975_0 ...\n",
            "reinstalling: pyzmq-17.1.2-py37h14c3975_0 ...\n",
            "reinstalling: qt-5.9.6-h8703b6f_2 ...\n",
            "reinstalling: qtpy-1.5.0-py37_0 ...\n",
            "reinstalling: rope-0.11.0-py37_0 ...\n",
            "reinstalling: ruamel_yaml-0.15.46-py37h14c3975_0 ...\n",
            "reinstalling: send2trash-1.5.0-py37_0 ...\n",
            "reinstalling: simplegeneric-0.8.1-py37_2 ...\n",
            "reinstalling: sip-4.19.8-py37hf484d3e_0 ...\n",
            "reinstalling: six-1.11.0-py37_1 ...\n",
            "reinstalling: snowballstemmer-1.2.1-py37_0 ...\n",
            "reinstalling: sortedcontainers-2.0.5-py37_0 ...\n",
            "reinstalling: sphinxcontrib-1.0-py37_1 ...\n",
            "reinstalling: sqlalchemy-1.2.11-py37h7b6447c_0 ...\n",
            "reinstalling: tblib-1.3.2-py37_0 ...\n",
            "reinstalling: testpath-0.3.1-py37_0 ...\n",
            "reinstalling: toolz-0.9.0-py37_0 ...\n",
            "reinstalling: tornado-5.1-py37h14c3975_0 ...\n",
            "reinstalling: tqdm-4.26.0-py37h28b3542_0 ...\n",
            "reinstalling: unicodecsv-0.14.1-py37_0 ...\n",
            "reinstalling: wcwidth-0.1.7-py37_0 ...\n",
            "reinstalling: webencodings-0.5.1-py37_1 ...\n",
            "reinstalling: werkzeug-0.14.1-py37_0 ...\n",
            "reinstalling: wrapt-1.10.11-py37h14c3975_2 ...\n",
            "reinstalling: xlrd-1.1.0-py37_1 ...\n",
            "reinstalling: xlsxwriter-1.1.0-py37_0 ...\n",
            "reinstalling: xlwt-1.3.0-py37_0 ...\n",
            "reinstalling: zope-1.0-py37_1 ...\n",
            "reinstalling: astroid-2.0.4-py37_0 ...\n",
            "reinstalling: automat-0.7.0-py37_0 ...\n",
            "reinstalling: babel-2.6.0-py37_0 ...\n",
            "reinstalling: backports.shutil_get_terminal_size-1.0.0-py37_2 ...\n",
            "reinstalling: cffi-1.11.5-py37he75722e_1 ...\n",
            "reinstalling: cycler-0.10.0-py37_0 ...\n",
            "reinstalling: cytoolz-0.9.0.1-py37h14c3975_1 ...\n",
            "reinstalling: harfbuzz-1.8.8-hffaf4a1_0 ...\n",
            "reinstalling: html5lib-1.0.1-py37_0 ...\n",
            "reinstalling: hyperlink-18.0.0-py37_0 ...\n",
            "reinstalling: jedi-0.12.1-py37_0 ...\n",
            "reinstalling: more-itertools-4.3.0-py37_0 ...\n",
            "reinstalling: multipledispatch-0.6.0-py37_0 ...\n",
            "reinstalling: networkx-2.1-py37_0 ...\n",
            "reinstalling: nltk-3.3.0-py37_0 ...\n",
            "reinstalling: openpyxl-2.5.6-py37_0 ...\n",
            "reinstalling: packaging-17.1-py37_0 ...\n",
            "reinstalling: partd-0.3.8-py37_0 ...\n",
            "reinstalling: pathlib2-2.3.2-py37_0 ...\n",
            "reinstalling: pexpect-4.6.0-py37_0 ...\n",
            "reinstalling: pillow-5.2.0-py37heded4f4_0 ...\n",
            "reinstalling: pyasn1-modules-0.2.2-py37_0 ...\n",
            "reinstalling: pyqt-5.9.2-py37h05f1152_2 ...\n",
            "reinstalling: python-dateutil-2.7.3-py37_0 ...\n",
            "reinstalling: qtawesome-0.4.4-py37_0 ...\n",
            "reinstalling: setuptools-40.2.0-py37_0 ...\n",
            "reinstalling: singledispatch-3.4.0.3-py37_0 ...\n",
            "reinstalling: sortedcollections-1.0.1-py37_0 ...\n",
            "reinstalling: sphinxcontrib-websupport-1.1.0-py37_1 ...\n",
            "reinstalling: sympy-1.2-py37_0 ...\n",
            "reinstalling: terminado-0.8.1-py37_1 ...\n",
            "reinstalling: traitlets-4.3.2-py37_0 ...\n",
            "reinstalling: zict-0.1.3-py37_0 ...\n",
            "reinstalling: zope.interface-4.5.0-py37h14c3975_0 ...\n",
            "reinstalling: bleach-2.1.4-py37_0 ...\n",
            "reinstalling: clyent-1.2.2-py37_1 ...\n",
            "reinstalling: cryptography-2.3.1-py37hc365091_0 ...\n",
            "reinstalling: cython-0.28.5-py37hf484d3e_0 ...\n",
            "reinstalling: distributed-1.23.1-py37_0 ...\n",
            "reinstalling: get_terminal_size-1.0.0-haa9412d_0 ...\n",
            "reinstalling: gevent-1.3.6-py37h7b6447c_0 ...\n",
            "reinstalling: isort-4.3.4-py37_0 ...\n",
            "reinstalling: jinja2-2.10-py37_0 ...\n",
            "reinstalling: jsonschema-2.6.0-py37_0 ...\n",
            "reinstalling: jupyter_core-4.4.0-py37_0 ...\n",
            "reinstalling: navigator-updater-0.2.1-py37_0 ...\n",
            "reinstalling: nose-1.3.7-py37_2 ...\n",
            "reinstalling: pango-1.42.4-h049681c_0 ...\n",
            "reinstalling: pygments-2.2.0-py37_0 ...\n",
            "reinstalling: pytest-3.8.0-py37_0 ...\n",
            "reinstalling: wheel-0.31.1-py37_0 ...\n",
            "reinstalling: flask-1.0.2-py37_1 ...\n",
            "reinstalling: jupyter_client-5.2.3-py37_0 ...\n",
            "reinstalling: nbformat-4.4.0-py37_0 ...\n",
            "reinstalling: pip-10.0.1-py37_0 ...\n",
            "reinstalling: prompt_toolkit-1.0.15-py37_0 ...\n",
            "reinstalling: pylint-2.1.1-py37_0 ...\n",
            "reinstalling: pyopenssl-18.0.0-py37_0 ...\n",
            "reinstalling: pytest-openfiles-0.3.0-py37_0 ...\n",
            "reinstalling: pytest-remotedata-0.3.0-py37_0 ...\n",
            "reinstalling: secretstorage-3.1.0-py37_0 ...\n",
            "reinstalling: flask-cors-3.0.6-py37_0 ...\n",
            "reinstalling: ipython-6.5.0-py37_0 ...\n",
            "reinstalling: keyring-13.2.1-py37_0 ...\n",
            "reinstalling: nbconvert-5.4.0-py37_1 ...\n",
            "reinstalling: service_identity-17.0.0-py37h28b3542_0 ...\n",
            "reinstalling: urllib3-1.23-py37_0 ...\n",
            "reinstalling: ipykernel-4.9.0-py37_1 ...\n",
            "reinstalling: requests-2.19.1-py37_0 ...\n",
            "reinstalling: twisted-18.7.0-py37h14c3975_1 ...\n",
            "reinstalling: anaconda-client-1.7.2-py37_0 ...\n",
            "reinstalling: jupyter_console-5.2.0-py37_1 ...\n",
            "reinstalling: prometheus_client-0.3.1-py37h28b3542_0 ...\n",
            "reinstalling: qtconsole-4.4.1-py37_0 ...\n",
            "reinstalling: sphinx-1.7.9-py37_0 ...\n",
            "reinstalling: spyder-kernels-0.2.6-py37_0 ...\n",
            "reinstalling: anaconda-navigator-1.9.2-py37_0 ...\n",
            "reinstalling: anaconda-project-0.8.2-py37_0 ...\n",
            "reinstalling: notebook-5.6.0-py37_0 ...\n",
            "reinstalling: numpydoc-0.8.0-py37_0 ...\n",
            "reinstalling: jupyterlab_launcher-0.13.1-py37_0 ...\n",
            "reinstalling: spyder-3.3.1-py37_1 ...\n",
            "reinstalling: widgetsnbextension-3.4.1-py37_0 ...\n",
            "reinstalling: ipywidgets-7.4.1-py37_0 ...\n",
            "reinstalling: jupyterlab-0.34.9-py37_0 ...\n",
            "reinstalling: _ipyw_jlab_nb_ext_conf-0.1.0-py37_0 ...\n",
            "reinstalling: jupyter-1.0.0-py37_7 ...\n",
            "reinstalling: bokeh-0.13.0-py37_0 ...\n",
            "reinstalling: bottleneck-1.2.1-py37h035aef0_1 ...\n",
            "reinstalling: conda-4.5.11-py37_0 ...\n",
            "reinstalling: conda-build-3.15.1-py37_0 ...\n",
            "reinstalling: datashape-0.5.4-py37_1 ...\n",
            "reinstalling: h5py-2.8.0-py37h989c5e5_3 ...\n",
            "reinstalling: imageio-2.4.1-py37_0 ...\n",
            "reinstalling: matplotlib-2.2.3-py37hb69df0a_0 ...\n",
            "reinstalling: mkl_fft-1.0.4-py37h4414c95_1 ...\n",
            "reinstalling: mkl_random-1.0.1-py37h4414c95_1 ...\n",
            "reinstalling: numpy-1.15.1-py37h1d66e8a_0 ...\n",
            "reinstalling: numba-0.39.0-py37h04863e7_0 ...\n",
            "reinstalling: numexpr-2.6.8-py37hd89afb7_0 ...\n",
            "reinstalling: pandas-0.23.4-py37h04863e7_0 ...\n",
            "reinstalling: pytest-arraydiff-0.2-py37h39e3cac_0 ...\n",
            "reinstalling: pytest-doctestplus-0.1.3-py37_0 ...\n",
            "reinstalling: pywavelets-1.0.0-py37hdd07704_0 ...\n",
            "reinstalling: scipy-1.1.0-py37hfa4b5c9_1 ...\n",
            "reinstalling: bkcharts-0.2-py37_0 ...\n",
            "reinstalling: dask-0.19.1-py37_0 ...\n",
            "reinstalling: patsy-0.5.0-py37_0 ...\n",
            "reinstalling: pytables-3.4.4-py37ha205bf6_0 ...\n",
            "reinstalling: pytest-astropy-0.4.0-py37_0 ...\n",
            "reinstalling: scikit-image-0.14.0-py37hf484d3e_1 ...\n",
            "reinstalling: scikit-learn-0.19.2-py37h4989274_0 ...\n",
            "reinstalling: astropy-3.0.4-py37h14c3975_0 ...\n",
            "reinstalling: odo-0.5.1-py37_0 ...\n",
            "reinstalling: statsmodels-0.9.0-py37h035aef0_0 ...\n",
            "reinstalling: blaze-0.11.3-py37_0 ...\n",
            "reinstalling: seaborn-0.9.0-py37_0 ...\n",
            "reinstalling: anaconda-5.3.1-py37_0 ...\n",
            "installation finished.\n",
            "WARNING:\n",
            "    You currently have a PYTHONPATH environment variable set. This may cause\n",
            "    unexpected behavior when running the Python interpreter in Anaconda3.\n",
            "    For best results, please verify that your PYTHONPATH only points to\n",
            "    directories of packages that are compatible with the Python interpreter\n",
            "    in Anaconda3: /usr/local\n"
          ]
        }
      ]
    },
    {
      "cell_type": "code",
      "metadata": {
        "colab": {
          "base_uri": "https://localhost:8080/"
        },
        "id": "qIgkyY0l75rC",
        "outputId": "e84dedf7-9384-4d65-81d7-aec7e0356bac"
      },
      "source": [
        "!conda list"
      ],
      "execution_count": 11,
      "outputs": [
        {
          "output_type": "stream",
          "name": "stdout",
          "text": [
            "# packages in environment at /usr/local:\n",
            "#\n",
            "# Name                    Version                   Build  Channel\n",
            "_ipyw_jlab_nb_ext_conf    0.1.0                    py37_0  \n",
            "alabaster                 0.7.11                   py37_0  \n",
            "anaconda                  5.3.1                    py37_0  \n",
            "anaconda-client           1.7.2                    py37_0  \n",
            "anaconda-navigator        1.9.2                    py37_0  \n",
            "anaconda-project          0.8.2                    py37_0  \n",
            "appdirs                   1.4.3            py37h28b3542_0  \n",
            "asn1crypto                0.24.0                   py37_0  \n",
            "astroid                   2.0.4                    py37_0  \n",
            "astropy                   3.0.4            py37h14c3975_0  \n",
            "atomicwrites              1.2.1                    py37_0  \n",
            "attrs                     18.2.0           py37h28b3542_0  \n",
            "automat                   0.7.0                    py37_0  \n",
            "babel                     2.6.0                    py37_0  \n",
            "backcall                  0.1.0                    py37_0  \n",
            "backports                 1.0                      py37_1  \n",
            "backports.shutil_get_terminal_size 1.0.0                    py37_2  \n",
            "beautifulsoup4            4.6.3                    py37_0  \n",
            "bitarray                  0.8.3            py37h14c3975_0  \n",
            "bkcharts                  0.2                      py37_0  \n",
            "blas                      1.0                         mkl  \n",
            "blaze                     0.11.3                   py37_0  \n",
            "bleach                    2.1.4                    py37_0  \n",
            "blosc                     1.14.4               hdbcaa40_0  \n",
            "bokeh                     0.13.0                   py37_0  \n",
            "boto                      2.49.0                   py37_0  \n",
            "bottleneck                1.2.1            py37h035aef0_1  \n",
            "bzip2                     1.0.6                h14c3975_5  \n",
            "ca-certificates           2018.03.07                    0  \n",
            "cairo                     1.14.12              h8948797_3  \n",
            "certifi                   2018.8.24                py37_1  \n",
            "cffi                      1.11.5           py37he75722e_1  \n",
            "chardet                   3.0.4                    py37_1  \n",
            "click                     6.7                      py37_0  \n",
            "cloudpickle               0.5.5                    py37_0  \n",
            "clyent                    1.2.2                    py37_1  \n",
            "colorama                  0.3.9                    py37_0  \n",
            "conda                     4.5.11                   py37_0  \n",
            "conda-build               3.15.1                   py37_0  \n",
            "conda-env                 2.6.0                         1  \n",
            "constantly                15.1.0           py37h28b3542_0  \n",
            "contextlib2               0.5.5                    py37_0  \n",
            "cryptography              2.3.1            py37hc365091_0  \n",
            "curl                      7.61.0               h84994c4_0  \n",
            "cycler                    0.10.0                   py37_0  \n",
            "cython                    0.28.5           py37hf484d3e_0  \n",
            "cytoolz                   0.9.0.1          py37h14c3975_1  \n",
            "dask                      0.19.1                   py37_0  \n",
            "dask-core                 0.19.1                   py37_0  \n",
            "datashape                 0.5.4                    py37_1  \n",
            "dbus                      1.13.2               h714fa37_1  \n",
            "decorator                 4.3.0                    py37_0  \n",
            "defusedxml                0.5.0                    py37_1  \n",
            "distributed               1.23.1                   py37_0  \n",
            "docutils                  0.14                     py37_0  \n",
            "entrypoints               0.2.3                    py37_2  \n",
            "et_xmlfile                1.0.1                    py37_0  \n",
            "expat                     2.2.6                he6710b0_0  \n",
            "fastcache                 1.0.2            py37h14c3975_2  \n",
            "filelock                  3.0.8                    py37_0  \n",
            "flask                     1.0.2                    py37_1  \n",
            "flask-cors                3.0.6                    py37_0  \n",
            "fontconfig                2.13.0               h9420a91_0  \n",
            "freetype                  2.9.1                h8a8886c_1  \n",
            "fribidi                   1.0.5                h7b6447c_0  \n",
            "get_terminal_size         1.0.0                haa9412d_0  \n",
            "gevent                    1.3.6            py37h7b6447c_0  \n",
            "glib                      2.56.2               hd408876_0  \n",
            "glob2                     0.6                      py37_0  \n",
            "gmp                       6.1.2                h6c8ec71_1  \n",
            "gmpy2                     2.0.8            py37h10f8cd9_2  \n",
            "graphite2                 1.3.12               h23475e2_2  \n",
            "greenlet                  0.4.15           py37h7b6447c_0  \n",
            "gst-plugins-base          1.14.0               hbbd80ab_1  \n",
            "gstreamer                 1.14.0               hb453b48_1  \n",
            "h5py                      2.8.0            py37h989c5e5_3  \n",
            "harfbuzz                  1.8.8                hffaf4a1_0  \n",
            "hdf5                      1.10.2               hba1933b_1  \n",
            "heapdict                  1.0.0                    py37_2  \n",
            "html5lib                  1.0.1                    py37_0  \n",
            "hyperlink                 18.0.0                   py37_0  \n",
            "icu                       58.2                 h9c2bf20_1  \n",
            "idna                      2.7                      py37_0  \n",
            "imageio                   2.4.1                    py37_0  \n",
            "imagesize                 1.1.0                    py37_0  \n",
            "incremental               17.5.0                   py37_0  \n",
            "intel-openmp              2019.0                      118  \n",
            "ipykernel                 4.9.0                    py37_1  \n",
            "ipython                   6.5.0                    py37_0  \n",
            "ipython_genutils          0.2.0                    py37_0  \n",
            "ipywidgets                7.4.1                    py37_0  \n",
            "isort                     4.3.4                    py37_0  \n",
            "itsdangerous              0.24                     py37_1  \n",
            "jbig                      2.1                  hdba287a_0  \n",
            "jdcal                     1.4                      py37_0  \n",
            "jedi                      0.12.1                   py37_0  \n",
            "jeepney                   0.3.1                    py37_0  \n",
            "jinja2                    2.10                     py37_0  \n",
            "jpeg                      9b                   h024ee3a_2  \n",
            "jsonschema                2.6.0                    py37_0  \n",
            "jupyter                   1.0.0                    py37_7  \n",
            "jupyter_client            5.2.3                    py37_0  \n",
            "jupyter_console           5.2.0                    py37_1  \n",
            "jupyter_core              4.4.0                    py37_0  \n",
            "jupyterlab                0.34.9                   py37_0  \n",
            "jupyterlab_launcher       0.13.1                   py37_0  \n",
            "keyring                   13.2.1                   py37_0  \n",
            "kiwisolver                1.0.1            py37hf484d3e_0  \n",
            "lazy-object-proxy         1.3.1            py37h14c3975_2  \n",
            "libcurl                   7.61.0               h1ad7b7a_0  \n",
            "libedit                   3.1.20170329         h6b74fdf_2  \n",
            "libffi                    3.2.1                hd88cf55_4  \n",
            "libgcc-ng                 8.2.0                hdf63c60_1  \n",
            "libgfortran-ng            7.3.0                hdf63c60_0  \n",
            "libpng                    1.6.34               hb9fc6fc_0  \n",
            "libsodium                 1.0.16               h1bed415_0  \n",
            "libssh2                   1.8.0                h9cfc8f7_4  \n",
            "libstdcxx-ng              8.2.0                hdf63c60_1  \n",
            "libtiff                   4.0.9                he85c1e1_2  \n",
            "libtool                   2.4.6                h544aabb_3  \n",
            "libuuid                   1.0.3                h1bed415_2  \n",
            "libxcb                    1.13                 h1bed415_1  \n",
            "libxml2                   2.9.8                h26e45fe_1  \n",
            "libxslt                   1.1.32               h1312cb7_0  \n",
            "llvmlite                  0.24.0           py37hdbcaa40_0  \n",
            "locket                    0.2.0                    py37_1  \n",
            "lxml                      4.2.5            py37hefd8a0e_0  \n",
            "lzo                       2.10                 h49e0be7_2  \n",
            "markupsafe                1.0              py37h14c3975_1  \n",
            "matplotlib                2.2.3            py37hb69df0a_0  \n",
            "mccabe                    0.6.1                    py37_1  \n",
            "mistune                   0.8.3            py37h14c3975_1  \n",
            "mkl                       2019.0                      118  \n",
            "mkl-service               1.1.2            py37h90e4bf4_5  \n",
            "mkl_fft                   1.0.4            py37h4414c95_1  \n",
            "mkl_random                1.0.1            py37h4414c95_1  \n",
            "more-itertools            4.3.0                    py37_0  \n",
            "mpc                       1.1.0                h10f8cd9_1  \n",
            "mpfr                      4.0.1                hdf1c602_3  \n",
            "mpmath                    1.0.0                    py37_2  \n",
            "msgpack-python            0.5.6            py37h6bb024c_1  \n",
            "multipledispatch          0.6.0                    py37_0  \n",
            "navigator-updater         0.2.1                    py37_0  \n",
            "nbconvert                 5.4.0                    py37_1  \n",
            "nbformat                  4.4.0                    py37_0  \n",
            "ncurses                   6.1                  hf484d3e_0  \n",
            "networkx                  2.1                      py37_0  \n",
            "nltk                      3.3.0                    py37_0  \n",
            "nose                      1.3.7                    py37_2  \n",
            "notebook                  5.6.0                    py37_0  \n",
            "numba                     0.39.0           py37h04863e7_0  \n",
            "numexpr                   2.6.8            py37hd89afb7_0  \n",
            "numpy                     1.15.1           py37h1d66e8a_0  \n",
            "numpy-base                1.15.1           py37h81de0dd_0  \n",
            "numpydoc                  0.8.0                    py37_0  \n",
            "odo                       0.5.1                    py37_0  \n",
            "olefile                   0.46                     py37_0  \n",
            "openpyxl                  2.5.6                    py37_0  \n",
            "openssl                   1.0.2p               h14c3975_0  \n",
            "packaging                 17.1                     py37_0  \n",
            "pandas                    0.23.4           py37h04863e7_0  \n",
            "pandoc                    1.19.2.1             hea2e7c5_1  \n",
            "pandocfilters             1.4.2                    py37_1  \n",
            "pango                     1.42.4               h049681c_0  \n",
            "parso                     0.3.1                    py37_0  \n",
            "partd                     0.3.8                    py37_0  \n",
            "patchelf                  0.9                  hf484d3e_2  \n",
            "path.py                   11.1.0                   py37_0  \n",
            "pathlib2                  2.3.2                    py37_0  \n",
            "patsy                     0.5.0                    py37_0  \n",
            "pcre                      8.42                 h439df22_0  \n",
            "pep8                      1.7.1                    py37_0  \n",
            "pexpect                   4.6.0                    py37_0  \n",
            "pickleshare               0.7.4                    py37_0  \n",
            "pillow                    5.2.0            py37heded4f4_0  \n",
            "pip                       10.0.1                   py37_0  \n",
            "pixman                    0.34.0               hceecf20_3  \n",
            "pkginfo                   1.4.2                    py37_1  \n",
            "pluggy                    0.7.1            py37h28b3542_0  \n",
            "ply                       3.11                     py37_0  \n",
            "prometheus_client         0.3.1            py37h28b3542_0  \n",
            "prompt_toolkit            1.0.15                   py37_0  \n",
            "psutil                    5.4.7            py37h14c3975_0  \n",
            "ptyprocess                0.6.0                    py37_0  \n",
            "py                        1.6.0                    py37_0  \n",
            "pyasn1                    0.4.4            py37h28b3542_0  \n",
            "pyasn1-modules            0.2.2                    py37_0  \n",
            "pycodestyle               2.4.0                    py37_0  \n",
            "pycosat                   0.6.3            py37h14c3975_0  \n",
            "pycparser                 2.18                     py37_1  \n",
            "pycrypto                  2.6.1            py37h14c3975_9  \n",
            "pycurl                    7.43.0.2         py37hb7f436b_0  \n",
            "pyflakes                  2.0.0                    py37_0  \n",
            "pygments                  2.2.0                    py37_0  \n",
            "pylint                    2.1.1                    py37_0  \n",
            "pyodbc                    4.0.24           py37he6710b0_0  \n",
            "pyopenssl                 18.0.0                   py37_0  \n",
            "pyparsing                 2.2.0                    py37_1  \n",
            "pyqt                      5.9.2            py37h05f1152_2  \n",
            "pysocks                   1.6.8                    py37_0  \n",
            "pytables                  3.4.4            py37ha205bf6_0  \n",
            "pytest                    3.8.0                    py37_0  \n",
            "pytest-arraydiff          0.2              py37h39e3cac_0  \n",
            "pytest-astropy            0.4.0                    py37_0  \n",
            "pytest-doctestplus        0.1.3                    py37_0  \n",
            "pytest-openfiles          0.3.0                    py37_0  \n",
            "pytest-remotedata         0.3.0                    py37_0  \n",
            "python                    3.7.0                hc3d631a_0  \n",
            "python-dateutil           2.7.3                    py37_0  \n",
            "pytz                      2018.5                   py37_0  \n",
            "pywavelets                1.0.0            py37hdd07704_0  \n",
            "pyyaml                    3.13             py37h14c3975_0  \n",
            "pyzmq                     17.1.2           py37h14c3975_0  \n",
            "qt                        5.9.6                h8703b6f_2  \n",
            "qtawesome                 0.4.4                    py37_0  \n",
            "qtconsole                 4.4.1                    py37_0  \n",
            "qtpy                      1.5.0                    py37_0  \n",
            "readline                  7.0                  h7b6447c_5  \n",
            "requests                  2.19.1                   py37_0  \n",
            "rope                      0.11.0                   py37_0  \n",
            "ruamel_yaml               0.15.46          py37h14c3975_0  \n",
            "scikit-image              0.14.0           py37hf484d3e_1  \n",
            "scikit-learn              0.19.2           py37h4989274_0  \n",
            "scipy                     1.1.0            py37hfa4b5c9_1  \n",
            "seaborn                   0.9.0                    py37_0  \n",
            "secretstorage             3.1.0                    py37_0  \n",
            "send2trash                1.5.0                    py37_0  \n",
            "service_identity          17.0.0           py37h28b3542_0  \n",
            "setuptools                40.2.0                   py37_0  \n",
            "simplegeneric             0.8.1                    py37_2  \n",
            "singledispatch            3.4.0.3                  py37_0  \n",
            "sip                       4.19.8           py37hf484d3e_0  \n",
            "six                       1.11.0                   py37_1  \n",
            "snappy                    1.1.7                hbae5bb6_3  \n",
            "snowballstemmer           1.2.1                    py37_0  \n",
            "sortedcollections         1.0.1                    py37_0  \n",
            "sortedcontainers          2.0.5                    py37_0  \n",
            "sphinx                    1.7.9                    py37_0  \n",
            "sphinxcontrib             1.0                      py37_1  \n",
            "sphinxcontrib-websupport  1.1.0                    py37_1  \n",
            "spyder                    3.3.1                    py37_1  \n",
            "spyder-kernels            0.2.6                    py37_0  \n",
            "sqlalchemy                1.2.11           py37h7b6447c_0  \n",
            "sqlite                    3.24.0               h84994c4_0  \n",
            "statsmodels               0.9.0            py37h035aef0_0  \n",
            "sympy                     1.2                      py37_0  \n",
            "tblib                     1.3.2                    py37_0  \n",
            "terminado                 0.8.1                    py37_1  \n",
            "testpath                  0.3.1                    py37_0  \n",
            "tk                        8.6.8                hbc83047_0  \n",
            "toolz                     0.9.0                    py37_0  \n",
            "tornado                   5.1              py37h14c3975_0  \n",
            "tqdm                      4.26.0           py37h28b3542_0  \n",
            "traitlets                 4.3.2                    py37_0  \n",
            "twisted                   18.7.0           py37h14c3975_1  \n",
            "unicodecsv                0.14.1                   py37_0  \n",
            "unixodbc                  2.3.7                h14c3975_0  \n",
            "urllib3                   1.23                     py37_0  \n",
            "wcwidth                   0.1.7                    py37_0  \n",
            "webencodings              0.5.1                    py37_1  \n",
            "werkzeug                  0.14.1                   py37_0  \n",
            "wheel                     0.31.1                   py37_0  \n",
            "widgetsnbextension        3.4.1                    py37_0  \n",
            "wrapt                     1.10.11          py37h14c3975_2  \n",
            "xlrd                      1.1.0                    py37_1  \n",
            "xlsxwriter                1.1.0                    py37_0  \n",
            "xlwt                      1.3.0                    py37_0  \n",
            "xz                        5.2.4                h14c3975_4  \n",
            "yaml                      0.1.7                had09818_2  \n",
            "zeromq                    4.2.5                hf484d3e_1  \n",
            "zict                      0.1.3                    py37_0  \n",
            "zlib                      1.2.11               ha838bed_2  \n",
            "zope                      1.0                      py37_1  \n",
            "zope.interface            4.5.0            py37h14c3975_0  \n"
          ]
        }
      ]
    },
    {
      "cell_type": "code",
      "metadata": {
        "colab": {
          "base_uri": "https://localhost:8080/"
        },
        "id": "Iq9QfDWk8EWw",
        "outputId": "d1a9525c-dc2b-4df5-e546-0163760699d5"
      },
      "source": [
        "!git clone https://github.com/KailiWang1/DeepDTAF.git"
      ],
      "execution_count": 12,
      "outputs": [
        {
          "output_type": "stream",
          "name": "stdout",
          "text": [
            "Cloning into 'DeepDTAF'...\n",
            "remote: Enumerating objects: 22020, done.\u001b[K\n",
            "remote: Counting objects: 100% (205/205), done.\u001b[K\n",
            "remote: Compressing objects: 100% (45/45), done.\u001b[K\n",
            "remote: Total 22020 (delta 161), reused 197 (delta 160), pack-reused 21815\u001b[K\n",
            "Receiving objects: 100% (22020/22020), 49.21 MiB | 19.49 MiB/s, done.\n",
            "Resolving deltas: 100% (20697/20697), done.\n",
            "Checking out files: 100% (26632/26632), done.\n"
          ]
        }
      ]
    },
    {
      "cell_type": "code",
      "metadata": {
        "colab": {
          "base_uri": "https://localhost:8080/"
        },
        "id": "sCjUgyQe8cwr",
        "outputId": "33c44843-71f9-4589-9af3-c70d850dfa00"
      },
      "source": [
        "ls"
      ],
      "execution_count": 13,
      "outputs": [
        {
          "output_type": "stream",
          "name": "stdout",
          "text": [
            "\u001b[0m\u001b[01;32mAnaconda3-5.3.1-Linux-x86_64.sh\u001b[0m*  DOCS      \u001b[01;34mlibnvvp\u001b[0m/           \u001b[01;34msamples\u001b[0m/\n",
            "\u001b[01;34mbin\u001b[0m/                              EULA.txt  \u001b[01;34mnsightee_plugins\u001b[0m/  \u001b[01;34mshare\u001b[0m/\n",
            "\u001b[01;34mcompat\u001b[0m/                           \u001b[01;34mextras\u001b[0m/   \u001b[01;34mnvml\u001b[0m/              \u001b[01;34msrc\u001b[0m/\n",
            "\u001b[01;34mcompute-sanitizer\u001b[0m/                \u001b[01;36minclude\u001b[0m@  \u001b[01;34mnvvm\u001b[0m/              \u001b[01;34mtargets\u001b[0m/\n",
            "\u001b[01;34mDeepDTAF\u001b[0m/                         \u001b[01;36mlib64\u001b[0m@    README             \u001b[01;34mtools\u001b[0m/\n"
          ]
        }
      ]
    },
    {
      "cell_type": "code",
      "metadata": {
        "colab": {
          "base_uri": "https://localhost:8080/"
        },
        "id": "RSMDMR448k-q",
        "outputId": "83d59cfc-4363-494d-e286-d10b4d9cceee"
      },
      "source": [
        "cd DeepDTAF"
      ],
      "execution_count": 15,
      "outputs": [
        {
          "output_type": "stream",
          "name": "stdout",
          "text": [
            "/usr/local/cuda-11.1/DeepDTAF\n"
          ]
        }
      ]
    },
    {
      "cell_type": "code",
      "metadata": {
        "colab": {
          "base_uri": "https://localhost:8080/"
        },
        "id": "wwyCd-th8wgg",
        "outputId": "ce4e2341-ea78-44e3-c767-520c6abfdf4f"
      },
      "source": [
        "!conda env create -f environment_gpu.yml"
      ],
      "execution_count": 16,
      "outputs": [
        {
          "output_type": "stream",
          "name": "stdout",
          "text": [
            "Solving environment: - \b\b\\ \b\b| \b\b/ \b\b- \b\b\\ \b\b| \b\b/ \b\b- \b\b\\ \b\b| \b\b/ \b\b- \b\b\\ \b\b| \b\b/ \b\b- \b\b\\ \b\b| \b\b/ \b\b- \b\b\\ \b\b| \b\b/ \b\b- \b\b\\ \b\b| \b\b/ \b\b- \b\b\\ \b\b| \b\b/ \b\b- \b\b\\ \b\b| \b\b/ \b\b- \b\b\\ \b\b| \b\b/ \b\b- \b\b\\ \b\b| \b\b/ \b\b- \b\b\\ \b\b| \b\b/ \b\b- \b\b\\ \b\b| \b\b/ \b\b- \b\b\\ \b\b| \b\b/ \b\b- \b\b\\ \b\b| \b\b/ \b\b- \b\b\\ \b\b| \b\b/ \b\b- \b\b\\ \b\b| \b\b/ \b\b- \b\b\\ \b\b| \b\b/ \b\b- \b\b\\ \b\b| \b\b/ \b\b- \b\b\\ \b\b| \b\b/ \b\b- \b\b\\ \b\b| \b\b/ \b\b- \b\b\\ \b\b| \b\b/ \b\b- \b\b\\ \b\b| \b\b/ \b\b- \b\b\\ \b\b| \b\b/ \b\b- \b\b\\ \b\b| \b\b/ \b\b- \b\b\\ \b\b| \b\b/ \b\b- \b\b\\ \b\b| \b\b/ \b\b- \b\b\\ \b\b| \b\b/ \b\b- \b\b\\ \b\b| \b\b/ \b\b- \b\b\\ \b\b| \b\b/ \b\b- \b\b\\ \b\b| \b\b/ \b\b- \b\b\\ \b\b| \b\b/ \b\b- \b\b\\ \b\b| \b\b/ \b\b- \b\b\\ \b\b| \b\b/ \b\b- \b\b\\ \b\b| \b\b/ \b\b- \b\b\\ \b\b| \b\b/ \b\b- \b\b\\ \b\b| \b\b/ \b\b- \b\b\\ \b\b| \b\b/ \b\b- \b\b\\ \b\b| \b\b/ \b\b- \b\b\\ \b\b| \b\b/ \b\b- \b\b\\ \b\b| \b\b/ \b\b- \b\b\\ \b\b| \b\b/ \b\b- \b\b\\ \b\b| \b\b/ \b\b- \b\b\\ \b\b| \b\b/ \b\b- \b\b\\ \b\b| \b\b/ \b\b- \b\b\\ \b\b| \b\b/ \b\b- \b\b\\ \b\b| \b\b/ \b\b- \b\b\\ \b\b| \b\b/ \b\b- \b\b\\ \b\b| \b\b/ \b\b- \b\b\\ \b\b| \b\b/ \b\b- \b\b\\ \b\b| \b\b/ \b\b- \b\b\\ \b\b| \b\b/ \b\b- \b\b\\ \b\b| \b\b/ \b\b- \b\b\\ \b\b| \b\b/ \b\b- \b\b\\ \b\b| \b\b/ \b\b- \b\b\\ \b\b| \b\b/ \b\b- \b\b\\ \b\b| \b\b/ \b\b- \b\b\\ \b\b| \b\b/ \b\b- \b\b\\ \b\b| \b\b/ \b\b- \b\b\\ \b\b| \b\b/ \b\b- \b\b\\ \b\b| \b\b/ \b\b- \b\b\\ \b\b| \b\b/ \b\b- \b\b\\ \b\b| \b\b/ \b\b- \b\b\\ \b\b| \b\b/ \b\b- \b\b\\ \b\b| \b\b/ \b\b- \b\b\\ \b\b| \b\b/ \b\b- \b\b\\ \b\b| \b\b/ \b\b- \b\b\\ \b\b| \b\b/ \b\b- \b\b\\ \b\b| \b\b/ \b\b- \b\b\\ \b\b| \b\b/ \b\b- \b\b\\ \b\b| \b\b/ \b\b- \b\b\\ \b\b| \b\b/ \b\b- \b\b\\ \b\b| \b\b/ \b\b- \b\b\\ \b\b| \b\b/ \b\b- \b\b\\ \b\b| \b\b/ \b\b- \b\b\\ \b\b| \b\b/ \b\b- \b\b\\ \b\b| \b\b/ \b\b- \b\b\\ \b\b| \b\b/ \b\b- \b\b\\ \b\b| \b\b/ \b\b- \b\b\\ \b\b| \b\b/ \b\b- \b\b\\ \b\b| \b\b/ \b\b- \b\b\\ \b\b| \b\b/ \b\b- \b\b\\ \b\b| \b\b/ \b\b- \b\b\\ \b\b| \b\b/ \b\b- \b\b\\ \b\b| \b\b/ \b\b- \b\b\\ \b\b| \b\b/ \b\b- \b\b\\ \b\b| \b\b/ \b\b- \b\b\\ \b\b| \b\b/ \b\b- \b\b\\ \b\b| \b\b/ \b\b- \b\b\\ \b\b| \b\b/ \b\b- \b\b\\ \b\b| \b\b/ \b\b- \b\b\\ \b\b| \b\b/ \b\b- \b\b\\ \b\b| \b\b/ \b\b- \b\b\\ \b\b| \b\b/ \b\b- \b\b\\ \b\b| \b\b/ \b\b- \b\b\\ \b\b| \b\b/ \b\b- \b\b\\ \b\b| \b\b/ \b\b- \b\b\\ \b\b| \b\b/ \b\b- \b\b\\ \b\b| \b\b/ \b\b- \b\b\\ \b\b| \b\b/ \b\b- \b\b\\ \b\b| \b\b/ \b\b- \b\b\\ \b\b| \b\b/ \b\b- \b\b\\ \b\b| \b\b/ \b\b- \b\b\\ \b\b| \b\b/ \b\b- \b\b\\ \b\b| \b\b/ \b\b- \b\b\\ \b\b| \b\b/ \b\b- \b\b\\ \b\b| \b\b/ \b\b- \b\b\\ \b\b| \b\b/ \b\b- \b\b\\ \b\b| \b\b/ \b\b- \b\b\\ \b\b| \b\b/ \b\b- \b\b\\ \b\b| \b\b/ \b\b- \b\b\\ \b\b| \b\b/ \b\b- \b\b\\ \b\b| \b\b/ \b\b- \b\b\\ \b\b| \b\b/ \b\b- \b\b\\ \b\b| \b\b/ \b\b- \b\b\\ \b\b| \b\b/ \b\b- \b\b\\ \b\b| \b\b/ \b\b- \b\b\\ \b\b| \b\b/ \b\b- \b\b\\ \b\b| \b\b/ \b\b- \b\b\\ \b\b| \b\b/ \b\b- \b\b\\ \b\b| \b\b/ \b\b- \b\b\\ \b\b| \b\b/ \b\b- \b\b\\ \b\b| \b\b/ \b\b- \b\b\\ \b\b| \b\b/ \b\b- \b\b\\ \b\b| \b\b/ \b\b- \b\b\\ \b\b| \b\b/ \b\b- \b\b\\ \b\b| \b\b/ \b\b- \b\b\\ \b\b| \b\b/ \b\b- \b\b\\ \b\b| \b\b/ \b\b- \b\b\\ \b\b| \b\b/ \b\b- \b\b\\ \b\b| \b\b/ \b\b- \b\b\\ \b\b| \b\b/ \b\b- \b\b\\ \b\b| \b\b/ \b\b- \b\b\\ \b\b| \b\b/ \b\b- \b\b\\ \b\b| \b\b/ \b\b- \b\b\\ \b\b| \b\b/ \b\b- \b\b\\ \b\b| \b\b/ \b\b- \b\b\\ \b\b| \b\b/ \b\b- \b\b\\ \b\b| \b\b/ \b\b- \b\b\\ \b\b| \b\b/ \b\b- \b\b\\ \b\b| \b\b/ \b\b- \b\b\\ \b\b| \b\b/ \b\b- \b\b\\ \b\b| \b\b/ \b\b- \b\b\\ \b\b| \b\b/ \b\b- \b\b\\ \b\b| \b\b/ \b\b- \b\b\\ \b\b| \b\b/ \b\b- \b\b\\ \b\b| \b\b/ \b\b- \b\b\\ \b\b| \b\b/ \b\b- \b\b\\ \b\b| \b\b/ \b\b- \b\b\\ \b\b| \b\b/ \b\b- \b\b\\ \b\b| \b\b/ \b\b- \b\b\\ \b\b| \b\b/ \b\b- \b\b\\ \b\b| \b\b/ \b\b- \b\b\\ \b\b| \b\b/ \b\b- \b\b\\ \b\b| \b\b/ \b\b- \b\b\\ \b\b| \b\b/ \b\b- \b\b\\ \b\b| \b\b/ \b\b- \b\b\\ \b\b| \b\b/ \b\b- \b\b\\ \b\b| \b\b/ \b\b- \b\b\\ \b\b| \b\b/ \b\b- \b\b\\ \b\b| \b\b/ \b\b- \b\b\\ \b\b| \b\b/ \b\b- \b\bdone\n",
            "\n",
            "\n",
            "==> WARNING: A newer version of conda exists. <==\n",
            "  current version: 4.5.11\n",
            "  latest version: 4.10.3\n",
            "\n",
            "Please update conda by running\n",
            "\n",
            "    $ conda update -n base -c defaults conda\n",
            "\n",
            "\n",
            "\n",
            "Downloading and Extracting Packages\n",
            "werkzeug-2.0.1       | 223 KB    | : 100% 1.0/1 [00:00<00:00, 10.60it/s]\n",
            "numba-0.44.1         | 2.9 MB    | : 100% 1.0/1 [00:01<00:00,  1.54s/it]               \n",
            "zipp-3.5.0           | 12 KB     | : 100% 1.0/1 [00:00<00:00, 37.55it/s]\n",
            "certifi-2021.5.30    | 141 KB    | : 100% 1.0/1 [00:00<00:00, 23.23it/s]\n",
            "cudatoolkit-10.1.243 | 513.2 MB  | : 100% 1.0/1 [01:12<00:00, 72.01s/it]                \n",
            "absl-py-0.13.0       | 99 KB     | : 100% 1.0/1 [00:00<00:00, 15.72it/s]\n",
            "six-1.16.0           | 18 KB     | : 100% 1.0/1 [00:00<00:00, 35.75it/s]\n",
            "libgcc-ng-9.1.0      | 8.1 MB    | : 100% 1.0/1 [00:01<00:00,  1.40s/it]               \n",
            "tensorboard-2.0.0    | 3.3 MB    | : 100% 1.0/1 [00:00<00:00,  1.71it/s]               \n",
            "_libgcc_mutex-0.1    | 3 KB      | : 100% 1.0/1 [00:00<00:00, 25.89it/s]\n",
            "pytz-2021.1          | 244 KB    | : 100% 1.0/1 [00:00<00:00,  3.90it/s]               \n",
            "cython-0.29.24       | 2.1 MB    | : 100% 1.0/1 [00:00<00:00,  1.68it/s]            \n",
            "protobuf-3.17.2      | 348 KB    | : 100% 1.0/1 [00:00<00:00,  7.75it/s]\n",
            "libffi-3.2.1         | 52 KB     | : 100% 1.0/1 [00:00<00:00, 27.79it/s]\n",
            "libedit-3.1.20210714 | 188 KB    | : 100% 1.0/1 [00:00<00:00, 14.20it/s]\n",
            "python-3.7.3         | 36.7 MB   | : 100% 1.0/1 [00:10<00:00, 10.48s/it]               \n",
            "ninja-1.10.2         | 1.9 MB    | : 100% 1.0/1 [00:00<00:00,  3.03it/s]               \n",
            "wheel-0.37.0         | 31 KB     | : 100% 1.0/1 [00:00<00:00, 24.18it/s]\n",
            "libprotobuf-3.17.2   | 2.4 MB    | : 100% 1.0/1 [00:00<00:00,  1.80it/s]               \n",
            "coverage-5.5         | 265 KB    | : 100% 1.0/1 [00:00<00:00,  9.77it/s]\n",
            "openssl-1.1.1l       | 3.8 MB    | : 100% 1.0/1 [00:00<00:00,  1.39it/s]               \n",
            "grpcio-1.36.1        | 2.0 MB    | : 100% 1.0/1 [00:00<00:00,  2.21it/s]               \n",
            "cudnn-7.6.0          | 240.9 MB  | : 100% 1.0/1 [01:03<00:00, 63.17s/it]                \n",
            "tqdm-4.32.1          | 48 KB     | : 100% 1.0/1 [00:00<00:00,  3.24it/s]              \n",
            "mkl-service-2.3.0    | 56 KB     | : 100% 1.0/1 [00:00<00:00, 29.83it/s]\n",
            "markdown-3.3.4       | 125 KB    | : 100% 1.0/1 [00:00<00:00, 14.56it/s]\n",
            "typing_extensions-3. | 32 KB     | : 100% 1.0/1 [00:00<00:00, 36.68it/s]\n",
            "pip-21.2.2           | 2.0 MB    | : 100% 1.0/1 [00:00<00:00,  1.39it/s]               \n",
            "mkl_random-1.1.1     | 375 KB    | : 100% 1.0/1 [00:00<00:00, 10.67it/s]\n",
            "scikit-learn-0.21.2  | 6.7 MB    | : 100% 1.0/1 [00:02<00:00,  2.96s/it]               \n",
            "numpy-base-1.16.4    | 4.4 MB    | : 100% 1.0/1 [00:02<00:00,  2.12s/it]               \n",
            "mkl-2020.2           | 213.9 MB  | : 100% 1.0/1 [00:42<00:00, 42.72s/it]                \n",
            "numpy-1.16.4         | 49 KB     | : 100% 1.0/1 [00:00<00:00,  1.68it/s]                \n",
            "zlib-1.2.11          | 120 KB    | : 100% 1.0/1 [00:00<00:00, 20.08it/s]\n",
            "c-ares-1.17.1        | 113 KB    | : 100% 1.0/1 [00:00<00:00, 15.00it/s]\n",
            "sqlite-3.33.0        | 2.0 MB    | : 100% 1.0/1 [00:00<00:00,  2.42it/s]               \n",
            "tk-8.6.11            | 3.2 MB    | : 100% 1.0/1 [00:00<00:00,  1.33it/s]               \n",
            "joblib-1.0.1         | 207 KB    | : 100% 1.0/1 [00:00<00:00,  8.20it/s]\n",
            "importlib-metadata-4 | 38 KB     | : 100% 1.0/1 [00:00<00:00, 25.11it/s]\n",
            "python-dateutil-2.8. | 241 KB    | : 100% 1.0/1 [00:00<00:00, 16.36it/s]\n",
            "pandas-0.24.2        | 11.1 MB   | : 100% 1.0/1 [00:04<00:00,  4.27s/it]               \n",
            "pytorch-1.4.0        | 432.9 MB  | : 100% 1.0/1 [01:34<00:00, 94.73s/it]                \n",
            "ca-certificates-2021 | 119 KB    | : 100% 1.0/1 [00:00<00:00, 19.05it/s]\n",
            "llvmlite-0.29.0      | 17.7 MB   | : 100% 1.0/1 [00:05<00:00,  5.82s/it]               \n",
            "libstdcxx-ng-9.1.0   | 4.0 MB    | : 100% 1.0/1 [00:00<00:00,  1.41it/s]              \n",
            "intel-openmp-2021.3. | 2.0 MB    | : 100% 1.0/1 [00:00<00:00,  2.87it/s]               \n",
            "xz-5.2.5             | 438 KB    | : 100% 1.0/1 [00:00<00:00,  6.71it/s]               \n",
            "scipy-1.3.0          | 18.0 MB   | : 100% 1.0/1 [00:06<00:00,  6.12s/it]               \n",
            "ncurses-6.2          | 1.1 MB    | : 100% 1.0/1 [00:01<00:00,  1.16s/it]              \n",
            "setuptools-58.0.4    | 979 KB    | : 100% 1.0/1 [00:00<00:00,  2.95it/s]               \n",
            "dataclasses-0.8      | 7 KB      | : 100% 1.0/1 [00:00<00:00, 36.09it/s]\n",
            "mkl_fft-1.2.0        | 164 KB    | : 100% 1.0/1 [00:01<00:00,  1.74s/it]               \n",
            "Preparing transaction: | \b\b/ \b\b- \b\b\\ \b\b| \b\b/ \b\b- \b\b\\ \b\b| \b\b/ \b\bdone\n",
            "Verifying transaction: \\ \b\b| \b\b/ \b\b- \b\b\\ \b\b| \b\b/ \b\b- \b\b\\ \b\b| \b\b/ \b\b- \b\b\\ \b\b| \b\b/ \b\b- \b\b\\ \b\b| \b\b/ \b\b- \b\b\\ \b\b| \b\b/ \b\b- \b\b\\ \b\b| \b\b/ \b\b- \b\b\\ \b\b| \b\b/ \b\b- \b\b\\ \b\b| \b\b/ \b\b- \b\b\\ \b\b| \b\b/ \b\b- \b\b\\ \b\b| \b\b/ \b\b- \b\b\\ \b\b| \b\b/ \b\b- \b\b\\ \b\b| \b\b/ \b\b- \b\b\\ \b\b| \b\b/ \b\b- \b\b\\ \b\b| \b\b/ \b\b- \b\b\\ \b\b| \b\b/ \b\b- \b\b\\ \b\b| \b\b/ \b\b- \b\b\\ \b\b| \b\b/ \b\b- \b\b\\ \b\b| \b\b/ \b\b- \b\b\\ \b\b| \b\b/ \b\b- \b\b\\ \b\b| \b\b/ \b\b- \b\b\\ \b\b| \b\b/ \b\b- \b\b\\ \b\b| \b\b/ \b\b- \b\b\\ \b\b| \b\b/ \b\b- \b\b\\ \b\b| \b\b/ \b\b- \b\b\\ \b\b| \b\b/ \b\b- \b\b\\ \b\b| \b\b/ \b\b- \b\b\\ \b\b| \b\b/ \b\b- \b\b\\ \b\b| \b\b/ \b\b- \b\b\\ \b\b| \b\b/ \b\b- \b\b\\ \b\b| \b\b/ \b\b- \b\b\\ \b\b| \b\b/ \b\b- \b\b\\ \b\b| \b\b/ \b\b- \b\b\\ \b\b| \b\b/ \b\b- \b\b\\ \b\b| \b\b/ \b\b- \b\b\\ \b\b| \b\b/ \b\b- \b\b\\ \b\b| \b\b/ \b\b- \b\b\\ \b\b| \b\b/ \b\b- \b\b\\ \b\b| \b\b/ \b\b- \b\b\\ \b\b| \b\b/ \b\b- \b\b\\ \b\b| \b\b/ \b\b- \b\b\\ \b\b| \b\b/ \b\b- \b\b\\ \b\b| \b\b/ \b\b- \b\b\\ \b\bdone\n",
            "Executing transaction: / \b\b- \b\b\\ \b\b| \b\b/ \b\b- \b\b\\ \b\b| \b\b/ \b\b- \b\b\\ \b\b| \b\b/ \b\b- \b\b\\ \b\b| \b\b/ \b\b- \b\b\\ \b\b| \b\b/ \b\b- \b\b\\ \b\b| \b\b/ \b\b- \b\b\\ \b\b| \b\b/ \b\b- \b\b\\ \b\b| \b\b/ \b\b- \b\b\\ \b\b| \b\b/ \b\b- \b\b\\ \b\b| \b\b/ \b\b- \b\b\\ \b\b| \b\b/ \b\b- \b\b\\ \b\b| \b\b/ \b\b- \b\b\\ \b\b| \b\b/ \b\b- \b\b\\ \b\b| \b\b/ \b\b- \b\b\\ \b\b| \b\b/ \b\b- \b\b\\ \b\b| \b\b/ \b\b- \b\b\\ \b\b| \b\b/ \b\b- \b\b\\ \b\b| \b\b/ \b\b- \b\b\\ \b\b| \b\b/ \b\b- \b\b\\ \b\b| \b\b/ \b\b- \b\b\\ \b\b| \b\b/ \b\b- \b\b\\ \b\b| \b\b/ \b\b- \b\b\\ \b\b| \b\b/ \b\b- \b\b\\ \b\b| \b\b/ \b\b- \b\b\\ \b\b| \b\b/ \b\b- \b\b\\ \b\b| \b\b/ \b\b- \b\b\\ \b\b| \b\b/ \b\b- \b\b\\ \b\b| \b\b/ \b\b- \b\b\\ \b\b| \b\b/ \b\b- \b\b\\ \b\b| \b\b/ \b\b- \b\b\\ \b\b| \b\b/ \b\b- \b\b\\ \b\b| \b\b/ \b\b- \b\b\\ \b\b| \b\b/ \b\b- \b\b\\ \b\b| \b\b/ \b\b- \b\b\\ \b\b| \b\b/ \b\b- \b\b\\ \b\b| \b\b/ \b\b- \b\b\\ \b\b| \b\b/ \b\b- \b\b\\ \b\b| \b\b/ \b\b- \b\b\\ \b\b| \b\b/ \b\b- \b\b\\ \b\b| \b\b/ \b\b- \b\b\\ \b\b| \b\b/ \b\b- \b\b\\ \b\b| \b\b/ \b\b- \b\b\\ \b\b| \b\b/ \b\b- \b\b\\ \b\b| \b\b/ \b\b- \b\b\\ \b\b| \b\b/ \b\b- \b\b\\ \b\b| \b\b/ \b\b- \b\b\\ \b\b| \b\b/ \b\b- \b\b\\ \b\b| \b\b/ \b\b- \b\b\\ \b\b| \b\b/ \b\b- \b\b\\ \b\b| \b\b/ \b\b- \b\b\\ \b\b| \b\b/ \b\b- \b\b\\ \b\b| \b\b/ \b\b- \b\b\\ \b\b| \b\b/ \b\b- \b\b\\ \b\b| \b\b/ \b\b- \b\b\\ \b\b| \b\b/ \b\b- \b\b\\ \b\b| \b\b/ \b\b- \b\b\\ \b\b| \b\b/ \b\b- \b\b\\ \b\b| \b\b/ \b\b- \b\b\\ \b\b| \b\b/ \b\b- \b\b\\ \b\b| \b\b/ \b\b- \b\b\\ \b\b| \b\b/ \b\b- \b\b\\ \b\b| \b\bdone\n",
            "#\n",
            "# To activate this environment, use:\n",
            "# > source activate DeepDTAF_env\n",
            "#\n",
            "# To deactivate an active environment, use:\n",
            "# > source deactivate\n",
            "#\n",
            "\n"
          ]
        }
      ]
    },
    {
      "cell_type": "code",
      "metadata": {
        "id": "buUHXWAR-s2c"
      },
      "source": [
        "%%bash\n",
        "source activate DeepDTAF_env"
      ],
      "execution_count": 19,
      "outputs": []
    },
    {
      "cell_type": "code",
      "metadata": {
        "id": "6bk32Muq_FlC"
      },
      "source": [
        "import torch"
      ],
      "execution_count": 20,
      "outputs": []
    },
    {
      "cell_type": "code",
      "metadata": {
        "colab": {
          "base_uri": "https://localhost:8080/"
        },
        "id": "qjl-4BP1_Lb5",
        "outputId": "146d5891-fda5-42a7-8f55-b0663dc94567"
      },
      "source": [
        "!git clone https://github.com/NVIDIA/apex"
      ],
      "execution_count": 22,
      "outputs": [
        {
          "output_type": "stream",
          "name": "stdout",
          "text": [
            "Cloning into 'apex'...\n",
            "remote: Enumerating objects: 8284, done.\u001b[K\n",
            "remote: Counting objects: 100% (371/371), done.\u001b[K\n",
            "remote: Compressing objects: 100% (207/207), done.\u001b[K\n",
            "remote: Total 8284 (delta 219), reused 263 (delta 152), pack-reused 7913\u001b[K\n",
            "Receiving objects: 100% (8284/8284), 14.23 MiB | 19.61 MiB/s, done.\n",
            "Resolving deltas: 100% (5618/5618), done.\n"
          ]
        }
      ]
    },
    {
      "cell_type": "code",
      "metadata": {
        "colab": {
          "base_uri": "https://localhost:8080/"
        },
        "id": "AiviPiHj_SZJ",
        "outputId": "dbbc2eb0-0ea6-4729-f78d-dc6945637cf5"
      },
      "source": [
        "cd apex"
      ],
      "execution_count": 23,
      "outputs": [
        {
          "output_type": "stream",
          "name": "stdout",
          "text": [
            "/usr/local/cuda-11.1/DeepDTAF/apex\n"
          ]
        }
      ]
    },
    {
      "cell_type": "code",
      "metadata": {
        "colab": {
          "base_uri": "https://localhost:8080/",
          "height": 35
        },
        "id": "0DH777fa_hAr",
        "outputId": "d44c2131-5ff7-4fcc-c809-45a450d0d024"
      },
      "source": [
        "pwd"
      ],
      "execution_count": 27,
      "outputs": [
        {
          "output_type": "execute_result",
          "data": {
            "application/vnd.google.colaboratory.intrinsic+json": {
              "type": "string"
            },
            "text/plain": [
              "'/usr/local/cuda-11.1/DeepDTAF/apex'"
            ]
          },
          "metadata": {},
          "execution_count": 27
        }
      ]
    },
    {
      "cell_type": "code",
      "metadata": {
        "id": "VweR_cyzB4Ub"
      },
      "source": [
        ""
      ],
      "execution_count": null,
      "outputs": []
    },
    {
      "cell_type": "code",
      "metadata": {
        "colab": {
          "base_uri": "https://localhost:8080/"
        },
        "id": "3LInRgqfAGvK",
        "outputId": "4c79dffb-0a04-4bec-8e46-9af2dc60c133"
      },
      "source": [
        "!conda update conda -y -q"
      ],
      "execution_count": 33,
      "outputs": [
        {
          "output_type": "stream",
          "name": "stdout",
          "text": [
            "Solving environment: ...working... done\n",
            "\n",
            "## Package Plan ##\n",
            "\n",
            "  environment location: /usr/local\n",
            "\n",
            "  added / updated specs: \n",
            "    - conda\n",
            "\n",
            "\n",
            "The following packages will be downloaded:\n",
            "\n",
            "    package                    |            build\n",
            "    ---------------------------|-----------------\n",
            "    conda-package-handling-1.7.3|   py39h27cfd23_1         967 KB\n",
            "    brotlipy-0.7.0             |py39h27cfd23_1003         349 KB\n",
            "    setuptools-58.0.4          |   py39h06a4308_0         965 KB\n",
            "    readline-8.1               |       h27cfd23_0         464 KB\n",
            "    charset-normalizer-2.0.4   |     pyhd3eb1b0_0          33 KB\n",
            "    ruamel_yaml-0.15.100       |   py39h27cfd23_0         268 KB\n",
            "    requests-2.26.0            |     pyhd3eb1b0_0          59 KB\n",
            "    ld_impl_linux-64-2.35.1    |       h7274673_9         637 KB\n",
            "    pycparser-2.20             |             py_2          94 KB\n",
            "    pyopenssl-20.0.1           |     pyhd3eb1b0_1          48 KB\n",
            "    sqlite-3.36.0              |       hc218d9a_0         1.4 MB\n",
            "    pycosat-0.6.3              |   py39h27cfd23_0         108 KB\n",
            "    tqdm-4.62.2                |     pyhd3eb1b0_1          93 KB\n",
            "    cffi-1.14.6                |   py39h400218f_0         227 KB\n",
            "    pip-21.2.4                 |   py37h06a4308_0         2.0 MB\n",
            "    idna-3.2                   |     pyhd3eb1b0_0          54 KB\n",
            "    python-3.9.7               |       h12debd9_1        22.8 MB\n",
            "    certifi-2021.5.30          |   py39h06a4308_0         141 KB\n",
            "    yaml-0.2.5                 |       h7b6447c_0          87 KB\n",
            "    pysocks-1.7.1              |   py39h06a4308_0          31 KB\n",
            "    urllib3-1.26.6             |     pyhd3eb1b0_1         106 KB\n",
            "    libffi-3.3                 |       he6710b0_2          54 KB\n",
            "    tzdata-2021a               |       h5d7bf9c_0         122 KB\n",
            "    cryptography-3.4.7         |   py39hd23ed53_0         1.0 MB\n",
            "    conda-4.10.3               |   py39h06a4308_0         3.1 MB\n",
            "    ------------------------------------------------------------\n",
            "                                           Total:        35.2 MB\n",
            "\n",
            "The following NEW packages will be INSTALLED:\n",
            "\n",
            "    _libgcc_mutex:          0.1-main               \n",
            "    brotlipy:               0.7.0-py39h27cfd23_1003\n",
            "    charset-normalizer:     2.0.4-pyhd3eb1b0_0     \n",
            "    conda-package-handling: 1.7.3-py39h27cfd23_1   \n",
            "    ld_impl_linux-64:       2.35.1-h7274673_9      \n",
            "    tzdata:                 2021a-h5d7bf9c_0       \n",
            "\n",
            "The following packages will be UPDATED:\n",
            "\n",
            "    ca-certificates:        2018.03.07-0            --> 2021.7.5-h06a4308_1     \n",
            "    certifi:                2018.8.24-py37_1        --> 2021.5.30-py39h06a4308_0\n",
            "    cffi:                   1.11.5-py37he75722e_1   --> 1.14.6-py39h400218f_0   \n",
            "    conda:                  4.5.11-py37_0           --> 4.10.3-py39h06a4308_0   \n",
            "    cryptography:           2.3.1-py37hc365091_0    --> 3.4.7-py39hd23ed53_0    \n",
            "    idna:                   2.7-py37_0              --> 3.2-pyhd3eb1b0_0        \n",
            "    libffi:                 3.2.1-hd88cf55_4        --> 3.3-he6710b0_2          \n",
            "    libgcc-ng:              8.2.0-hdf63c60_1        --> 9.1.0-hdf63c60_0        \n",
            "    ncurses:                6.1-hf484d3e_0          --> 6.2-he6710b0_1          \n",
            "    openssl:                1.0.2p-h14c3975_0       --> 1.1.1l-h7f8727e_0       \n",
            "    pip:                    10.0.1-py37_0           --> 21.2.4-py37h06a4308_0   \n",
            "    pycosat:                0.6.3-py37h14c3975_0    --> 0.6.3-py39h27cfd23_0    \n",
            "    pycparser:              2.18-py37_1             --> 2.20-py_2               \n",
            "    pyopenssl:              18.0.0-py37_0           --> 20.0.1-pyhd3eb1b0_1     \n",
            "    pysocks:                1.6.8-py37_0            --> 1.7.1-py39h06a4308_0    \n",
            "    python:                 3.7.0-hc3d631a_0        --> 3.9.7-h12debd9_1        \n",
            "    readline:               7.0-h7b6447c_5          --> 8.1-h27cfd23_0          \n",
            "    requests:               2.19.1-py37_0           --> 2.26.0-pyhd3eb1b0_0     \n",
            "    ruamel_yaml:            0.15.46-py37h14c3975_0  --> 0.15.100-py39h27cfd23_0 \n",
            "    setuptools:             40.2.0-py37_0           --> 58.0.4-py39h06a4308_0   \n",
            "    six:                    1.11.0-py37_1           --> 1.16.0-pyhd3eb1b0_0     \n",
            "    sqlite:                 3.24.0-h84994c4_0       --> 3.36.0-hc218d9a_0       \n",
            "    tk:                     8.6.8-hbc83047_0        --> 8.6.11-h1ccaba5_0       \n",
            "    tqdm:                   4.26.0-py37h28b3542_0   --> 4.62.2-pyhd3eb1b0_1     \n",
            "    urllib3:                1.23-py37_0             --> 1.26.6-pyhd3eb1b0_1     \n",
            "    wheel:                  0.31.1-py37_0           --> 0.37.0-pyhd3eb1b0_1     \n",
            "    xz:                     5.2.4-h14c3975_4        --> 5.2.5-h7b6447c_0        \n",
            "    yaml:                   0.1.7-had09818_2        --> 0.2.5-h7b6447c_0        \n",
            "    zlib:                   1.2.11-ha838bed_2       --> 1.2.11-h7b6447c_3       \n",
            "\n",
            "Preparing transaction: ...working... done\n",
            "Verifying transaction: ...working... done\n",
            "Executing transaction: ...working... done\n"
          ]
        }
      ]
    },
    {
      "cell_type": "code",
      "metadata": {
        "colab": {
          "base_uri": "https://localhost:8080/"
        },
        "id": "HmQBS42tB6XG",
        "outputId": "f74f0e3a-ffd0-4c79-a8f2-dc7f22b6355e"
      },
      "source": [
        "!conda init"
      ],
      "execution_count": 34,
      "outputs": [
        {
          "output_type": "stream",
          "name": "stdout",
          "text": [
            "no change     /usr/local/condabin/conda\n",
            "no change     /usr/local/bin/conda\n",
            "no change     /usr/local/bin/conda-env\n",
            "no change     /usr/local/bin/activate\n",
            "no change     /usr/local/bin/deactivate\n",
            "no change     /usr/local/etc/profile.d/conda.sh\n",
            "no change     /usr/local/etc/fish/conf.d/conda.fish\n",
            "no change     /usr/local/shell/condabin/Conda.psm1\n",
            "no change     /usr/local/shell/condabin/conda-hook.ps1\n",
            "no change     /usr/local/lib/python3.9/site-packages/xontrib/conda.xsh\n",
            "no change     /usr/local/etc/profile.d/conda.csh\n",
            "modified      /root/.bashrc\n",
            "\n",
            "==> For changes to take effect, close and re-open your current shell. <==\n",
            "\n"
          ]
        }
      ]
    },
    {
      "cell_type": "code",
      "metadata": {
        "colab": {
          "base_uri": "https://localhost:8080/"
        },
        "id": "8WjMa8GoB8RO",
        "outputId": "cf3d7b94-d08f-4018-d725-d375dcf16ee7"
      },
      "source": [
        "!conda install -n root _license -y -q"
      ],
      "execution_count": 35,
      "outputs": [
        {
          "output_type": "stream",
          "name": "stdout",
          "text": [
            "Collecting package metadata (current_repodata.json): ...working... done\n",
            "Solving environment: ...working... failed with initial frozen solve. Retrying with flexible solve.\n",
            "Collecting package metadata (repodata.json): ...working... done\n",
            "Solving environment: ...working... failed with initial frozen solve. Retrying with flexible solve.\n",
            "\n",
            "PackagesNotFoundError: The following packages are not available from current channels:\n",
            "\n",
            "  - _license\n",
            "\n",
            "Current channels:\n",
            "\n",
            "  - https://repo.anaconda.com/pkgs/main/linux-64\n",
            "  - https://repo.anaconda.com/pkgs/main/noarch\n",
            "  - https://repo.anaconda.com/pkgs/r/linux-64\n",
            "  - https://repo.anaconda.com/pkgs/r/noarch\n",
            "\n",
            "To search for alternate channels that may provide the conda package you're\n",
            "looking for, navigate to\n",
            "\n",
            "    https://anaconda.org\n",
            "\n",
            "and use the search bar at the top of the page.\n",
            "\n",
            "\n"
          ]
        }
      ]
    },
    {
      "cell_type": "code",
      "metadata": {
        "colab": {
          "base_uri": "https://localhost:8080/"
        },
        "id": "Z0mU1TnVB92b",
        "outputId": "33a6b67d-130c-4256-c62f-1c30a93e1beb"
      },
      "source": [
        "!conda info -e"
      ],
      "execution_count": 36,
      "outputs": [
        {
          "output_type": "stream",
          "name": "stdout",
          "text": [
            "# conda environments:\n",
            "#\n",
            "base                  *  /usr/local\n",
            "DeepDTAF_env             /usr/local/envs/DeepDTAF_env\n",
            "\n"
          ]
        }
      ]
    },
    {
      "cell_type": "code",
      "metadata": {
        "colab": {
          "base_uri": "https://localhost:8080/"
        },
        "id": "kTRWTFqwCO5S",
        "outputId": "331801c5-6af9-4a29-d063-0d1a02e0ef9c"
      },
      "source": [
        "%%bash \n",
        "source activate DeepDTAF_env && python setup.py install"
      ],
      "execution_count": 46,
      "outputs": [
        {
          "output_type": "stream",
          "name": "stdout",
          "text": [
            "\n",
            "\n",
            "torch.__version__  = 1.4.0\n",
            "\n",
            "\n",
            "running install\n",
            "running bdist_egg\n",
            "running egg_info\n",
            "creating apex.egg-info\n",
            "writing apex.egg-info/PKG-INFO\n",
            "writing dependency_links to apex.egg-info/dependency_links.txt\n",
            "writing top-level names to apex.egg-info/top_level.txt\n",
            "writing manifest file 'apex.egg-info/SOURCES.txt'\n",
            "reading manifest file 'apex.egg-info/SOURCES.txt'\n",
            "adding license file 'LICENSE'\n",
            "writing manifest file 'apex.egg-info/SOURCES.txt'\n",
            "installing library code to build/bdist.linux-x86_64/egg\n",
            "running install_lib\n",
            "running build_py\n",
            "creating build\n",
            "creating build/lib\n",
            "creating build/lib/apex\n",
            "copying apex/__init__.py -> build/lib/apex\n",
            "creating build/lib/apex/reparameterization\n",
            "copying apex/reparameterization/reparameterization.py -> build/lib/apex/reparameterization\n",
            "copying apex/reparameterization/weight_norm.py -> build/lib/apex/reparameterization\n",
            "copying apex/reparameterization/__init__.py -> build/lib/apex/reparameterization\n",
            "creating build/lib/apex/optimizers\n",
            "copying apex/optimizers/fused_sgd.py -> build/lib/apex/optimizers\n",
            "copying apex/optimizers/fused_novograd.py -> build/lib/apex/optimizers\n",
            "copying apex/optimizers/fused_adagrad.py -> build/lib/apex/optimizers\n",
            "copying apex/optimizers/fused_adam.py -> build/lib/apex/optimizers\n",
            "copying apex/optimizers/fused_lamb.py -> build/lib/apex/optimizers\n",
            "copying apex/optimizers/__init__.py -> build/lib/apex/optimizers\n",
            "creating build/lib/apex/RNN\n",
            "copying apex/RNN/cells.py -> build/lib/apex/RNN\n",
            "copying apex/RNN/RNNBackend.py -> build/lib/apex/RNN\n",
            "copying apex/RNN/models.py -> build/lib/apex/RNN\n",
            "copying apex/RNN/__init__.py -> build/lib/apex/RNN\n",
            "creating build/lib/apex/normalization\n",
            "copying apex/normalization/fused_layer_norm.py -> build/lib/apex/normalization\n",
            "copying apex/normalization/__init__.py -> build/lib/apex/normalization\n",
            "creating build/lib/apex/multi_tensor_apply\n",
            "copying apex/multi_tensor_apply/multi_tensor_apply.py -> build/lib/apex/multi_tensor_apply\n",
            "copying apex/multi_tensor_apply/__init__.py -> build/lib/apex/multi_tensor_apply\n",
            "creating build/lib/apex/fp16_utils\n",
            "copying apex/fp16_utils/fp16_optimizer.py -> build/lib/apex/fp16_utils\n",
            "copying apex/fp16_utils/loss_scaler.py -> build/lib/apex/fp16_utils\n",
            "copying apex/fp16_utils/fp16util.py -> build/lib/apex/fp16_utils\n",
            "copying apex/fp16_utils/__init__.py -> build/lib/apex/fp16_utils\n",
            "creating build/lib/apex/fused_dense\n",
            "copying apex/fused_dense/fused_dense.py -> build/lib/apex/fused_dense\n",
            "copying apex/fused_dense/__init__.py -> build/lib/apex/fused_dense\n",
            "creating build/lib/apex/mlp\n",
            "copying apex/mlp/mlp.py -> build/lib/apex/mlp\n",
            "copying apex/mlp/__init__.py -> build/lib/apex/mlp\n",
            "creating build/lib/apex/pyprof\n",
            "copying apex/pyprof/__init__.py -> build/lib/apex/pyprof\n",
            "creating build/lib/apex/parallel\n",
            "copying apex/parallel/optimized_sync_batchnorm_kernel.py -> build/lib/apex/parallel\n",
            "copying apex/parallel/multiproc.py -> build/lib/apex/parallel\n",
            "copying apex/parallel/sync_batchnorm_kernel.py -> build/lib/apex/parallel\n",
            "copying apex/parallel/sync_batchnorm.py -> build/lib/apex/parallel\n",
            "copying apex/parallel/LARC.py -> build/lib/apex/parallel\n",
            "copying apex/parallel/distributed.py -> build/lib/apex/parallel\n",
            "copying apex/parallel/optimized_sync_batchnorm.py -> build/lib/apex/parallel\n",
            "copying apex/parallel/__init__.py -> build/lib/apex/parallel\n",
            "creating build/lib/apex/contrib\n",
            "copying apex/contrib/__init__.py -> build/lib/apex/contrib\n",
            "creating build/lib/apex/amp\n",
            "copying apex/amp/opt.py -> build/lib/apex/amp\n",
            "copying apex/amp/scaler.py -> build/lib/apex/amp\n",
            "copying apex/amp/_process_optimizer.py -> build/lib/apex/amp\n",
            "copying apex/amp/utils.py -> build/lib/apex/amp\n",
            "copying apex/amp/compat.py -> build/lib/apex/amp\n",
            "copying apex/amp/_amp_state.py -> build/lib/apex/amp\n",
            "copying apex/amp/frontend.py -> build/lib/apex/amp\n",
            "copying apex/amp/amp.py -> build/lib/apex/amp\n",
            "copying apex/amp/wrap.py -> build/lib/apex/amp\n",
            "copying apex/amp/handle.py -> build/lib/apex/amp\n",
            "copying apex/amp/__version__.py -> build/lib/apex/amp\n",
            "copying apex/amp/rnn_compat.py -> build/lib/apex/amp\n",
            "copying apex/amp/_initialize.py -> build/lib/apex/amp\n",
            "copying apex/amp/__init__.py -> build/lib/apex/amp\n",
            "creating build/lib/apex/pyprof/nvtx\n",
            "copying apex/pyprof/nvtx/nvmarker.py -> build/lib/apex/pyprof/nvtx\n",
            "copying apex/pyprof/nvtx/__init__.py -> build/lib/apex/pyprof/nvtx\n",
            "creating build/lib/apex/pyprof/parse\n",
            "copying apex/pyprof/parse/parse.py -> build/lib/apex/pyprof/parse\n",
            "copying apex/pyprof/parse/__main__.py -> build/lib/apex/pyprof/parse\n",
            "copying apex/pyprof/parse/db.py -> build/lib/apex/pyprof/parse\n",
            "copying apex/pyprof/parse/kernel.py -> build/lib/apex/pyprof/parse\n",
            "copying apex/pyprof/parse/nvvp.py -> build/lib/apex/pyprof/parse\n",
            "copying apex/pyprof/parse/__init__.py -> build/lib/apex/pyprof/parse\n",
            "creating build/lib/apex/pyprof/prof\n",
            "copying apex/pyprof/prof/pointwise.py -> build/lib/apex/pyprof/prof\n",
            "copying apex/pyprof/prof/output.py -> build/lib/apex/pyprof/prof\n",
            "copying apex/pyprof/prof/__main__.py -> build/lib/apex/pyprof/prof\n",
            "copying apex/pyprof/prof/utility.py -> build/lib/apex/pyprof/prof\n",
            "copying apex/pyprof/prof/randomSample.py -> build/lib/apex/pyprof/prof\n",
            "copying apex/pyprof/prof/pooling.py -> build/lib/apex/pyprof/prof\n",
            "copying apex/pyprof/prof/index_slice_join_mutate.py -> build/lib/apex/pyprof/prof\n",
            "copying apex/pyprof/prof/misc.py -> build/lib/apex/pyprof/prof\n",
            "copying apex/pyprof/prof/base.py -> build/lib/apex/pyprof/prof\n",
            "copying apex/pyprof/prof/conv.py -> build/lib/apex/pyprof/prof\n",
            "copying apex/pyprof/prof/softmax.py -> build/lib/apex/pyprof/prof\n",
            "copying apex/pyprof/prof/dropout.py -> build/lib/apex/pyprof/prof\n",
            "copying apex/pyprof/prof/convert.py -> build/lib/apex/pyprof/prof\n",
            "copying apex/pyprof/prof/activation.py -> build/lib/apex/pyprof/prof\n",
            "copying apex/pyprof/prof/blas.py -> build/lib/apex/pyprof/prof\n",
            "copying apex/pyprof/prof/data.py -> build/lib/apex/pyprof/prof\n",
            "copying apex/pyprof/prof/prof.py -> build/lib/apex/pyprof/prof\n",
            "copying apex/pyprof/prof/reduction.py -> build/lib/apex/pyprof/prof\n",
            "copying apex/pyprof/prof/linear.py -> build/lib/apex/pyprof/prof\n",
            "copying apex/pyprof/prof/usage.py -> build/lib/apex/pyprof/prof\n",
            "copying apex/pyprof/prof/optim.py -> build/lib/apex/pyprof/prof\n",
            "copying apex/pyprof/prof/loss.py -> build/lib/apex/pyprof/prof\n",
            "copying apex/pyprof/prof/embedding.py -> build/lib/apex/pyprof/prof\n",
            "copying apex/pyprof/prof/__init__.py -> build/lib/apex/pyprof/prof\n",
            "copying apex/pyprof/prof/recurrentCell.py -> build/lib/apex/pyprof/prof\n",
            "copying apex/pyprof/prof/normalization.py -> build/lib/apex/pyprof/prof\n",
            "creating build/lib/apex/contrib/bottleneck\n",
            "copying apex/contrib/bottleneck/bottleneck_module_test.py -> build/lib/apex/contrib/bottleneck\n",
            "copying apex/contrib/bottleneck/bottleneck.py -> build/lib/apex/contrib/bottleneck\n",
            "copying apex/contrib/bottleneck/test.py -> build/lib/apex/contrib/bottleneck\n",
            "copying apex/contrib/bottleneck/__init__.py -> build/lib/apex/contrib/bottleneck\n",
            "creating build/lib/apex/contrib/groupbn\n",
            "copying apex/contrib/groupbn/batch_norm.py -> build/lib/apex/contrib/groupbn\n",
            "copying apex/contrib/groupbn/__init__.py -> build/lib/apex/contrib/groupbn\n",
            "creating build/lib/apex/contrib/fmha\n",
            "copying apex/contrib/fmha/fmha.py -> build/lib/apex/contrib/fmha\n",
            "copying apex/contrib/fmha/__init__.py -> build/lib/apex/contrib/fmha\n",
            "creating build/lib/apex/contrib/optimizers\n",
            "copying apex/contrib/optimizers/fused_sgd.py -> build/lib/apex/contrib/optimizers\n",
            "copying apex/contrib/optimizers/distributed_fused_lamb.py -> build/lib/apex/contrib/optimizers\n",
            "copying apex/contrib/optimizers/distributed_fused_adam_v3.py -> build/lib/apex/contrib/optimizers\n",
            "copying apex/contrib/optimizers/distributed_fused_adam_v2.py -> build/lib/apex/contrib/optimizers\n",
            "copying apex/contrib/optimizers/fp16_optimizer.py -> build/lib/apex/contrib/optimizers\n",
            "copying apex/contrib/optimizers/fused_adam.py -> build/lib/apex/contrib/optimizers\n",
            "copying apex/contrib/optimizers/fused_lamb.py -> build/lib/apex/contrib/optimizers\n",
            "copying apex/contrib/optimizers/distributed_fused_adam.py -> build/lib/apex/contrib/optimizers\n",
            "copying apex/contrib/optimizers/__init__.py -> build/lib/apex/contrib/optimizers\n",
            "creating build/lib/apex/contrib/sparsity\n",
            "copying apex/contrib/sparsity/sparse_masklib.py -> build/lib/apex/contrib/sparsity\n",
            "copying apex/contrib/sparsity/asp.py -> build/lib/apex/contrib/sparsity\n",
            "copying apex/contrib/sparsity/__init__.py -> build/lib/apex/contrib/sparsity\n",
            "creating build/lib/apex/contrib/layer_norm\n",
            "copying apex/contrib/layer_norm/layer_norm.py -> build/lib/apex/contrib/layer_norm\n",
            "copying apex/contrib/layer_norm/__init__.py -> build/lib/apex/contrib/layer_norm\n",
            "creating build/lib/apex/contrib/xentropy\n",
            "copying apex/contrib/xentropy/softmax_xentropy.py -> build/lib/apex/contrib/xentropy\n",
            "copying apex/contrib/xentropy/__init__.py -> build/lib/apex/contrib/xentropy\n",
            "creating build/lib/apex/contrib/transducer\n",
            "copying apex/contrib/transducer/transducer.py -> build/lib/apex/contrib/transducer\n",
            "copying apex/contrib/transducer/__init__.py -> build/lib/apex/contrib/transducer\n",
            "creating build/lib/apex/contrib/multihead_attn\n",
            "copying apex/contrib/multihead_attn/fast_self_multihead_attn_norm_add_func.py -> build/lib/apex/contrib/multihead_attn\n",
            "copying apex/contrib/multihead_attn/fast_encdec_multihead_attn_func.py -> build/lib/apex/contrib/multihead_attn\n",
            "copying apex/contrib/multihead_attn/encdec_multihead_attn.py -> build/lib/apex/contrib/multihead_attn\n",
            "copying apex/contrib/multihead_attn/mask_softmax_dropout_func.py -> build/lib/apex/contrib/multihead_attn\n",
            "copying apex/contrib/multihead_attn/encdec_multihead_attn_func.py -> build/lib/apex/contrib/multihead_attn\n",
            "copying apex/contrib/multihead_attn/self_multihead_attn_func.py -> build/lib/apex/contrib/multihead_attn\n",
            "copying apex/contrib/multihead_attn/fast_self_multihead_attn_func.py -> build/lib/apex/contrib/multihead_attn\n",
            "copying apex/contrib/multihead_attn/self_multihead_attn.py -> build/lib/apex/contrib/multihead_attn\n",
            "copying apex/contrib/multihead_attn/fast_encdec_multihead_attn_norm_add_func.py -> build/lib/apex/contrib/multihead_attn\n",
            "copying apex/contrib/multihead_attn/__init__.py -> build/lib/apex/contrib/multihead_attn\n",
            "creating build/lib/apex/amp/lists\n",
            "copying apex/amp/lists/functional_overrides.py -> build/lib/apex/amp/lists\n",
            "copying apex/amp/lists/torch_overrides.py -> build/lib/apex/amp/lists\n",
            "copying apex/amp/lists/tensor_overrides.py -> build/lib/apex/amp/lists\n",
            "copying apex/amp/lists/__init__.py -> build/lib/apex/amp/lists\n",
            "creating build/bdist.linux-x86_64\n",
            "creating build/bdist.linux-x86_64/egg\n",
            "creating build/bdist.linux-x86_64/egg/apex\n",
            "creating build/bdist.linux-x86_64/egg/apex/reparameterization\n",
            "copying build/lib/apex/reparameterization/reparameterization.py -> build/bdist.linux-x86_64/egg/apex/reparameterization\n",
            "copying build/lib/apex/reparameterization/weight_norm.py -> build/bdist.linux-x86_64/egg/apex/reparameterization\n",
            "copying build/lib/apex/reparameterization/__init__.py -> build/bdist.linux-x86_64/egg/apex/reparameterization\n",
            "creating build/bdist.linux-x86_64/egg/apex/optimizers\n",
            "copying build/lib/apex/optimizers/fused_sgd.py -> build/bdist.linux-x86_64/egg/apex/optimizers\n",
            "copying build/lib/apex/optimizers/fused_novograd.py -> build/bdist.linux-x86_64/egg/apex/optimizers\n",
            "copying build/lib/apex/optimizers/fused_adagrad.py -> build/bdist.linux-x86_64/egg/apex/optimizers\n",
            "copying build/lib/apex/optimizers/fused_adam.py -> build/bdist.linux-x86_64/egg/apex/optimizers\n",
            "copying build/lib/apex/optimizers/fused_lamb.py -> build/bdist.linux-x86_64/egg/apex/optimizers\n",
            "copying build/lib/apex/optimizers/__init__.py -> build/bdist.linux-x86_64/egg/apex/optimizers\n",
            "creating build/bdist.linux-x86_64/egg/apex/RNN\n",
            "copying build/lib/apex/RNN/cells.py -> build/bdist.linux-x86_64/egg/apex/RNN\n",
            "copying build/lib/apex/RNN/RNNBackend.py -> build/bdist.linux-x86_64/egg/apex/RNN\n",
            "copying build/lib/apex/RNN/models.py -> build/bdist.linux-x86_64/egg/apex/RNN\n",
            "copying build/lib/apex/RNN/__init__.py -> build/bdist.linux-x86_64/egg/apex/RNN\n",
            "creating build/bdist.linux-x86_64/egg/apex/normalization\n",
            "copying build/lib/apex/normalization/fused_layer_norm.py -> build/bdist.linux-x86_64/egg/apex/normalization\n",
            "copying build/lib/apex/normalization/__init__.py -> build/bdist.linux-x86_64/egg/apex/normalization\n",
            "creating build/bdist.linux-x86_64/egg/apex/multi_tensor_apply\n",
            "copying build/lib/apex/multi_tensor_apply/multi_tensor_apply.py -> build/bdist.linux-x86_64/egg/apex/multi_tensor_apply\n",
            "copying build/lib/apex/multi_tensor_apply/__init__.py -> build/bdist.linux-x86_64/egg/apex/multi_tensor_apply\n",
            "creating build/bdist.linux-x86_64/egg/apex/fp16_utils\n",
            "copying build/lib/apex/fp16_utils/fp16_optimizer.py -> build/bdist.linux-x86_64/egg/apex/fp16_utils\n",
            "copying build/lib/apex/fp16_utils/loss_scaler.py -> build/bdist.linux-x86_64/egg/apex/fp16_utils\n",
            "copying build/lib/apex/fp16_utils/fp16util.py -> build/bdist.linux-x86_64/egg/apex/fp16_utils\n",
            "copying build/lib/apex/fp16_utils/__init__.py -> build/bdist.linux-x86_64/egg/apex/fp16_utils\n",
            "creating build/bdist.linux-x86_64/egg/apex/fused_dense\n",
            "copying build/lib/apex/fused_dense/fused_dense.py -> build/bdist.linux-x86_64/egg/apex/fused_dense\n",
            "copying build/lib/apex/fused_dense/__init__.py -> build/bdist.linux-x86_64/egg/apex/fused_dense\n",
            "creating build/bdist.linux-x86_64/egg/apex/mlp\n",
            "copying build/lib/apex/mlp/mlp.py -> build/bdist.linux-x86_64/egg/apex/mlp\n",
            "copying build/lib/apex/mlp/__init__.py -> build/bdist.linux-x86_64/egg/apex/mlp\n",
            "creating build/bdist.linux-x86_64/egg/apex/pyprof\n",
            "creating build/bdist.linux-x86_64/egg/apex/pyprof/nvtx\n",
            "copying build/lib/apex/pyprof/nvtx/nvmarker.py -> build/bdist.linux-x86_64/egg/apex/pyprof/nvtx\n",
            "copying build/lib/apex/pyprof/nvtx/__init__.py -> build/bdist.linux-x86_64/egg/apex/pyprof/nvtx\n",
            "creating build/bdist.linux-x86_64/egg/apex/pyprof/parse\n",
            "copying build/lib/apex/pyprof/parse/parse.py -> build/bdist.linux-x86_64/egg/apex/pyprof/parse\n",
            "copying build/lib/apex/pyprof/parse/__main__.py -> build/bdist.linux-x86_64/egg/apex/pyprof/parse\n",
            "copying build/lib/apex/pyprof/parse/db.py -> build/bdist.linux-x86_64/egg/apex/pyprof/parse\n",
            "copying build/lib/apex/pyprof/parse/kernel.py -> build/bdist.linux-x86_64/egg/apex/pyprof/parse\n",
            "copying build/lib/apex/pyprof/parse/nvvp.py -> build/bdist.linux-x86_64/egg/apex/pyprof/parse\n",
            "copying build/lib/apex/pyprof/parse/__init__.py -> build/bdist.linux-x86_64/egg/apex/pyprof/parse\n",
            "creating build/bdist.linux-x86_64/egg/apex/pyprof/prof\n",
            "copying build/lib/apex/pyprof/prof/pointwise.py -> build/bdist.linux-x86_64/egg/apex/pyprof/prof\n",
            "copying build/lib/apex/pyprof/prof/output.py -> build/bdist.linux-x86_64/egg/apex/pyprof/prof\n",
            "copying build/lib/apex/pyprof/prof/__main__.py -> build/bdist.linux-x86_64/egg/apex/pyprof/prof\n",
            "copying build/lib/apex/pyprof/prof/utility.py -> build/bdist.linux-x86_64/egg/apex/pyprof/prof\n",
            "copying build/lib/apex/pyprof/prof/randomSample.py -> build/bdist.linux-x86_64/egg/apex/pyprof/prof\n",
            "copying build/lib/apex/pyprof/prof/pooling.py -> build/bdist.linux-x86_64/egg/apex/pyprof/prof\n",
            "copying build/lib/apex/pyprof/prof/index_slice_join_mutate.py -> build/bdist.linux-x86_64/egg/apex/pyprof/prof\n",
            "copying build/lib/apex/pyprof/prof/misc.py -> build/bdist.linux-x86_64/egg/apex/pyprof/prof\n",
            "copying build/lib/apex/pyprof/prof/base.py -> build/bdist.linux-x86_64/egg/apex/pyprof/prof\n",
            "copying build/lib/apex/pyprof/prof/conv.py -> build/bdist.linux-x86_64/egg/apex/pyprof/prof\n",
            "copying build/lib/apex/pyprof/prof/softmax.py -> build/bdist.linux-x86_64/egg/apex/pyprof/prof\n",
            "copying build/lib/apex/pyprof/prof/dropout.py -> build/bdist.linux-x86_64/egg/apex/pyprof/prof\n",
            "copying build/lib/apex/pyprof/prof/convert.py -> build/bdist.linux-x86_64/egg/apex/pyprof/prof\n",
            "copying build/lib/apex/pyprof/prof/activation.py -> build/bdist.linux-x86_64/egg/apex/pyprof/prof\n",
            "copying build/lib/apex/pyprof/prof/blas.py -> build/bdist.linux-x86_64/egg/apex/pyprof/prof\n",
            "copying build/lib/apex/pyprof/prof/data.py -> build/bdist.linux-x86_64/egg/apex/pyprof/prof\n",
            "copying build/lib/apex/pyprof/prof/prof.py -> build/bdist.linux-x86_64/egg/apex/pyprof/prof\n",
            "copying build/lib/apex/pyprof/prof/reduction.py -> build/bdist.linux-x86_64/egg/apex/pyprof/prof\n",
            "copying build/lib/apex/pyprof/prof/linear.py -> build/bdist.linux-x86_64/egg/apex/pyprof/prof\n",
            "copying build/lib/apex/pyprof/prof/usage.py -> build/bdist.linux-x86_64/egg/apex/pyprof/prof\n",
            "copying build/lib/apex/pyprof/prof/optim.py -> build/bdist.linux-x86_64/egg/apex/pyprof/prof\n",
            "copying build/lib/apex/pyprof/prof/loss.py -> build/bdist.linux-x86_64/egg/apex/pyprof/prof\n",
            "copying build/lib/apex/pyprof/prof/embedding.py -> build/bdist.linux-x86_64/egg/apex/pyprof/prof\n",
            "copying build/lib/apex/pyprof/prof/__init__.py -> build/bdist.linux-x86_64/egg/apex/pyprof/prof\n",
            "copying build/lib/apex/pyprof/prof/recurrentCell.py -> build/bdist.linux-x86_64/egg/apex/pyprof/prof\n",
            "copying build/lib/apex/pyprof/prof/normalization.py -> build/bdist.linux-x86_64/egg/apex/pyprof/prof\n",
            "copying build/lib/apex/pyprof/__init__.py -> build/bdist.linux-x86_64/egg/apex/pyprof\n",
            "creating build/bdist.linux-x86_64/egg/apex/parallel\n",
            "copying build/lib/apex/parallel/optimized_sync_batchnorm_kernel.py -> build/bdist.linux-x86_64/egg/apex/parallel\n",
            "copying build/lib/apex/parallel/multiproc.py -> build/bdist.linux-x86_64/egg/apex/parallel\n",
            "copying build/lib/apex/parallel/sync_batchnorm_kernel.py -> build/bdist.linux-x86_64/egg/apex/parallel\n",
            "copying build/lib/apex/parallel/sync_batchnorm.py -> build/bdist.linux-x86_64/egg/apex/parallel\n",
            "copying build/lib/apex/parallel/LARC.py -> build/bdist.linux-x86_64/egg/apex/parallel\n",
            "copying build/lib/apex/parallel/distributed.py -> build/bdist.linux-x86_64/egg/apex/parallel\n",
            "copying build/lib/apex/parallel/optimized_sync_batchnorm.py -> build/bdist.linux-x86_64/egg/apex/parallel\n",
            "copying build/lib/apex/parallel/__init__.py -> build/bdist.linux-x86_64/egg/apex/parallel\n",
            "creating build/bdist.linux-x86_64/egg/apex/contrib\n",
            "creating build/bdist.linux-x86_64/egg/apex/contrib/bottleneck\n",
            "copying build/lib/apex/contrib/bottleneck/bottleneck_module_test.py -> build/bdist.linux-x86_64/egg/apex/contrib/bottleneck\n",
            "copying build/lib/apex/contrib/bottleneck/bottleneck.py -> build/bdist.linux-x86_64/egg/apex/contrib/bottleneck\n",
            "copying build/lib/apex/contrib/bottleneck/test.py -> build/bdist.linux-x86_64/egg/apex/contrib/bottleneck\n",
            "copying build/lib/apex/contrib/bottleneck/__init__.py -> build/bdist.linux-x86_64/egg/apex/contrib/bottleneck\n",
            "creating build/bdist.linux-x86_64/egg/apex/contrib/groupbn\n",
            "copying build/lib/apex/contrib/groupbn/batch_norm.py -> build/bdist.linux-x86_64/egg/apex/contrib/groupbn\n",
            "copying build/lib/apex/contrib/groupbn/__init__.py -> build/bdist.linux-x86_64/egg/apex/contrib/groupbn\n",
            "creating build/bdist.linux-x86_64/egg/apex/contrib/fmha\n",
            "copying build/lib/apex/contrib/fmha/fmha.py -> build/bdist.linux-x86_64/egg/apex/contrib/fmha\n",
            "copying build/lib/apex/contrib/fmha/__init__.py -> build/bdist.linux-x86_64/egg/apex/contrib/fmha\n",
            "creating build/bdist.linux-x86_64/egg/apex/contrib/optimizers\n",
            "copying build/lib/apex/contrib/optimizers/fused_sgd.py -> build/bdist.linux-x86_64/egg/apex/contrib/optimizers\n",
            "copying build/lib/apex/contrib/optimizers/distributed_fused_lamb.py -> build/bdist.linux-x86_64/egg/apex/contrib/optimizers\n",
            "copying build/lib/apex/contrib/optimizers/distributed_fused_adam_v3.py -> build/bdist.linux-x86_64/egg/apex/contrib/optimizers\n",
            "copying build/lib/apex/contrib/optimizers/distributed_fused_adam_v2.py -> build/bdist.linux-x86_64/egg/apex/contrib/optimizers\n",
            "copying build/lib/apex/contrib/optimizers/fp16_optimizer.py -> build/bdist.linux-x86_64/egg/apex/contrib/optimizers\n",
            "copying build/lib/apex/contrib/optimizers/fused_adam.py -> build/bdist.linux-x86_64/egg/apex/contrib/optimizers\n",
            "copying build/lib/apex/contrib/optimizers/fused_lamb.py -> build/bdist.linux-x86_64/egg/apex/contrib/optimizers\n",
            "copying build/lib/apex/contrib/optimizers/distributed_fused_adam.py -> build/bdist.linux-x86_64/egg/apex/contrib/optimizers\n",
            "copying build/lib/apex/contrib/optimizers/__init__.py -> build/bdist.linux-x86_64/egg/apex/contrib/optimizers\n",
            "creating build/bdist.linux-x86_64/egg/apex/contrib/sparsity\n",
            "copying build/lib/apex/contrib/sparsity/sparse_masklib.py -> build/bdist.linux-x86_64/egg/apex/contrib/sparsity\n",
            "copying build/lib/apex/contrib/sparsity/asp.py -> build/bdist.linux-x86_64/egg/apex/contrib/sparsity\n",
            "copying build/lib/apex/contrib/sparsity/__init__.py -> build/bdist.linux-x86_64/egg/apex/contrib/sparsity\n",
            "creating build/bdist.linux-x86_64/egg/apex/contrib/layer_norm\n",
            "copying build/lib/apex/contrib/layer_norm/layer_norm.py -> build/bdist.linux-x86_64/egg/apex/contrib/layer_norm\n",
            "copying build/lib/apex/contrib/layer_norm/__init__.py -> build/bdist.linux-x86_64/egg/apex/contrib/layer_norm\n",
            "creating build/bdist.linux-x86_64/egg/apex/contrib/xentropy\n",
            "copying build/lib/apex/contrib/xentropy/softmax_xentropy.py -> build/bdist.linux-x86_64/egg/apex/contrib/xentropy\n",
            "copying build/lib/apex/contrib/xentropy/__init__.py -> build/bdist.linux-x86_64/egg/apex/contrib/xentropy\n",
            "creating build/bdist.linux-x86_64/egg/apex/contrib/transducer\n",
            "copying build/lib/apex/contrib/transducer/transducer.py -> build/bdist.linux-x86_64/egg/apex/contrib/transducer\n",
            "copying build/lib/apex/contrib/transducer/__init__.py -> build/bdist.linux-x86_64/egg/apex/contrib/transducer\n",
            "copying build/lib/apex/contrib/__init__.py -> build/bdist.linux-x86_64/egg/apex/contrib\n",
            "creating build/bdist.linux-x86_64/egg/apex/contrib/multihead_attn\n",
            "copying build/lib/apex/contrib/multihead_attn/fast_self_multihead_attn_norm_add_func.py -> build/bdist.linux-x86_64/egg/apex/contrib/multihead_attn\n",
            "copying build/lib/apex/contrib/multihead_attn/fast_encdec_multihead_attn_func.py -> build/bdist.linux-x86_64/egg/apex/contrib/multihead_attn\n",
            "copying build/lib/apex/contrib/multihead_attn/encdec_multihead_attn.py -> build/bdist.linux-x86_64/egg/apex/contrib/multihead_attn\n",
            "copying build/lib/apex/contrib/multihead_attn/mask_softmax_dropout_func.py -> build/bdist.linux-x86_64/egg/apex/contrib/multihead_attn\n",
            "copying build/lib/apex/contrib/multihead_attn/encdec_multihead_attn_func.py -> build/bdist.linux-x86_64/egg/apex/contrib/multihead_attn\n",
            "copying build/lib/apex/contrib/multihead_attn/self_multihead_attn_func.py -> build/bdist.linux-x86_64/egg/apex/contrib/multihead_attn\n",
            "copying build/lib/apex/contrib/multihead_attn/fast_self_multihead_attn_func.py -> build/bdist.linux-x86_64/egg/apex/contrib/multihead_attn\n",
            "copying build/lib/apex/contrib/multihead_attn/self_multihead_attn.py -> build/bdist.linux-x86_64/egg/apex/contrib/multihead_attn\n",
            "copying build/lib/apex/contrib/multihead_attn/fast_encdec_multihead_attn_norm_add_func.py -> build/bdist.linux-x86_64/egg/apex/contrib/multihead_attn\n",
            "copying build/lib/apex/contrib/multihead_attn/__init__.py -> build/bdist.linux-x86_64/egg/apex/contrib/multihead_attn\n",
            "copying build/lib/apex/__init__.py -> build/bdist.linux-x86_64/egg/apex\n",
            "creating build/bdist.linux-x86_64/egg/apex/amp\n",
            "copying build/lib/apex/amp/opt.py -> build/bdist.linux-x86_64/egg/apex/amp\n",
            "copying build/lib/apex/amp/scaler.py -> build/bdist.linux-x86_64/egg/apex/amp\n",
            "copying build/lib/apex/amp/_process_optimizer.py -> build/bdist.linux-x86_64/egg/apex/amp\n",
            "copying build/lib/apex/amp/utils.py -> build/bdist.linux-x86_64/egg/apex/amp\n",
            "copying build/lib/apex/amp/compat.py -> build/bdist.linux-x86_64/egg/apex/amp\n",
            "copying build/lib/apex/amp/_amp_state.py -> build/bdist.linux-x86_64/egg/apex/amp\n",
            "copying build/lib/apex/amp/frontend.py -> build/bdist.linux-x86_64/egg/apex/amp\n",
            "copying build/lib/apex/amp/amp.py -> build/bdist.linux-x86_64/egg/apex/amp\n",
            "copying build/lib/apex/amp/wrap.py -> build/bdist.linux-x86_64/egg/apex/amp\n",
            "copying build/lib/apex/amp/handle.py -> build/bdist.linux-x86_64/egg/apex/amp\n",
            "copying build/lib/apex/amp/__version__.py -> build/bdist.linux-x86_64/egg/apex/amp\n",
            "creating build/bdist.linux-x86_64/egg/apex/amp/lists\n",
            "copying build/lib/apex/amp/lists/functional_overrides.py -> build/bdist.linux-x86_64/egg/apex/amp/lists\n",
            "copying build/lib/apex/amp/lists/torch_overrides.py -> build/bdist.linux-x86_64/egg/apex/amp/lists\n",
            "copying build/lib/apex/amp/lists/tensor_overrides.py -> build/bdist.linux-x86_64/egg/apex/amp/lists\n",
            "copying build/lib/apex/amp/lists/__init__.py -> build/bdist.linux-x86_64/egg/apex/amp/lists\n",
            "copying build/lib/apex/amp/rnn_compat.py -> build/bdist.linux-x86_64/egg/apex/amp\n",
            "copying build/lib/apex/amp/_initialize.py -> build/bdist.linux-x86_64/egg/apex/amp\n",
            "copying build/lib/apex/amp/__init__.py -> build/bdist.linux-x86_64/egg/apex/amp\n",
            "byte-compiling build/bdist.linux-x86_64/egg/apex/reparameterization/reparameterization.py to reparameterization.cpython-37.pyc\n",
            "byte-compiling build/bdist.linux-x86_64/egg/apex/reparameterization/weight_norm.py to weight_norm.cpython-37.pyc\n",
            "byte-compiling build/bdist.linux-x86_64/egg/apex/reparameterization/__init__.py to __init__.cpython-37.pyc\n",
            "byte-compiling build/bdist.linux-x86_64/egg/apex/optimizers/fused_sgd.py to fused_sgd.cpython-37.pyc\n",
            "byte-compiling build/bdist.linux-x86_64/egg/apex/optimizers/fused_novograd.py to fused_novograd.cpython-37.pyc\n",
            "byte-compiling build/bdist.linux-x86_64/egg/apex/optimizers/fused_adagrad.py to fused_adagrad.cpython-37.pyc\n",
            "byte-compiling build/bdist.linux-x86_64/egg/apex/optimizers/fused_adam.py to fused_adam.cpython-37.pyc\n",
            "byte-compiling build/bdist.linux-x86_64/egg/apex/optimizers/fused_lamb.py to fused_lamb.cpython-37.pyc\n",
            "byte-compiling build/bdist.linux-x86_64/egg/apex/optimizers/__init__.py to __init__.cpython-37.pyc\n",
            "byte-compiling build/bdist.linux-x86_64/egg/apex/RNN/cells.py to cells.cpython-37.pyc\n",
            "byte-compiling build/bdist.linux-x86_64/egg/apex/RNN/RNNBackend.py to RNNBackend.cpython-37.pyc\n",
            "byte-compiling build/bdist.linux-x86_64/egg/apex/RNN/models.py to models.cpython-37.pyc\n",
            "byte-compiling build/bdist.linux-x86_64/egg/apex/RNN/__init__.py to __init__.cpython-37.pyc\n",
            "byte-compiling build/bdist.linux-x86_64/egg/apex/normalization/fused_layer_norm.py to fused_layer_norm.cpython-37.pyc\n",
            "byte-compiling build/bdist.linux-x86_64/egg/apex/normalization/__init__.py to __init__.cpython-37.pyc\n",
            "byte-compiling build/bdist.linux-x86_64/egg/apex/multi_tensor_apply/multi_tensor_apply.py to multi_tensor_apply.cpython-37.pyc\n",
            "byte-compiling build/bdist.linux-x86_64/egg/apex/multi_tensor_apply/__init__.py to __init__.cpython-37.pyc\n",
            "byte-compiling build/bdist.linux-x86_64/egg/apex/fp16_utils/fp16_optimizer.py to fp16_optimizer.cpython-37.pyc\n",
            "byte-compiling build/bdist.linux-x86_64/egg/apex/fp16_utils/loss_scaler.py to loss_scaler.cpython-37.pyc\n",
            "byte-compiling build/bdist.linux-x86_64/egg/apex/fp16_utils/fp16util.py to fp16util.cpython-37.pyc\n",
            "byte-compiling build/bdist.linux-x86_64/egg/apex/fp16_utils/__init__.py to __init__.cpython-37.pyc\n",
            "byte-compiling build/bdist.linux-x86_64/egg/apex/fused_dense/fused_dense.py to fused_dense.cpython-37.pyc\n",
            "byte-compiling build/bdist.linux-x86_64/egg/apex/fused_dense/__init__.py to __init__.cpython-37.pyc\n",
            "byte-compiling build/bdist.linux-x86_64/egg/apex/mlp/mlp.py to mlp.cpython-37.pyc\n",
            "byte-compiling build/bdist.linux-x86_64/egg/apex/mlp/__init__.py to __init__.cpython-37.pyc\n",
            "byte-compiling build/bdist.linux-x86_64/egg/apex/pyprof/nvtx/nvmarker.py to nvmarker.cpython-37.pyc\n",
            "byte-compiling build/bdist.linux-x86_64/egg/apex/pyprof/nvtx/__init__.py to __init__.cpython-37.pyc\n",
            "byte-compiling build/bdist.linux-x86_64/egg/apex/pyprof/parse/parse.py to parse.cpython-37.pyc\n",
            "byte-compiling build/bdist.linux-x86_64/egg/apex/pyprof/parse/__main__.py to __main__.cpython-37.pyc\n",
            "byte-compiling build/bdist.linux-x86_64/egg/apex/pyprof/parse/db.py to db.cpython-37.pyc\n",
            "byte-compiling build/bdist.linux-x86_64/egg/apex/pyprof/parse/kernel.py to kernel.cpython-37.pyc\n",
            "byte-compiling build/bdist.linux-x86_64/egg/apex/pyprof/parse/nvvp.py to nvvp.cpython-37.pyc\n",
            "byte-compiling build/bdist.linux-x86_64/egg/apex/pyprof/parse/__init__.py to __init__.cpython-37.pyc\n",
            "byte-compiling build/bdist.linux-x86_64/egg/apex/pyprof/prof/pointwise.py to pointwise.cpython-37.pyc\n",
            "byte-compiling build/bdist.linux-x86_64/egg/apex/pyprof/prof/output.py to output.cpython-37.pyc\n",
            "byte-compiling build/bdist.linux-x86_64/egg/apex/pyprof/prof/__main__.py to __main__.cpython-37.pyc\n",
            "byte-compiling build/bdist.linux-x86_64/egg/apex/pyprof/prof/utility.py to utility.cpython-37.pyc\n",
            "byte-compiling build/bdist.linux-x86_64/egg/apex/pyprof/prof/randomSample.py to randomSample.cpython-37.pyc\n",
            "byte-compiling build/bdist.linux-x86_64/egg/apex/pyprof/prof/pooling.py to pooling.cpython-37.pyc\n",
            "byte-compiling build/bdist.linux-x86_64/egg/apex/pyprof/prof/index_slice_join_mutate.py to index_slice_join_mutate.cpython-37.pyc\n",
            "byte-compiling build/bdist.linux-x86_64/egg/apex/pyprof/prof/misc.py to misc.cpython-37.pyc\n",
            "byte-compiling build/bdist.linux-x86_64/egg/apex/pyprof/prof/base.py to base.cpython-37.pyc\n",
            "byte-compiling build/bdist.linux-x86_64/egg/apex/pyprof/prof/conv.py to conv.cpython-37.pyc\n",
            "byte-compiling build/bdist.linux-x86_64/egg/apex/pyprof/prof/softmax.py to softmax.cpython-37.pyc\n",
            "byte-compiling build/bdist.linux-x86_64/egg/apex/pyprof/prof/dropout.py to dropout.cpython-37.pyc\n",
            "byte-compiling build/bdist.linux-x86_64/egg/apex/pyprof/prof/convert.py to convert.cpython-37.pyc\n",
            "byte-compiling build/bdist.linux-x86_64/egg/apex/pyprof/prof/activation.py to activation.cpython-37.pyc\n",
            "byte-compiling build/bdist.linux-x86_64/egg/apex/pyprof/prof/blas.py to blas.cpython-37.pyc\n",
            "byte-compiling build/bdist.linux-x86_64/egg/apex/pyprof/prof/data.py to data.cpython-37.pyc\n",
            "byte-compiling build/bdist.linux-x86_64/egg/apex/pyprof/prof/prof.py to prof.cpython-37.pyc\n",
            "byte-compiling build/bdist.linux-x86_64/egg/apex/pyprof/prof/reduction.py to reduction.cpython-37.pyc\n",
            "byte-compiling build/bdist.linux-x86_64/egg/apex/pyprof/prof/linear.py to linear.cpython-37.pyc\n",
            "byte-compiling build/bdist.linux-x86_64/egg/apex/pyprof/prof/usage.py to usage.cpython-37.pyc\n",
            "byte-compiling build/bdist.linux-x86_64/egg/apex/pyprof/prof/optim.py to optim.cpython-37.pyc\n",
            "byte-compiling build/bdist.linux-x86_64/egg/apex/pyprof/prof/loss.py to loss.cpython-37.pyc\n",
            "byte-compiling build/bdist.linux-x86_64/egg/apex/pyprof/prof/embedding.py to embedding.cpython-37.pyc\n",
            "byte-compiling build/bdist.linux-x86_64/egg/apex/pyprof/prof/__init__.py to __init__.cpython-37.pyc\n",
            "byte-compiling build/bdist.linux-x86_64/egg/apex/pyprof/prof/recurrentCell.py to recurrentCell.cpython-37.pyc\n",
            "byte-compiling build/bdist.linux-x86_64/egg/apex/pyprof/prof/normalization.py to normalization.cpython-37.pyc\n",
            "byte-compiling build/bdist.linux-x86_64/egg/apex/pyprof/__init__.py to __init__.cpython-37.pyc\n",
            "byte-compiling build/bdist.linux-x86_64/egg/apex/parallel/optimized_sync_batchnorm_kernel.py to optimized_sync_batchnorm_kernel.cpython-37.pyc\n",
            "byte-compiling build/bdist.linux-x86_64/egg/apex/parallel/multiproc.py to multiproc.cpython-37.pyc\n",
            "byte-compiling build/bdist.linux-x86_64/egg/apex/parallel/sync_batchnorm_kernel.py to sync_batchnorm_kernel.cpython-37.pyc\n",
            "byte-compiling build/bdist.linux-x86_64/egg/apex/parallel/sync_batchnorm.py to sync_batchnorm.cpython-37.pyc\n",
            "byte-compiling build/bdist.linux-x86_64/egg/apex/parallel/LARC.py to LARC.cpython-37.pyc\n",
            "byte-compiling build/bdist.linux-x86_64/egg/apex/parallel/distributed.py to distributed.cpython-37.pyc\n",
            "byte-compiling build/bdist.linux-x86_64/egg/apex/parallel/optimized_sync_batchnorm.py to optimized_sync_batchnorm.cpython-37.pyc\n",
            "byte-compiling build/bdist.linux-x86_64/egg/apex/parallel/__init__.py to __init__.cpython-37.pyc\n",
            "byte-compiling build/bdist.linux-x86_64/egg/apex/contrib/bottleneck/bottleneck_module_test.py to bottleneck_module_test.cpython-37.pyc\n",
            "byte-compiling build/bdist.linux-x86_64/egg/apex/contrib/bottleneck/bottleneck.py to bottleneck.cpython-37.pyc\n",
            "byte-compiling build/bdist.linux-x86_64/egg/apex/contrib/bottleneck/test.py to test.cpython-37.pyc\n",
            "byte-compiling build/bdist.linux-x86_64/egg/apex/contrib/bottleneck/__init__.py to __init__.cpython-37.pyc\n",
            "byte-compiling build/bdist.linux-x86_64/egg/apex/contrib/groupbn/batch_norm.py to batch_norm.cpython-37.pyc\n",
            "byte-compiling build/bdist.linux-x86_64/egg/apex/contrib/groupbn/__init__.py to __init__.cpython-37.pyc\n",
            "byte-compiling build/bdist.linux-x86_64/egg/apex/contrib/fmha/fmha.py to fmha.cpython-37.pyc\n",
            "byte-compiling build/bdist.linux-x86_64/egg/apex/contrib/fmha/__init__.py to __init__.cpython-37.pyc\n",
            "byte-compiling build/bdist.linux-x86_64/egg/apex/contrib/optimizers/fused_sgd.py to fused_sgd.cpython-37.pyc\n",
            "byte-compiling build/bdist.linux-x86_64/egg/apex/contrib/optimizers/distributed_fused_lamb.py to distributed_fused_lamb.cpython-37.pyc\n",
            "byte-compiling build/bdist.linux-x86_64/egg/apex/contrib/optimizers/distributed_fused_adam_v3.py to distributed_fused_adam_v3.cpython-37.pyc\n",
            "byte-compiling build/bdist.linux-x86_64/egg/apex/contrib/optimizers/distributed_fused_adam_v2.py to distributed_fused_adam_v2.cpython-37.pyc\n",
            "byte-compiling build/bdist.linux-x86_64/egg/apex/contrib/optimizers/fp16_optimizer.py to fp16_optimizer.cpython-37.pyc\n",
            "byte-compiling build/bdist.linux-x86_64/egg/apex/contrib/optimizers/fused_adam.py to fused_adam.cpython-37.pyc\n",
            "byte-compiling build/bdist.linux-x86_64/egg/apex/contrib/optimizers/fused_lamb.py to fused_lamb.cpython-37.pyc\n",
            "byte-compiling build/bdist.linux-x86_64/egg/apex/contrib/optimizers/distributed_fused_adam.py to distributed_fused_adam.cpython-37.pyc\n",
            "byte-compiling build/bdist.linux-x86_64/egg/apex/contrib/optimizers/__init__.py to __init__.cpython-37.pyc\n",
            "byte-compiling build/bdist.linux-x86_64/egg/apex/contrib/sparsity/sparse_masklib.py to sparse_masklib.cpython-37.pyc\n",
            "byte-compiling build/bdist.linux-x86_64/egg/apex/contrib/sparsity/asp.py to asp.cpython-37.pyc\n",
            "byte-compiling build/bdist.linux-x86_64/egg/apex/contrib/sparsity/__init__.py to __init__.cpython-37.pyc\n",
            "byte-compiling build/bdist.linux-x86_64/egg/apex/contrib/layer_norm/layer_norm.py to layer_norm.cpython-37.pyc\n",
            "byte-compiling build/bdist.linux-x86_64/egg/apex/contrib/layer_norm/__init__.py to __init__.cpython-37.pyc\n",
            "byte-compiling build/bdist.linux-x86_64/egg/apex/contrib/xentropy/softmax_xentropy.py to softmax_xentropy.cpython-37.pyc\n",
            "byte-compiling build/bdist.linux-x86_64/egg/apex/contrib/xentropy/__init__.py to __init__.cpython-37.pyc\n",
            "byte-compiling build/bdist.linux-x86_64/egg/apex/contrib/transducer/transducer.py to transducer.cpython-37.pyc\n",
            "byte-compiling build/bdist.linux-x86_64/egg/apex/contrib/transducer/__init__.py to __init__.cpython-37.pyc\n",
            "byte-compiling build/bdist.linux-x86_64/egg/apex/contrib/__init__.py to __init__.cpython-37.pyc\n",
            "byte-compiling build/bdist.linux-x86_64/egg/apex/contrib/multihead_attn/fast_self_multihead_attn_norm_add_func.py to fast_self_multihead_attn_norm_add_func.cpython-37.pyc\n",
            "byte-compiling build/bdist.linux-x86_64/egg/apex/contrib/multihead_attn/fast_encdec_multihead_attn_func.py to fast_encdec_multihead_attn_func.cpython-37.pyc\n",
            "byte-compiling build/bdist.linux-x86_64/egg/apex/contrib/multihead_attn/encdec_multihead_attn.py to encdec_multihead_attn.cpython-37.pyc\n",
            "byte-compiling build/bdist.linux-x86_64/egg/apex/contrib/multihead_attn/mask_softmax_dropout_func.py to mask_softmax_dropout_func.cpython-37.pyc\n",
            "byte-compiling build/bdist.linux-x86_64/egg/apex/contrib/multihead_attn/encdec_multihead_attn_func.py to encdec_multihead_attn_func.cpython-37.pyc\n",
            "byte-compiling build/bdist.linux-x86_64/egg/apex/contrib/multihead_attn/self_multihead_attn_func.py to self_multihead_attn_func.cpython-37.pyc\n",
            "byte-compiling build/bdist.linux-x86_64/egg/apex/contrib/multihead_attn/fast_self_multihead_attn_func.py to fast_self_multihead_attn_func.cpython-37.pyc\n",
            "byte-compiling build/bdist.linux-x86_64/egg/apex/contrib/multihead_attn/self_multihead_attn.py to self_multihead_attn.cpython-37.pyc\n",
            "byte-compiling build/bdist.linux-x86_64/egg/apex/contrib/multihead_attn/fast_encdec_multihead_attn_norm_add_func.py to fast_encdec_multihead_attn_norm_add_func.cpython-37.pyc\n",
            "byte-compiling build/bdist.linux-x86_64/egg/apex/contrib/multihead_attn/__init__.py to __init__.cpython-37.pyc\n",
            "byte-compiling build/bdist.linux-x86_64/egg/apex/__init__.py to __init__.cpython-37.pyc\n",
            "byte-compiling build/bdist.linux-x86_64/egg/apex/amp/opt.py to opt.cpython-37.pyc\n",
            "byte-compiling build/bdist.linux-x86_64/egg/apex/amp/scaler.py to scaler.cpython-37.pyc\n",
            "byte-compiling build/bdist.linux-x86_64/egg/apex/amp/_process_optimizer.py to _process_optimizer.cpython-37.pyc\n",
            "byte-compiling build/bdist.linux-x86_64/egg/apex/amp/utils.py to utils.cpython-37.pyc\n",
            "byte-compiling build/bdist.linux-x86_64/egg/apex/amp/compat.py to compat.cpython-37.pyc\n",
            "byte-compiling build/bdist.linux-x86_64/egg/apex/amp/_amp_state.py to _amp_state.cpython-37.pyc\n",
            "byte-compiling build/bdist.linux-x86_64/egg/apex/amp/frontend.py to frontend.cpython-37.pyc\n",
            "byte-compiling build/bdist.linux-x86_64/egg/apex/amp/amp.py to amp.cpython-37.pyc\n",
            "byte-compiling build/bdist.linux-x86_64/egg/apex/amp/wrap.py to wrap.cpython-37.pyc\n",
            "byte-compiling build/bdist.linux-x86_64/egg/apex/amp/handle.py to handle.cpython-37.pyc\n",
            "byte-compiling build/bdist.linux-x86_64/egg/apex/amp/__version__.py to __version__.cpython-37.pyc\n",
            "byte-compiling build/bdist.linux-x86_64/egg/apex/amp/lists/functional_overrides.py to functional_overrides.cpython-37.pyc\n",
            "byte-compiling build/bdist.linux-x86_64/egg/apex/amp/lists/torch_overrides.py to torch_overrides.cpython-37.pyc\n",
            "byte-compiling build/bdist.linux-x86_64/egg/apex/amp/lists/tensor_overrides.py to tensor_overrides.cpython-37.pyc\n",
            "byte-compiling build/bdist.linux-x86_64/egg/apex/amp/lists/__init__.py to __init__.cpython-37.pyc\n",
            "byte-compiling build/bdist.linux-x86_64/egg/apex/amp/rnn_compat.py to rnn_compat.cpython-37.pyc\n",
            "byte-compiling build/bdist.linux-x86_64/egg/apex/amp/_initialize.py to _initialize.cpython-37.pyc\n",
            "byte-compiling build/bdist.linux-x86_64/egg/apex/amp/__init__.py to __init__.cpython-37.pyc\n",
            "creating build/bdist.linux-x86_64/egg/EGG-INFO\n",
            "copying apex.egg-info/PKG-INFO -> build/bdist.linux-x86_64/egg/EGG-INFO\n",
            "copying apex.egg-info/SOURCES.txt -> build/bdist.linux-x86_64/egg/EGG-INFO\n",
            "copying apex.egg-info/dependency_links.txt -> build/bdist.linux-x86_64/egg/EGG-INFO\n",
            "copying apex.egg-info/top_level.txt -> build/bdist.linux-x86_64/egg/EGG-INFO\n",
            "creating dist\n",
            "creating 'dist/apex-0.1-py3.7.egg' and adding 'build/bdist.linux-x86_64/egg' to it\n",
            "removing 'build/bdist.linux-x86_64/egg' (and everything under it)\n",
            "Processing apex-0.1-py3.7.egg\n",
            "creating /usr/local/envs/DeepDTAF_env/lib/python3.7/site-packages/apex-0.1-py3.7.egg\n",
            "Extracting apex-0.1-py3.7.egg to /usr/local/envs/DeepDTAF_env/lib/python3.7/site-packages\n",
            "Adding apex 0.1 to easy-install.pth file\n",
            "\n",
            "Installed /usr/local/envs/DeepDTAF_env/lib/python3.7/site-packages/apex-0.1-py3.7.egg\n",
            "Processing dependencies for apex==0.1\n",
            "Finished processing dependencies for apex==0.1\n"
          ]
        },
        {
          "output_type": "stream",
          "name": "stderr",
          "text": [
            "setup.py:67: UserWarning: Option --pyprof not specified. Not installing PyProf dependencies!\n",
            "  warnings.warn(\"Option --pyprof not specified. Not installing PyProf dependencies!\")\n",
            "zip_safe flag not set; analyzing archive contents...\n",
            "apex.pyprof.nvtx.__pycache__.nvmarker.cpython-37: module references __file__\n",
            "apex.pyprof.nvtx.__pycache__.nvmarker.cpython-37: module references __path__\n"
          ]
        }
      ]
    },
    {
      "cell_type": "code",
      "metadata": {
        "colab": {
          "base_uri": "https://localhost:8080/"
        },
        "id": "z_fpaWZyDbfl",
        "outputId": "fed2f6a2-60c3-460f-927a-d4f78107434a"
      },
      "source": [
        "ls"
      ],
      "execution_count": 47,
      "outputs": [
        {
          "output_type": "stream",
          "name": "stdout",
          "text": [
            "\u001b[0m\u001b[01;34mapex\u001b[0m/           \u001b[01;34mcsrc\u001b[0m/  \u001b[01;34mexamples\u001b[0m/  requirements_dev.txt  \u001b[01;34mtests\u001b[0m/\n",
            "\u001b[01;34mapex.egg-info\u001b[0m/  \u001b[01;34mdist\u001b[0m/  LICENSE    requirements.txt\n",
            "\u001b[01;34mbuild\u001b[0m/          \u001b[01;34mdocs\u001b[0m/  README.md  setup.py\n"
          ]
        }
      ]
    },
    {
      "cell_type": "code",
      "metadata": {
        "colab": {
          "base_uri": "https://localhost:8080/"
        },
        "id": "Grw7p95nDeND",
        "outputId": "24d9dea1-cb5a-42cd-aaec-bb11fbbc75cd"
      },
      "source": [
        "cd .."
      ],
      "execution_count": 48,
      "outputs": [
        {
          "output_type": "stream",
          "name": "stdout",
          "text": [
            "/usr/local/cuda-11.1/DeepDTAF\n"
          ]
        }
      ]
    },
    {
      "cell_type": "code",
      "metadata": {
        "colab": {
          "base_uri": "https://localhost:8080/"
        },
        "id": "HHFriromDh-2",
        "outputId": "f69641af-79f5-4822-9c87-6ef63c89e81c"
      },
      "source": [
        "ls"
      ],
      "execution_count": 49,
      "outputs": [
        {
          "output_type": "stream",
          "name": "stdout",
          "text": [
            "\u001b[0m\u001b[01;34mapex\u001b[0m/  \u001b[01;34mdata\u001b[0m/  environment_gpu.yml  LICENSE  README.md  \u001b[01;34mruns\u001b[0m/  \u001b[01;34msrc\u001b[0m/\n"
          ]
        }
      ]
    },
    {
      "cell_type": "code",
      "metadata": {
        "colab": {
          "base_uri": "https://localhost:8080/"
        },
        "id": "5Az0RFNoDko7",
        "outputId": "6d991f9c-f458-416a-8f9c-8083ae67a942"
      },
      "source": [
        "cd src/"
      ],
      "execution_count": 50,
      "outputs": [
        {
          "output_type": "stream",
          "name": "stdout",
          "text": [
            "/usr/local/cuda-11.1/DeepDTAF/src\n"
          ]
        }
      ]
    },
    {
      "cell_type": "code",
      "metadata": {
        "id": "KsME8eWcDmyV"
      },
      "source": [
        "%%bash \n",
        "source activate DeepDTAF_env && python main.py"
      ],
      "execution_count": null,
      "outputs": []
    },
    {
      "cell_type": "code",
      "metadata": {
        "colab": {
          "base_uri": "https://localhost:8080/"
        },
        "id": "V2egG3GMCtps",
        "outputId": "202ee1ec-29d8-4570-ed75-2c7fa85726d2"
      },
      "source": [
        ""
      ],
      "execution_count": 43,
      "outputs": [
        {
          "output_type": "stream",
          "name": "stdout",
          "text": [
            "Traceback (most recent call last):\n",
            "  File \"/usr/local/cuda-11.1/DeepDTAF/apex/setup.py\", line 1, in <module>\n",
            "    import torch\n",
            "ModuleNotFoundError: No module named 'torch'\n"
          ]
        }
      ]
    }
  ]
}